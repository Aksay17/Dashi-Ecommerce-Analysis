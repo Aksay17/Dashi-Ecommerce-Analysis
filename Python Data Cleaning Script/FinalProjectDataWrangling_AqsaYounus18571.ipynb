{
 "cells": [
  {
   "cell_type": "markdown",
   "id": "fdc709a5",
   "metadata": {},
   "source": [
    "Name: Aqsa Younus,\n",
    "ERP: 18571,\n",
    "Dataset type: E-commerce (Dashi Foods)"
   ]
  },
  {
   "cell_type": "markdown",
   "id": "5dced228",
   "metadata": {},
   "source": [
    "# Final Project Data Wrangling"
   ]
  },
  {
   "cell_type": "markdown",
   "id": "8b1a2094",
   "metadata": {},
   "source": [
    "- This is the Dashi Foods Dataset. An interesting e-commerce dataset with six data sheets as follows:\n",
    "    - Customer Ledger\n",
    "    - Customer\n",
    "    - Data Dump\n",
    "    - Items\n",
    "    - Purchase\n",
    "    - Customer wise\n",
    "    "
   ]
  },
  {
   "cell_type": "markdown",
   "id": "4df8c463",
   "metadata": {},
   "source": [
    "- This ipython file is dedicated to extensive data wrangling of all 6 of these excel sheets in order to extract insights over KPIs and Dimensions"
   ]
  },
  {
   "cell_type": "markdown",
   "id": "c435d14e",
   "metadata": {},
   "source": [
    "## Objectives of Data Wrangling\n",
    "\n",
    "- To understand and explore the dataset thoroughly \n",
    "- To extract KPIs and Dimensions \n",
    "- To clean data for further analysis \n",
    "- To illustrate the correlation between columns and sheets \n",
    "- To ensure the correct modifications are made in order to extract details that would assist in data analysis"
   ]
  },
  {
   "cell_type": "markdown",
   "id": "affc0373",
   "metadata": {},
   "source": [
    "## Assumptions\n",
    "\n",
    "- I have tried keeping the assumptions as minimal as possible. A lot of research has been put into understanding the business. Explanations are provided in each step. Further elaborations are given in the document attached. \n",
    "- I am a person of habit, and I have been following the template that I created for the first data wrangling assignment which is why I did not remove the assumptions part. This part may be updated at any given point of the data wrangling process"
   ]
  },
  {
   "cell_type": "markdown",
   "id": "93cb14bb",
   "metadata": {},
   "source": [
    "# Step 1\n",
    "\n",
    "- Adding all imports that are deemed necessary for data wrangling"
   ]
  },
  {
   "cell_type": "code",
   "execution_count": 249,
   "id": "45b6b996",
   "metadata": {},
   "outputs": [],
   "source": [
    "import pandas as pd\n",
    "import numpy as np\n",
    "from matplotlib import pyplot as plt\n",
    "import seaborn as sns\n",
    "import missingno as msno\n",
    "from scipy import stats\n",
    "import csv\n",
    "from sklearn.impute import SimpleImputer\n",
    "import warnings\n",
    "import statsmodels.api as sm  \n",
    "from statsmodels.formula.api import ols  \n",
    "import random as r\n",
    "from datetime import datetime\n",
    "from scipy.stats import chi2_contingency\n",
    "from scipy.stats import chi2\n",
    "import statsmodels.api as sm\n",
    "from statsmodels.formula.api import ols\n",
    "from statsmodels.stats.multicomp import pairwise_tukeyhsd"
   ]
  },
  {
   "cell_type": "markdown",
   "id": "cc06190d",
   "metadata": {},
   "source": [
    "# Step 2 and 3 \n",
    "\n",
    "- Upload dataset\n",
    "- Check for missing values\n",
    "- changing types of the columns\n",
    "- checking for unique values and other nuances of the dataset\n",
    "- make data uniform where needed\n",
    "- checking for data correlation"
   ]
  },
  {
   "cell_type": "code",
   "execution_count": 250,
   "id": "62871bb3",
   "metadata": {},
   "outputs": [
    {
     "data": {
      "text/html": [
       "<div>\n",
       "<style scoped>\n",
       "    .dataframe tbody tr th:only-of-type {\n",
       "        vertical-align: middle;\n",
       "    }\n",
       "\n",
       "    .dataframe tbody tr th {\n",
       "        vertical-align: top;\n",
       "    }\n",
       "\n",
       "    .dataframe thead th {\n",
       "        text-align: right;\n",
       "    }\n",
       "</style>\n",
       "<table border=\"1\" class=\"dataframe\">\n",
       "  <thead>\n",
       "    <tr style=\"text-align: right;\">\n",
       "      <th></th>\n",
       "      <th>TranNo</th>\n",
       "      <th>TranDate</th>\n",
       "      <th>Remarks</th>\n",
       "      <th>RefNo</th>\n",
       "      <th>RefDate</th>\n",
       "      <th>CustomerID</th>\n",
       "      <th>CustomerTitle</th>\n",
       "      <th>Amount</th>\n",
       "      <th>TranType</th>\n",
       "      <th>TranOrder</th>\n",
       "      <th>DestinationRefNo</th>\n",
       "    </tr>\n",
       "  </thead>\n",
       "  <tbody>\n",
       "    <tr>\n",
       "      <th>0</th>\n",
       "      <td>1819-000135</td>\n",
       "      <td>17/12/2018</td>\n",
       "      <td>NaN</td>\n",
       "      <td>kawish</td>\n",
       "      <td>01/01/1900</td>\n",
       "      <td>1645</td>\n",
       "      <td>kawish jodia</td>\n",
       "      <td>-7,370.00</td>\n",
       "      <td>Receipt</td>\n",
       "      <td>1</td>\n",
       "      <td>1</td>\n",
       "    </tr>\n",
       "    <tr>\n",
       "      <th>1</th>\n",
       "      <td>CCN1819-000047</td>\n",
       "      <td>31/12/2018</td>\n",
       "      <td>opening adjust</td>\n",
       "      <td>NaN</td>\n",
       "      <td>06/02/2019</td>\n",
       "      <td>1645</td>\n",
       "      <td>kawish jodia</td>\n",
       "      <td>-7,416.00</td>\n",
       "      <td>CrNote</td>\n",
       "      <td>4</td>\n",
       "      <td>1</td>\n",
       "    </tr>\n",
       "    <tr>\n",
       "      <th>2</th>\n",
       "      <td>CCN1819-000048</td>\n",
       "      <td>06/02/2019</td>\n",
       "      <td>Purchase white Zeera 40kgs @600/kg approved by...</td>\n",
       "      <td>NaN</td>\n",
       "      <td>06/02/2019</td>\n",
       "      <td>1645</td>\n",
       "      <td>kawish jodia</td>\n",
       "      <td>-24,000.00</td>\n",
       "      <td>CrNote</td>\n",
       "      <td>4</td>\n",
       "      <td>1</td>\n",
       "    </tr>\n",
       "    <tr>\n",
       "      <th>3</th>\n",
       "      <td>1819-000826</td>\n",
       "      <td>08/02/2019</td>\n",
       "      <td>c.white 288pec</td>\n",
       "      <td>NaN</td>\n",
       "      <td>NaN</td>\n",
       "      <td>1645</td>\n",
       "      <td>kawish jodia</td>\n",
       "      <td>38,760.00</td>\n",
       "      <td>Invoice</td>\n",
       "      <td>4</td>\n",
       "      <td>1</td>\n",
       "    </tr>\n",
       "    <tr>\n",
       "      <th>4</th>\n",
       "      <td>CDN1819-000131</td>\n",
       "      <td>12/03/2019</td>\n",
       "      <td>account set</td>\n",
       "      <td>NaN</td>\n",
       "      <td>12/03/2019</td>\n",
       "      <td>1645</td>\n",
       "      <td>kawish jodia</td>\n",
       "      <td>26.00</td>\n",
       "      <td>DrNote</td>\n",
       "      <td>4</td>\n",
       "      <td>1</td>\n",
       "    </tr>\n",
       "  </tbody>\n",
       "</table>\n",
       "</div>"
      ],
      "text/plain": [
       "           TranNo    TranDate  \\\n",
       "0     1819-000135  17/12/2018   \n",
       "1  CCN1819-000047  31/12/2018   \n",
       "2  CCN1819-000048  06/02/2019   \n",
       "3     1819-000826  08/02/2019   \n",
       "4  CDN1819-000131  12/03/2019   \n",
       "\n",
       "                                             Remarks   RefNo     RefDate  \\\n",
       "0                                                NaN  kawish  01/01/1900   \n",
       "1                                    opening adjust      NaN  06/02/2019   \n",
       "2  Purchase white Zeera 40kgs @600/kg approved by...     NaN  06/02/2019   \n",
       "3                                    c.white 288pec      NaN         NaN   \n",
       "4                                       account set      NaN  12/03/2019   \n",
       "\n",
       "   CustomerID CustomerTitle      Amount TranType  TranOrder  DestinationRefNo  \n",
       "0        1645  kawish jodia   -7,370.00  Receipt          1                 1  \n",
       "1        1645  kawish jodia   -7,416.00   CrNote          4                 1  \n",
       "2        1645  kawish jodia  -24,000.00   CrNote          4                 1  \n",
       "3        1645  kawish jodia   38,760.00  Invoice          4                 1  \n",
       "4        1645  kawish jodia       26.00   DrNote          4                 1  "
      ]
     },
     "execution_count": 250,
     "metadata": {},
     "output_type": "execute_result"
    }
   ],
   "source": [
    "#uploading csv file\n",
    "df1 = pd.read_csv (r'C:\\Users\\Hp\\Downloads\\Customer_Ledger.csv')\n",
    "df2 = pd.read_csv (r'C:\\Users\\Hp\\Downloads\\Customer.csv')\n",
    "df3 = pd.read_csv (r'C:\\Users\\Hp\\Downloads\\CustomerWise.csv')\n",
    "df4 = pd.read_csv (r'C:\\Users\\Hp\\Downloads\\DataDump4.csv')\n",
    "df5 = pd.read_csv (r'C:\\Users\\Hp\\Downloads\\Item.csv')\n",
    "df6 = pd.read_csv (r'C:\\Users\\Hp\\Downloads\\Purchase.csv')\n",
    "\n",
    "#checking what kind of columns are we dealing with\n",
    "df1.head()"
   ]
  },
  {
   "cell_type": "code",
   "execution_count": 251,
   "id": "dda1a4ba",
   "metadata": {},
   "outputs": [
    {
     "data": {
      "text/html": [
       "<div>\n",
       "<style scoped>\n",
       "    .dataframe tbody tr th:only-of-type {\n",
       "        vertical-align: middle;\n",
       "    }\n",
       "\n",
       "    .dataframe tbody tr th {\n",
       "        vertical-align: top;\n",
       "    }\n",
       "\n",
       "    .dataframe thead th {\n",
       "        text-align: right;\n",
       "    }\n",
       "</style>\n",
       "<table border=\"1\" class=\"dataframe\">\n",
       "  <thead>\n",
       "    <tr style=\"text-align: right;\">\n",
       "      <th></th>\n",
       "      <th>CustomerCode</th>\n",
       "      <th>CustomerTitle</th>\n",
       "      <th>DestinationCategoryTitle</th>\n",
       "      <th>DestinationGroupTitle</th>\n",
       "      <th>Email</th>\n",
       "      <th>ContactNumber</th>\n",
       "      <th>MobileNumber</th>\n",
       "      <th>CreditDays</th>\n",
       "      <th>ISRegistered</th>\n",
       "      <th>STRegistrationNo</th>\n",
       "      <th>AccountCode</th>\n",
       "      <th>AccountTitle</th>\n",
       "      <th>NTN</th>\n",
       "      <th>NationalTitle</th>\n",
       "      <th>RegionTitle</th>\n",
       "      <th>TerritoryTitle</th>\n",
       "      <th>TownTitle</th>\n",
       "      <th>ZoneTitle</th>\n",
       "      <th>Active</th>\n",
       "      <th>Address</th>\n",
       "    </tr>\n",
       "  </thead>\n",
       "  <tbody>\n",
       "    <tr>\n",
       "      <th>0</th>\n",
       "      <td>1</td>\n",
       "      <td>kawish jodia</td>\n",
       "      <td>trader</td>\n",
       "      <td>adil</td>\n",
       "      <td>ali.qamber@atlashonda.com.pk</td>\n",
       "      <td>021-32575561</td>\n",
       "      <td>0332-2483905</td>\n",
       "      <td>30</td>\n",
       "      <td>Yes</td>\n",
       "      <td>0</td>\n",
       "      <td>101002001</td>\n",
       "      <td>Account Receivable</td>\n",
       "      <td>3771196-2</td>\n",
       "      <td>None</td>\n",
       "      <td>None</td>\n",
       "      <td>None</td>\n",
       "      <td>karachi</td>\n",
       "      <td>sindh</td>\n",
       "      <td>Yes</td>\n",
       "      <td>F-36, ESTATE AVENUE, S.I.T.E. KARACHI</td>\n",
       "    </tr>\n",
       "    <tr>\n",
       "      <th>1</th>\n",
       "      <td>2</td>\n",
       "      <td>Bashir &amp; Sons</td>\n",
       "      <td>trader</td>\n",
       "      <td>adnan</td>\n",
       "      <td>mwhaque@atlashonda.com.pk</td>\n",
       "      <td>021-32575561</td>\n",
       "      <td>0333-2196823</td>\n",
       "      <td>30</td>\n",
       "      <td>Yes</td>\n",
       "      <td>0</td>\n",
       "      <td>101002001</td>\n",
       "      <td>Account Receivable</td>\n",
       "      <td>0801063-3</td>\n",
       "      <td>None</td>\n",
       "      <td>None</td>\n",
       "      <td>None</td>\n",
       "      <td>lahore</td>\n",
       "      <td>punjab</td>\n",
       "      <td>Yes</td>\n",
       "      <td>F-36, ESTATE AVENUE, S.I.T.E. KARACHI</td>\n",
       "    </tr>\n",
       "    <tr>\n",
       "      <th>2</th>\n",
       "      <td>3</td>\n",
       "      <td>Ghulam Abbas jodia</td>\n",
       "      <td>trader</td>\n",
       "      <td>adnan</td>\n",
       "      <td>arslan.amin@atlashitec.com.pk</td>\n",
       "      <td>021-32575561</td>\n",
       "      <td>+92 (333) 3550323</td>\n",
       "      <td>30</td>\n",
       "      <td>Yes</td>\n",
       "      <td>0</td>\n",
       "      <td>101002001</td>\n",
       "      <td>Account Receivable</td>\n",
       "      <td>4040362-9</td>\n",
       "      <td>None</td>\n",
       "      <td>None</td>\n",
       "      <td>None</td>\n",
       "      <td>karachi</td>\n",
       "      <td>sindh</td>\n",
       "      <td>Yes</td>\n",
       "      <td>F-36, ESTATE AVENUE, S.I.T.E. KARACHI</td>\n",
       "    </tr>\n",
       "    <tr>\n",
       "      <th>3</th>\n",
       "      <td>4</td>\n",
       "      <td>Prawn ckr Sadrudin impres market</td>\n",
       "      <td>trader</td>\n",
       "      <td>adil</td>\n",
       "      <td>None@gmail.com</td>\n",
       "      <td>-</td>\n",
       "      <td>-</td>\n",
       "      <td>30</td>\n",
       "      <td>Yes</td>\n",
       "      <td>0</td>\n",
       "      <td>101002001</td>\n",
       "      <td>Account Receivable</td>\n",
       "      <td>-</td>\n",
       "      <td>None</td>\n",
       "      <td>None</td>\n",
       "      <td>None</td>\n",
       "      <td>karachi</td>\n",
       "      <td>sindh</td>\n",
       "      <td>Yes</td>\n",
       "      <td>None</td>\n",
       "    </tr>\n",
       "    <tr>\n",
       "      <th>4</th>\n",
       "      <td>5</td>\n",
       "      <td>Umar ckr</td>\n",
       "      <td>trader</td>\n",
       "      <td>adnan</td>\n",
       "      <td>None@gmail.com</td>\n",
       "      <td>-</td>\n",
       "      <td>-</td>\n",
       "      <td>30</td>\n",
       "      <td>Yes</td>\n",
       "      <td>0</td>\n",
       "      <td>101002001</td>\n",
       "      <td>Account Receivable</td>\n",
       "      <td>-</td>\n",
       "      <td>None</td>\n",
       "      <td>None</td>\n",
       "      <td>None</td>\n",
       "      <td>karachi</td>\n",
       "      <td>sindh</td>\n",
       "      <td>Yes</td>\n",
       "      <td>None</td>\n",
       "    </tr>\n",
       "  </tbody>\n",
       "</table>\n",
       "</div>"
      ],
      "text/plain": [
       "   CustomerCode                     CustomerTitle DestinationCategoryTitle  \\\n",
       "0             1                      kawish jodia                   trader   \n",
       "1             2                     Bashir & Sons                   trader   \n",
       "2             3                Ghulam Abbas jodia                   trader   \n",
       "3             4  Prawn ckr Sadrudin impres market                   trader   \n",
       "4             5                          Umar ckr                   trader   \n",
       "\n",
       "  DestinationGroupTitle                          Email ContactNumber  \\\n",
       "0                  adil   ali.qamber@atlashonda.com.pk  021-32575561   \n",
       "1                 adnan      mwhaque@atlashonda.com.pk  021-32575561   \n",
       "2                 adnan  arslan.amin@atlashitec.com.pk  021-32575561   \n",
       "3                  adil                 None@gmail.com             -   \n",
       "4                 adnan                 None@gmail.com             -   \n",
       "\n",
       "        MobileNumber  CreditDays ISRegistered  STRegistrationNo  AccountCode  \\\n",
       "0       0332-2483905          30          Yes                 0    101002001   \n",
       "1       0333-2196823          30          Yes                 0    101002001   \n",
       "2  +92 (333) 3550323          30          Yes                 0    101002001   \n",
       "3                  -          30          Yes                 0    101002001   \n",
       "4                  -          30          Yes                 0    101002001   \n",
       "\n",
       "         AccountTitle        NTN NationalTitle RegionTitle TerritoryTitle  \\\n",
       "0  Account Receivable  3771196-2          None        None           None   \n",
       "1  Account Receivable  0801063-3          None        None           None   \n",
       "2  Account Receivable  4040362-9          None        None           None   \n",
       "3  Account Receivable          -          None        None           None   \n",
       "4  Account Receivable          -          None        None           None   \n",
       "\n",
       "  TownTitle ZoneTitle Active                                Address  \n",
       "0   karachi     sindh    Yes  F-36, ESTATE AVENUE, S.I.T.E. KARACHI  \n",
       "1    lahore    punjab    Yes  F-36, ESTATE AVENUE, S.I.T.E. KARACHI  \n",
       "2   karachi     sindh    Yes  F-36, ESTATE AVENUE, S.I.T.E. KARACHI  \n",
       "3   karachi     sindh    Yes                                   None  \n",
       "4   karachi     sindh    Yes                                   None  "
      ]
     },
     "execution_count": 251,
     "metadata": {},
     "output_type": "execute_result"
    }
   ],
   "source": [
    "df2.head()"
   ]
  },
  {
   "cell_type": "code",
   "execution_count": 252,
   "id": "f0d3f406",
   "metadata": {},
   "outputs": [
    {
     "data": {
      "text/html": [
       "<div>\n",
       "<style scoped>\n",
       "    .dataframe tbody tr th:only-of-type {\n",
       "        vertical-align: middle;\n",
       "    }\n",
       "\n",
       "    .dataframe tbody tr th {\n",
       "        vertical-align: top;\n",
       "    }\n",
       "\n",
       "    .dataframe thead th {\n",
       "        text-align: right;\n",
       "    }\n",
       "</style>\n",
       "<table border=\"1\" class=\"dataframe\">\n",
       "  <thead>\n",
       "    <tr style=\"text-align: right;\">\n",
       "      <th></th>\n",
       "      <th>Transaction ID</th>\n",
       "      <th>Transaction Date</th>\n",
       "      <th>Customer Title</th>\n",
       "      <th>Item ID</th>\n",
       "      <th>Item Title</th>\n",
       "      <th>Unit Title</th>\n",
       "      <th>Quantity</th>\n",
       "      <th>Rate</th>\n",
       "      <th>Gross Amount</th>\n",
       "      <th>Discount Amount</th>\n",
       "      <th>Value Excl Tax</th>\n",
       "      <th>Tax Amount</th>\n",
       "      <th>Net Amount</th>\n",
       "    </tr>\n",
       "  </thead>\n",
       "  <tbody>\n",
       "    <tr>\n",
       "      <th>0</th>\n",
       "      <td>1819-000004</td>\n",
       "      <td>14/12/2018</td>\n",
       "      <td>Haram traders shahfaisal</td>\n",
       "      <td>55.0</td>\n",
       "      <td>HOT AND SOUR SOUP 55 GM</td>\n",
       "      <td>pcs</td>\n",
       "      <td>576.00</td>\n",
       "      <td>50.00</td>\n",
       "      <td>28,800.00</td>\n",
       "      <td>3,456.00</td>\n",
       "      <td>25344.0</td>\n",
       "      <td>0.0</td>\n",
       "      <td>25,344.00</td>\n",
       "    </tr>\n",
       "    <tr>\n",
       "      <th>1</th>\n",
       "      <td>1819-000004</td>\n",
       "      <td>14/12/2018</td>\n",
       "      <td>Haram traders shahfaisal</td>\n",
       "      <td>3.0</td>\n",
       "      <td>SEASONING CHICKEN POWDER 18GM</td>\n",
       "      <td>pcs</td>\n",
       "      <td>5,760.00</td>\n",
       "      <td>12.00</td>\n",
       "      <td>69,120.00</td>\n",
       "      <td>8,294.40</td>\n",
       "      <td>60825.6</td>\n",
       "      <td>0.0</td>\n",
       "      <td>60,825.60</td>\n",
       "    </tr>\n",
       "    <tr>\n",
       "      <th>2</th>\n",
       "      <td>1819-000004</td>\n",
       "      <td>14/12/2018</td>\n",
       "      <td>Haram traders shahfaisal</td>\n",
       "      <td>175.0</td>\n",
       "      <td>PAPAD CRACKER BUTTON COLOR 1KG</td>\n",
       "      <td>kg</td>\n",
       "      <td>24.00</td>\n",
       "      <td>160.00</td>\n",
       "      <td>3,840.00</td>\n",
       "      <td>460.80</td>\n",
       "      <td>3379.2</td>\n",
       "      <td>0.0</td>\n",
       "      <td>3,379.20</td>\n",
       "    </tr>\n",
       "    <tr>\n",
       "      <th>3</th>\n",
       "      <td>1819-000004</td>\n",
       "      <td>14/12/2018</td>\n",
       "      <td>Haram traders shahfaisal</td>\n",
       "      <td>40.0</td>\n",
       "      <td>PAPAD CRACKER COLOR 1KG</td>\n",
       "      <td>kg</td>\n",
       "      <td>144.00</td>\n",
       "      <td>160.00</td>\n",
       "      <td>23,040.00</td>\n",
       "      <td>2,764.80</td>\n",
       "      <td>20275.2</td>\n",
       "      <td>0.0</td>\n",
       "      <td>20,275.20</td>\n",
       "    </tr>\n",
       "    <tr>\n",
       "      <th>4</th>\n",
       "      <td>1819-000004</td>\n",
       "      <td>14/12/2018</td>\n",
       "      <td>Haram traders shahfaisal</td>\n",
       "      <td>6.0</td>\n",
       "      <td>SEASONING CHICKEN POWDER POUCH 1KG</td>\n",
       "      <td>pcs</td>\n",
       "      <td>144.00</td>\n",
       "      <td>400.00</td>\n",
       "      <td>57,600.00</td>\n",
       "      <td>6,912.00</td>\n",
       "      <td>50688.0</td>\n",
       "      <td>0.0</td>\n",
       "      <td>50,688.00</td>\n",
       "    </tr>\n",
       "  </tbody>\n",
       "</table>\n",
       "</div>"
      ],
      "text/plain": [
       "  Transaction ID Transaction Date            Customer Title  Item ID  \\\n",
       "0    1819-000004       14/12/2018  Haram traders shahfaisal     55.0   \n",
       "1    1819-000004       14/12/2018  Haram traders shahfaisal      3.0   \n",
       "2    1819-000004       14/12/2018  Haram traders shahfaisal    175.0   \n",
       "3    1819-000004       14/12/2018  Haram traders shahfaisal     40.0   \n",
       "4    1819-000004       14/12/2018  Haram traders shahfaisal      6.0   \n",
       "\n",
       "                           Item Title Unit Title  Quantity    Rate  \\\n",
       "0             HOT AND SOUR SOUP 55 GM        pcs    576.00   50.00   \n",
       "1       SEASONING CHICKEN POWDER 18GM        pcs  5,760.00   12.00   \n",
       "2     PAPAD CRACKER BUTTON COLOR 1KG          kg     24.00  160.00   \n",
       "3            PAPAD CRACKER COLOR 1KG          kg    144.00  160.00   \n",
       "4  SEASONING CHICKEN POWDER POUCH 1KG        pcs    144.00  400.00   \n",
       "\n",
       "  Gross Amount Discount Amount  Value Excl Tax  Tax Amount Net Amount  \n",
       "0    28,800.00        3,456.00         25344.0         0.0  25,344.00  \n",
       "1    69,120.00        8,294.40         60825.6         0.0  60,825.60  \n",
       "2     3,840.00          460.80          3379.2         0.0   3,379.20  \n",
       "3    23,040.00        2,764.80         20275.2         0.0  20,275.20  \n",
       "4    57,600.00        6,912.00         50688.0         0.0  50,688.00  "
      ]
     },
     "execution_count": 252,
     "metadata": {},
     "output_type": "execute_result"
    }
   ],
   "source": [
    "df3.head()"
   ]
  },
  {
   "cell_type": "code",
   "execution_count": 254,
   "id": "aa83f8f0",
   "metadata": {},
   "outputs": [
    {
     "data": {
      "text/html": [
       "<div>\n",
       "<style scoped>\n",
       "    .dataframe tbody tr th:only-of-type {\n",
       "        vertical-align: middle;\n",
       "    }\n",
       "\n",
       "    .dataframe tbody tr th {\n",
       "        vertical-align: top;\n",
       "    }\n",
       "\n",
       "    .dataframe thead th {\n",
       "        text-align: right;\n",
       "    }\n",
       "</style>\n",
       "<table border=\"1\" class=\"dataframe\">\n",
       "  <thead>\n",
       "    <tr style=\"text-align: right;\">\n",
       "      <th></th>\n",
       "      <th>sync_time</th>\n",
       "      <th>customerId</th>\n",
       "      <th>Customer</th>\n",
       "      <th>area_Id</th>\n",
       "      <th>Area</th>\n",
       "      <th>town_id</th>\n",
       "      <th>Town</th>\n",
       "      <th>City_id</th>\n",
       "      <th>City</th>\n",
       "      <th>ZoneId</th>\n",
       "      <th>...</th>\n",
       "      <th>amount</th>\n",
       "      <th>Rate</th>\n",
       "      <th>employeeId</th>\n",
       "      <th>employeeName</th>\n",
       "      <th>distributorId</th>\n",
       "      <th>distributorName</th>\n",
       "      <th>ProductBrandId</th>\n",
       "      <th>BrandName</th>\n",
       "      <th>ProductCategoryId</th>\n",
       "      <th>ProductCategoryName</th>\n",
       "    </tr>\n",
       "  </thead>\n",
       "  <tbody>\n",
       "    <tr>\n",
       "      <th>0</th>\n",
       "      <td>11/30/2021 16:39</td>\n",
       "      <td>51278</td>\n",
       "      <td>Baba Oil Shop</td>\n",
       "      <td>3229</td>\n",
       "      <td>FATIMA JINNAH COLONY</td>\n",
       "      <td>113</td>\n",
       "      <td>Karachi</td>\n",
       "      <td>129</td>\n",
       "      <td>Karachi</td>\n",
       "      <td>1</td>\n",
       "      <td>...</td>\n",
       "      <td>624.00</td>\n",
       "      <td>13.00</td>\n",
       "      <td>545</td>\n",
       "      <td>Muzzamil</td>\n",
       "      <td>93</td>\n",
       "      <td>asad enterprise</td>\n",
       "      <td>66</td>\n",
       "      <td>Dashi</td>\n",
       "      <td>10</td>\n",
       "      <td>retail</td>\n",
       "    </tr>\n",
       "    <tr>\n",
       "      <th>1</th>\n",
       "      <td>11/30/2021 16:39</td>\n",
       "      <td>51278</td>\n",
       "      <td>Baba Oil Shop</td>\n",
       "      <td>3229</td>\n",
       "      <td>FATIMA JINNAH COLONY</td>\n",
       "      <td>113</td>\n",
       "      <td>Karachi</td>\n",
       "      <td>129</td>\n",
       "      <td>Karachi</td>\n",
       "      <td>1</td>\n",
       "      <td>...</td>\n",
       "      <td>1680.00</td>\n",
       "      <td>70.00</td>\n",
       "      <td>545</td>\n",
       "      <td>Muzzamil</td>\n",
       "      <td>93</td>\n",
       "      <td>asad enterprise</td>\n",
       "      <td>66</td>\n",
       "      <td>Dashi</td>\n",
       "      <td>10</td>\n",
       "      <td>retail</td>\n",
       "    </tr>\n",
       "    <tr>\n",
       "      <th>2</th>\n",
       "      <td>11/30/2021 16:40</td>\n",
       "      <td>51279</td>\n",
       "      <td>Obaid Shop</td>\n",
       "      <td>3229</td>\n",
       "      <td>FATIMA JINNAH COLONY</td>\n",
       "      <td>113</td>\n",
       "      <td>Karachi</td>\n",
       "      <td>129</td>\n",
       "      <td>Karachi</td>\n",
       "      <td>1</td>\n",
       "      <td>...</td>\n",
       "      <td>156.00</td>\n",
       "      <td>13.00</td>\n",
       "      <td>545</td>\n",
       "      <td>Muzzamil</td>\n",
       "      <td>93</td>\n",
       "      <td>asad enterprise</td>\n",
       "      <td>66</td>\n",
       "      <td>Dashi</td>\n",
       "      <td>10</td>\n",
       "      <td>retail</td>\n",
       "    </tr>\n",
       "    <tr>\n",
       "      <th>3</th>\n",
       "      <td>11/30/2021 16:40</td>\n",
       "      <td>51279</td>\n",
       "      <td>Obaid Shop</td>\n",
       "      <td>3229</td>\n",
       "      <td>FATIMA JINNAH COLONY</td>\n",
       "      <td>113</td>\n",
       "      <td>Karachi</td>\n",
       "      <td>129</td>\n",
       "      <td>Karachi</td>\n",
       "      <td>1</td>\n",
       "      <td>...</td>\n",
       "      <td>99.96</td>\n",
       "      <td>8.33</td>\n",
       "      <td>545</td>\n",
       "      <td>Muzzamil</td>\n",
       "      <td>93</td>\n",
       "      <td>asad enterprise</td>\n",
       "      <td>68</td>\n",
       "      <td>Funchies</td>\n",
       "      <td>10</td>\n",
       "      <td>retail</td>\n",
       "    </tr>\n",
       "    <tr>\n",
       "      <th>4</th>\n",
       "      <td>11/30/2021 16:40</td>\n",
       "      <td>51279</td>\n",
       "      <td>Obaid Shop</td>\n",
       "      <td>3229</td>\n",
       "      <td>FATIMA JINNAH COLONY</td>\n",
       "      <td>113</td>\n",
       "      <td>Karachi</td>\n",
       "      <td>129</td>\n",
       "      <td>Karachi</td>\n",
       "      <td>1</td>\n",
       "      <td>...</td>\n",
       "      <td>99.96</td>\n",
       "      <td>8.33</td>\n",
       "      <td>545</td>\n",
       "      <td>Muzzamil</td>\n",
       "      <td>93</td>\n",
       "      <td>asad enterprise</td>\n",
       "      <td>68</td>\n",
       "      <td>Funchies</td>\n",
       "      <td>10</td>\n",
       "      <td>retail</td>\n",
       "    </tr>\n",
       "  </tbody>\n",
       "</table>\n",
       "<p>5 rows × 26 columns</p>\n",
       "</div>"
      ],
      "text/plain": [
       "          sync_time  customerId       Customer  area_Id                  Area  \\\n",
       "0  11/30/2021 16:39       51278  Baba Oil Shop     3229  FATIMA JINNAH COLONY   \n",
       "1  11/30/2021 16:39       51278  Baba Oil Shop     3229  FATIMA JINNAH COLONY   \n",
       "2  11/30/2021 16:40       51279     Obaid Shop     3229  FATIMA JINNAH COLONY   \n",
       "3  11/30/2021 16:40       51279     Obaid Shop     3229  FATIMA JINNAH COLONY   \n",
       "4  11/30/2021 16:40       51279     Obaid Shop     3229  FATIMA JINNAH COLONY   \n",
       "\n",
       "   town_id     Town  City_id     City  ZoneId  ...   amount   Rate employeeId  \\\n",
       "0      113  Karachi      129  Karachi       1  ...   624.00  13.00        545   \n",
       "1      113  Karachi      129  Karachi       1  ...  1680.00  70.00        545   \n",
       "2      113  Karachi      129  Karachi       1  ...   156.00  13.00        545   \n",
       "3      113  Karachi      129  Karachi       1  ...    99.96   8.33        545   \n",
       "4      113  Karachi      129  Karachi       1  ...    99.96   8.33        545   \n",
       "\n",
       "   employeeName  distributorId  distributorName  ProductBrandId  BrandName  \\\n",
       "0      Muzzamil             93  asad enterprise              66      Dashi   \n",
       "1      Muzzamil             93  asad enterprise              66      Dashi   \n",
       "2      Muzzamil             93  asad enterprise              66      Dashi   \n",
       "3      Muzzamil             93  asad enterprise              68   Funchies   \n",
       "4      Muzzamil             93  asad enterprise              68   Funchies   \n",
       "\n",
       "   ProductCategoryId ProductCategoryName  \n",
       "0                 10              retail  \n",
       "1                 10              retail  \n",
       "2                 10              retail  \n",
       "3                 10              retail  \n",
       "4                 10              retail  \n",
       "\n",
       "[5 rows x 26 columns]"
      ]
     },
     "execution_count": 254,
     "metadata": {},
     "output_type": "execute_result"
    }
   ],
   "source": [
    "df4.head()"
   ]
  },
  {
   "cell_type": "code",
   "execution_count": 255,
   "id": "ba020c98",
   "metadata": {},
   "outputs": [
    {
     "data": {
      "text/html": [
       "<div>\n",
       "<style scoped>\n",
       "    .dataframe tbody tr th:only-of-type {\n",
       "        vertical-align: middle;\n",
       "    }\n",
       "\n",
       "    .dataframe tbody tr th {\n",
       "        vertical-align: top;\n",
       "    }\n",
       "\n",
       "    .dataframe thead th {\n",
       "        text-align: right;\n",
       "    }\n",
       "</style>\n",
       "<table border=\"1\" class=\"dataframe\">\n",
       "  <thead>\n",
       "    <tr style=\"text-align: right;\">\n",
       "      <th></th>\n",
       "      <th>ItemRefNo</th>\n",
       "      <th>ItemTitle</th>\n",
       "      <th>CategoryTitle</th>\n",
       "      <th>SupplierTitle</th>\n",
       "      <th>ClassTitle</th>\n",
       "      <th>GroupTitle</th>\n",
       "      <th>TypeTitle</th>\n",
       "      <th>PackagingTitle</th>\n",
       "      <th>UOMTitle</th>\n",
       "      <th>TaxCategoryTitle</th>\n",
       "      <th>...</th>\n",
       "      <th>IsBatchNoAutoGenerate</th>\n",
       "      <th>IsBatchWiseQuantityAsFullDespatchQuantity</th>\n",
       "      <th>IsCustomDuty</th>\n",
       "      <th>NonInventory</th>\n",
       "      <th>Production</th>\n",
       "      <th>Purchase</th>\n",
       "      <th>QC</th>\n",
       "      <th>QCRequired</th>\n",
       "      <th>Sale</th>\n",
       "      <th>TaxBasedOnCustomer</th>\n",
       "    </tr>\n",
       "  </thead>\n",
       "  <tbody>\n",
       "    <tr>\n",
       "      <th>0</th>\n",
       "      <td>187</td>\n",
       "      <td>Scourer 18gm</td>\n",
       "      <td>Scourer</td>\n",
       "      <td>None</td>\n",
       "      <td>scourer</td>\n",
       "      <td>finished goods</td>\n",
       "      <td>none</td>\n",
       "      <td>None</td>\n",
       "      <td>pcs</td>\n",
       "      <td>None</td>\n",
       "      <td>...</td>\n",
       "      <td>No</td>\n",
       "      <td>No</td>\n",
       "      <td>No</td>\n",
       "      <td>No</td>\n",
       "      <td>No</td>\n",
       "      <td>No</td>\n",
       "      <td>No</td>\n",
       "      <td>No</td>\n",
       "      <td>No</td>\n",
       "      <td>No</td>\n",
       "    </tr>\n",
       "    <tr>\n",
       "      <th>1</th>\n",
       "      <td>188</td>\n",
       "      <td>Scourer 36gm</td>\n",
       "      <td>Scourer</td>\n",
       "      <td>None</td>\n",
       "      <td>scourer</td>\n",
       "      <td>finished goods</td>\n",
       "      <td>none</td>\n",
       "      <td>None</td>\n",
       "      <td>pcs</td>\n",
       "      <td>None</td>\n",
       "      <td>...</td>\n",
       "      <td>No</td>\n",
       "      <td>No</td>\n",
       "      <td>No</td>\n",
       "      <td>No</td>\n",
       "      <td>No</td>\n",
       "      <td>No</td>\n",
       "      <td>No</td>\n",
       "      <td>No</td>\n",
       "      <td>No</td>\n",
       "      <td>No</td>\n",
       "    </tr>\n",
       "    <tr>\n",
       "      <th>2</th>\n",
       "      <td>235</td>\n",
       "      <td>Scourer 20gm</td>\n",
       "      <td>Scourer</td>\n",
       "      <td>None</td>\n",
       "      <td>scourer</td>\n",
       "      <td>finished goods</td>\n",
       "      <td>none</td>\n",
       "      <td>None</td>\n",
       "      <td>pcs</td>\n",
       "      <td>None</td>\n",
       "      <td>...</td>\n",
       "      <td>No</td>\n",
       "      <td>No</td>\n",
       "      <td>No</td>\n",
       "      <td>No</td>\n",
       "      <td>No</td>\n",
       "      <td>No</td>\n",
       "      <td>No</td>\n",
       "      <td>No</td>\n",
       "      <td>No</td>\n",
       "      <td>No</td>\n",
       "    </tr>\n",
       "    <tr>\n",
       "      <th>3</th>\n",
       "      <td>408</td>\n",
       "      <td>SCOURER 15GM</td>\n",
       "      <td>Scourer</td>\n",
       "      <td>None</td>\n",
       "      <td>scourer</td>\n",
       "      <td>finished goods</td>\n",
       "      <td>none</td>\n",
       "      <td>None</td>\n",
       "      <td>pcs</td>\n",
       "      <td>None</td>\n",
       "      <td>...</td>\n",
       "      <td>No</td>\n",
       "      <td>No</td>\n",
       "      <td>No</td>\n",
       "      <td>No</td>\n",
       "      <td>No</td>\n",
       "      <td>No</td>\n",
       "      <td>No</td>\n",
       "      <td>No</td>\n",
       "      <td>No</td>\n",
       "      <td>No</td>\n",
       "    </tr>\n",
       "    <tr>\n",
       "      <th>4</th>\n",
       "      <td>184</td>\n",
       "      <td>PAPAD TRIANGLE 500GM</td>\n",
       "      <td>cracker</td>\n",
       "      <td>None</td>\n",
       "      <td>3d</td>\n",
       "      <td>finished goods</td>\n",
       "      <td>none</td>\n",
       "      <td>None</td>\n",
       "      <td>pcs</td>\n",
       "      <td>None</td>\n",
       "      <td>...</td>\n",
       "      <td>No</td>\n",
       "      <td>No</td>\n",
       "      <td>No</td>\n",
       "      <td>No</td>\n",
       "      <td>No</td>\n",
       "      <td>No</td>\n",
       "      <td>No</td>\n",
       "      <td>No</td>\n",
       "      <td>No</td>\n",
       "      <td>No</td>\n",
       "    </tr>\n",
       "  </tbody>\n",
       "</table>\n",
       "<p>5 rows × 28 columns</p>\n",
       "</div>"
      ],
      "text/plain": [
       "   ItemRefNo             ItemTitle CategoryTitle SupplierTitle ClassTitle  \\\n",
       "0        187          Scourer 18gm       Scourer          None    scourer   \n",
       "1        188          Scourer 36gm       Scourer          None    scourer   \n",
       "2        235          Scourer 20gm       Scourer          None    scourer   \n",
       "3        408          SCOURER 15GM       Scourer          None    scourer   \n",
       "4        184  PAPAD TRIANGLE 500GM       cracker          None         3d   \n",
       "\n",
       "       GroupTitle TypeTitle PackagingTitle UOMTitle TaxCategoryTitle  ...  \\\n",
       "0  finished goods      none           None      pcs             None  ...   \n",
       "1  finished goods      none           None      pcs             None  ...   \n",
       "2  finished goods      none           None      pcs             None  ...   \n",
       "3  finished goods      none           None      pcs             None  ...   \n",
       "4  finished goods      none           None      pcs             None  ...   \n",
       "\n",
       "  IsBatchNoAutoGenerate IsBatchWiseQuantityAsFullDespatchQuantity  \\\n",
       "0                    No                                        No   \n",
       "1                    No                                        No   \n",
       "2                    No                                        No   \n",
       "3                    No                                        No   \n",
       "4                    No                                        No   \n",
       "\n",
       "   IsCustomDuty NonInventory  Production Purchase  QC QCRequired Sale  \\\n",
       "0            No           No          No       No  No         No   No   \n",
       "1            No           No          No       No  No         No   No   \n",
       "2            No           No          No       No  No         No   No   \n",
       "3            No           No          No       No  No         No   No   \n",
       "4            No           No          No       No  No         No   No   \n",
       "\n",
       "  TaxBasedOnCustomer  \n",
       "0                 No  \n",
       "1                 No  \n",
       "2                 No  \n",
       "3                 No  \n",
       "4                 No  \n",
       "\n",
       "[5 rows x 28 columns]"
      ]
     },
     "execution_count": 255,
     "metadata": {},
     "output_type": "execute_result"
    }
   ],
   "source": [
    "df5.head()"
   ]
  },
  {
   "cell_type": "code",
   "execution_count": 256,
   "id": "474ef42a",
   "metadata": {},
   "outputs": [
    {
     "data": {
      "text/html": [
       "<div>\n",
       "<style scoped>\n",
       "    .dataframe tbody tr th:only-of-type {\n",
       "        vertical-align: middle;\n",
       "    }\n",
       "\n",
       "    .dataframe tbody tr th {\n",
       "        vertical-align: top;\n",
       "    }\n",
       "\n",
       "    .dataframe thead th {\n",
       "        text-align: right;\n",
       "    }\n",
       "</style>\n",
       "<table border=\"1\" class=\"dataframe\">\n",
       "  <thead>\n",
       "    <tr style=\"text-align: right;\">\n",
       "      <th></th>\n",
       "      <th>Transaction ID</th>\n",
       "      <th>Transaction Date</th>\n",
       "      <th>Supplier ID</th>\n",
       "      <th>Supplier Title</th>\n",
       "      <th>Supplier Category</th>\n",
       "      <th>Project ID</th>\n",
       "      <th>Project Title</th>\n",
       "      <th>Currency ID</th>\n",
       "      <th>Currency Title</th>\n",
       "      <th>Type Title</th>\n",
       "      <th>...</th>\n",
       "      <th>DC Date</th>\n",
       "      <th>StockStatus ID</th>\n",
       "      <th>StockStatus Title</th>\n",
       "      <th>Quantity</th>\n",
       "      <th>Rate</th>\n",
       "      <th>Gross Amount</th>\n",
       "      <th>DiscountAmount</th>\n",
       "      <th>SalesTax Rate</th>\n",
       "      <th>SalesTax Amount</th>\n",
       "      <th>Net Amount</th>\n",
       "    </tr>\n",
       "  </thead>\n",
       "  <tbody>\n",
       "    <tr>\n",
       "      <th>0</th>\n",
       "      <td>1819-000001</td>\n",
       "      <td>12/1/2018</td>\n",
       "      <td>118</td>\n",
       "      <td>Sugar Bashir Sugar (SAAD) JODIA</td>\n",
       "      <td>SERVICES</td>\n",
       "      <td>2</td>\n",
       "      <td>None</td>\n",
       "      <td>1</td>\n",
       "      <td>PAK Rupee</td>\n",
       "      <td>sugar</td>\n",
       "      <td>...</td>\n",
       "      <td>12/21/2018</td>\n",
       "      <td>1</td>\n",
       "      <td>None</td>\n",
       "      <td>1,250.00</td>\n",
       "      <td>52.00</td>\n",
       "      <td>65,000.00</td>\n",
       "      <td>0.0</td>\n",
       "      <td>0.0</td>\n",
       "      <td>0.00</td>\n",
       "      <td>65,000.00</td>\n",
       "    </tr>\n",
       "    <tr>\n",
       "      <th>1</th>\n",
       "      <td>1819-000018</td>\n",
       "      <td>12/4/2018</td>\n",
       "      <td>104</td>\n",
       "      <td>Speciality Printers</td>\n",
       "      <td>PACKING MATERIAL</td>\n",
       "      <td>2</td>\n",
       "      <td>None</td>\n",
       "      <td>1</td>\n",
       "      <td>PAK Rupee</td>\n",
       "      <td>soup &amp; ckp</td>\n",
       "      <td>...</td>\n",
       "      <td>12/24/2018</td>\n",
       "      <td>1</td>\n",
       "      <td>None</td>\n",
       "      <td>897.19</td>\n",
       "      <td>445.00</td>\n",
       "      <td>399,249.55</td>\n",
       "      <td>0.0</td>\n",
       "      <td>0.0</td>\n",
       "      <td>67,872.42</td>\n",
       "      <td>467,121.97</td>\n",
       "    </tr>\n",
       "    <tr>\n",
       "      <th>2</th>\n",
       "      <td>1819-000002</td>\n",
       "      <td>12/4/2018</td>\n",
       "      <td>114</td>\n",
       "      <td>Atif Riaz (Rafhan Corn Starch)</td>\n",
       "      <td>RAW MATERIAL</td>\n",
       "      <td>2</td>\n",
       "      <td>None</td>\n",
       "      <td>1</td>\n",
       "      <td>PAK Rupee</td>\n",
       "      <td>starchCorn</td>\n",
       "      <td>...</td>\n",
       "      <td>12/21/2018</td>\n",
       "      <td>1</td>\n",
       "      <td>None</td>\n",
       "      <td>15,000.00</td>\n",
       "      <td>69.85</td>\n",
       "      <td>1,047,735.00</td>\n",
       "      <td>0.0</td>\n",
       "      <td>0.0</td>\n",
       "      <td>0.00</td>\n",
       "      <td>1,047,735.00</td>\n",
       "    </tr>\n",
       "    <tr>\n",
       "      <th>3</th>\n",
       "      <td>1819-000003</td>\n",
       "      <td>12/4/2018</td>\n",
       "      <td>14</td>\n",
       "      <td>Unity Foods Limited</td>\n",
       "      <td>RAW MATERIAL</td>\n",
       "      <td>2</td>\n",
       "      <td>None</td>\n",
       "      <td>1</td>\n",
       "      <td>PAK Rupee</td>\n",
       "      <td>HPKO</td>\n",
       "      <td>...</td>\n",
       "      <td>12/21/2018</td>\n",
       "      <td>1</td>\n",
       "      <td>None</td>\n",
       "      <td>2,000.00</td>\n",
       "      <td>199.00</td>\n",
       "      <td>398,000.00</td>\n",
       "      <td>0.0</td>\n",
       "      <td>0.0</td>\n",
       "      <td>0.00</td>\n",
       "      <td>398,000.00</td>\n",
       "    </tr>\n",
       "    <tr>\n",
       "      <th>4</th>\n",
       "      <td>1819-000017</td>\n",
       "      <td>12/4/2018</td>\n",
       "      <td>133</td>\n",
       "      <td>Vendor cash partys</td>\n",
       "      <td>SERVICES</td>\n",
       "      <td>2</td>\n",
       "      <td>None</td>\n",
       "      <td>1</td>\n",
       "      <td>PAK Rupee</td>\n",
       "      <td>cornFlour</td>\n",
       "      <td>...</td>\n",
       "      <td>12/24/2018</td>\n",
       "      <td>1</td>\n",
       "      <td>None</td>\n",
       "      <td>200.00</td>\n",
       "      <td>39.00</td>\n",
       "      <td>7,800.00</td>\n",
       "      <td>0.0</td>\n",
       "      <td>0.0</td>\n",
       "      <td>0.00</td>\n",
       "      <td>7,800.00</td>\n",
       "    </tr>\n",
       "  </tbody>\n",
       "</table>\n",
       "<p>5 rows × 32 columns</p>\n",
       "</div>"
      ],
      "text/plain": [
       "  Transaction ID Transaction Date  Supplier ID  \\\n",
       "0    1819-000001        12/1/2018          118   \n",
       "1    1819-000018        12/4/2018          104   \n",
       "2    1819-000002        12/4/2018          114   \n",
       "3    1819-000003        12/4/2018           14   \n",
       "4    1819-000017        12/4/2018          133   \n",
       "\n",
       "                    Supplier Title Supplier Category  Project ID  \\\n",
       "0  Sugar Bashir Sugar (SAAD) JODIA          SERVICES           2   \n",
       "1              Speciality Printers  PACKING MATERIAL           2   \n",
       "2   Atif Riaz (Rafhan Corn Starch)      RAW MATERIAL           2   \n",
       "3              Unity Foods Limited      RAW MATERIAL           2   \n",
       "4               Vendor cash partys          SERVICES           2   \n",
       "\n",
       "  Project Title  Currency ID Currency Title  Type Title  ...     DC Date  \\\n",
       "0          None            1      PAK Rupee       sugar  ...  12/21/2018   \n",
       "1          None            1      PAK Rupee  soup & ckp  ...  12/24/2018   \n",
       "2          None            1      PAK Rupee  starchCorn  ...  12/21/2018   \n",
       "3          None            1      PAK Rupee        HPKO  ...  12/21/2018   \n",
       "4          None            1      PAK Rupee   cornFlour  ...  12/24/2018   \n",
       "\n",
       "  StockStatus ID StockStatus Title   Quantity    Rate  Gross Amount  \\\n",
       "0              1              None   1,250.00   52.00     65,000.00   \n",
       "1              1              None     897.19  445.00    399,249.55   \n",
       "2              1              None  15,000.00   69.85  1,047,735.00   \n",
       "3              1              None   2,000.00  199.00    398,000.00   \n",
       "4              1              None     200.00   39.00      7,800.00   \n",
       "\n",
       "  DiscountAmount SalesTax Rate SalesTax Amount    Net Amount  \n",
       "0            0.0           0.0            0.00     65,000.00  \n",
       "1            0.0           0.0       67,872.42    467,121.97  \n",
       "2            0.0           0.0            0.00  1,047,735.00  \n",
       "3            0.0           0.0            0.00    398,000.00  \n",
       "4            0.0           0.0            0.00      7,800.00  \n",
       "\n",
       "[5 rows x 32 columns]"
      ]
     },
     "execution_count": 256,
     "metadata": {},
     "output_type": "execute_result"
    }
   ],
   "source": [
    "df6.head()"
   ]
  },
  {
   "cell_type": "markdown",
   "id": "346d1f5f",
   "metadata": {},
   "source": [
    "- We will look at each sheet one by one, check for missing values in each and check for data types"
   ]
  },
  {
   "cell_type": "markdown",
   "id": "e20efeed",
   "metadata": {},
   "source": [
    "### Sheet 1 - Customer Ledger"
   ]
  },
  {
   "cell_type": "code",
   "execution_count": 257,
   "id": "0d8e429d",
   "metadata": {
    "scrolled": true
   },
   "outputs": [
    {
     "data": {
      "text/plain": [
       "TranNo              object\n",
       "TranDate            object\n",
       "Remarks             object\n",
       "RefNo               object\n",
       "RefDate             object\n",
       "CustomerID           int64\n",
       "CustomerTitle       object\n",
       "Amount              object\n",
       "TranType            object\n",
       "TranOrder            int64\n",
       "DestinationRefNo     int64\n",
       "dtype: object"
      ]
     },
     "execution_count": 257,
     "metadata": {},
     "output_type": "execute_result"
    }
   ],
   "source": [
    "#checking datatypes that we are dealing with\n",
    "df1.dtypes"
   ]
  },
  {
   "cell_type": "code",
   "execution_count": 258,
   "id": "8b127820",
   "metadata": {},
   "outputs": [],
   "source": [
    "#changing customer ID to object\n",
    "df1['CustomerID'] = df1['CustomerID'].astype('str')"
   ]
  },
  {
   "cell_type": "code",
   "execution_count": 259,
   "id": "d8bdbda5",
   "metadata": {},
   "outputs": [
    {
     "data": {
      "text/plain": [
       "(28978, 11)"
      ]
     },
     "execution_count": 259,
     "metadata": {},
     "output_type": "execute_result"
    }
   ],
   "source": [
    "#checking total number of rows and columns\n",
    "df1.shape"
   ]
  },
  {
   "cell_type": "code",
   "execution_count": 260,
   "id": "20898cb4",
   "metadata": {},
   "outputs": [
    {
     "data": {
      "text/plain": [
       "TranNo                  0\n",
       "TranDate                0\n",
       "Remarks               319\n",
       "RefNo               28470\n",
       "RefDate             12401\n",
       "CustomerID              0\n",
       "CustomerTitle           0\n",
       "Amount                  0\n",
       "TranType                0\n",
       "TranOrder               0\n",
       "DestinationRefNo        0\n",
       "dtype: int64"
      ]
     },
     "execution_count": 260,
     "metadata": {},
     "output_type": "execute_result"
    }
   ],
   "source": [
    "#checking for sum of null values in each column\n",
    "df1.isnull().sum()"
   ]
  },
  {
   "cell_type": "code",
   "execution_count": 261,
   "id": "fc44d808",
   "metadata": {},
   "outputs": [
    {
     "data": {
      "text/plain": [
       "<AxesSubplot:>"
      ]
     },
     "execution_count": 261,
     "metadata": {},
     "output_type": "execute_result"
    },
    {
     "data": {
      "image/png": "[encoded data removed]",
      "text/plain": [
       "<Figure size 1800x720 with 2 Axes>"
      ]
     },
     "metadata": {
      "needs_background": "light"
     },
     "output_type": "display_data"
    }
   ],
   "source": [
    "#checking where the data is missing through matrix \n",
    "msno.matrix(df1)"
   ]
  },
  {
   "cell_type": "markdown",
   "id": "da954c32",
   "metadata": {},
   "source": [
    "## What have we found out about the data so far?\n",
    "\n",
    "- The data seems to have null values in only three columns whereas the rest of the columns do not show any null values. \n",
    "- The null values are in categorical data, therefore we can drop those \n",
    "- Though it is quite visible (the relation between the columns), however, we would still create a heatmap to ensure what steps to take for the null values"
   ]
  },
  {
   "cell_type": "code",
   "execution_count": 262,
   "id": "cea40f71",
   "metadata": {},
   "outputs": [
    {
     "data": {
      "text/plain": [
       "array([nan, 'opening adjust ',\n",
       "       'Purchase white Zeera 40kgs @600/kg approved by faizan ', ...,\n",
       "       'cardboard boxes and carton wastage', 'online yousuf qureshi  ',\n",
       "       'c.p 25kg  20  bags@335/kg\\nbilty#8218/20'], dtype=object)"
      ]
     },
     "execution_count": 262,
     "metadata": {},
     "output_type": "execute_result"
    }
   ],
   "source": [
    "#checking for unique values for the columns with missing values\n",
    "# checking which value values are unique\n",
    "df1.Remarks.unique()"
   ]
  },
  {
   "cell_type": "code",
   "execution_count": 263,
   "id": "49eaecaa",
   "metadata": {},
   "outputs": [
    {
     "data": {
      "text/plain": [
       "array(['kawish', nan, 'rcd cash asim ckr', 'asim ckr', 'rasheed pndi',\n",
       "       '32..raheem chq# 262 hmbl', 'abid chemical fsb',\n",
       "       'abid chemical fsb.', '126..laiq sb', '#566',\n",
       "       'foocha chq # 9416 dubai', 'i.t foocha',\n",
       "       '38..arsalan jodia chq # 1616 hmbl',\n",
       "       '39.arsalan jodia chq # 1513 hmbl', 'cash chq arsalan',\n",
       "       '39# arsaln', '1', '3', '114..foocha 1644 dubai',\n",
       "       '115..anz 1644 albaraka', '116..arsalan', '117# foocha',\n",
       "       'rcd cash arsalan', '129..arsalan', '130..arsalan', '137..foocha',\n",
       "       '139..arsalan', '138..arsalan ', '140..arsalan ', '142..arsalan ',\n",
       "       '141..arsalan ', '163..rcd arsalan', '160..rcd arsalan',\n",
       "       'asif fsb', '123..asif prime', '124..asif prime ',\n",
       "       '122..asif prime', '37..bhayafood chq# 515 hbl',\n",
       "       'rcd online from bin dawood', 'bin dawood 1', '5',\n",
       "       'online bindawood ', 'bindawood', 'online bindawood.. ',\n",
       "       'online hbl rf', '86..', 'kamran mardan', 'kamran mardan 1',\n",
       "       '54..rcd from kolson chq # 0258 faysal', '125..kolson',\n",
       "       '68. rasul flour chq # 2712 mzn', 'riaz fsb', 'online riaz fsb',\n",
       "       'online', 'rcd riaz fsb', 'online riaz fsb..', 'sudlle fodds',\n",
       "       'suddle foods', ' suddle foods ..', ' suddle foods. ',\n",
       "       '26.. zam zam chq # 4498 bah', '24.. zam zam chq # 4774 bah',\n",
       "       '30.. zam zam chq # 3671 bank islami',\n",
       "       '30.. zam zam chq # 3670 bank islami', '23..zam zam chq # 160 hbl',\n",
       "       'zam zam cash', '28..zam zam chq # 7334 mzn', 'zam zam jodia',\n",
       "       'zam zam jodia 1', 'zam zam jodia 2', 'adil quetta cream',\n",
       "       'al kabeer', 'al kabeer cream', 'shahzad rahim yar',\n",
       "       'online shazd ryk', 'rcd online from s & w', 's & w', 's & w.',\n",
       "       's & w.. ', 'online sultan mardan', 'akber lodhi 2', 'akber lodhi',\n",
       "       'akber lodhi..', 'asad ent  3', 'asad ent 2', 'asad ent',\n",
       "       'online from asad ent', 'online from asad ent 1', 'asad ent 1',\n",
       "       'online from asad ent 2', 'rtn stock,salary,incentive,,',\n",
       "       'asad traders', 'asad ent.', 'asad ent..', 'asad ent...',\n",
       "       '6725201', 'atiq sb chq # 8466 mzn', '96', '.',\n",
       "       '1.. haram chq # 8318 bah', '42..rcd from haram chq # 8345 bah',\n",
       "       '60..haram traders chq # 8359 bah', '8356',\n",
       "       '63..haram traders chq # 8358 bah',\n",
       "       '62..haram traders chq # 8357 bah',\n",
       "       '64..haram traders chq # 8355 bah', 'rtn stock,salary,incentive,',\n",
       "       '77', '90..', '91..haram', '101# haram', '103# chq 0682 bah',\n",
       "       'haram rtn stock ', '102..rcd haram', '100..haram', '104.. haram',\n",
       "       'claim regarding the extra discount', 'claim FOC ', '147..haram ',\n",
       "       '146..haram ', 'cash in hand', 'jhandiala', '...',\n",
       "       'rcd from jhandiala', 'jhandiala 2', 'online jhandiala',\n",
       "       '4.. atiq chq # 8318 bah', '8.. atiq chq # 0813 mcb', 'cash',\n",
       "       'atiq sb chq # 8465 mzn', 'cash in', '47..atiq chq # 8467 mzn',\n",
       "       'online from atique sb ', 'online from atique sb  1',\n",
       "       'incentive,rtn stock,', 'mosa traders', 'rcd cash mosa trades',\n",
       "       'rtn stock 35075', 'rcd cash atiq sb', 'rcd cash mossa',\n",
       "       '159..rcd mossa ', '158..rcd mossa ', 'rizwan dik', 'bilty chrges',\n",
       "       'online..', 'shujahat', 'tariq traderss',\n",
       "       'rcd online from tariq trader', 'tariq traders', 'tariq tradrs 2',\n",
       "       'tariq traders 1', 'tariq traders cash',\n",
       "       'rcd online from tariq traders', 'cash tariq traders',\n",
       "       'online tariq traders', 'online tariq traders..',\n",
       "       'tariq traders... ', 'online tahirq ', 'online zia ', '8014793',\n",
       "       'imtiaz khi chq # 3739 alfalah', 'imtiaz khi chq # 3904 alfalah',\n",
       "       '11..imtiaz khi chq # 4717 alfalah',\n",
       "       'imtiaz khi chq # 5659 alfalah', '59..imtiaz chq # 6652 alflah',\n",
       "       '58..imtiaz chq # 6902 alflah', '#4208 alflah',\n",
       "       'imtiaz khi chq # 7529 alfalah', '56', '92..', '127..imtiz',\n",
       "       '133..imtiaz', '143..imtiaz', 'shaaf online', 'shaaf online 1',\n",
       "       'salary,incentive,rtn stock,bilty', 'shaaf trders lhr',\n",
       "       'bilty 50c lhr', 'shaaf lhr', 'bilty 25c lhr', 'bilty 75c lhr',\n",
       "       'bilty 81c lhr', 'bilty 201c', 'bilty 50c lhr..',\n",
       "       'rcd from shaaf lhr', 'bilty 30c lhr', 'return stock ',\n",
       "       'bilty 50c. lhr', 'incentive adjust', 'return stock diff adjust',\n",
       "       'ahmed hyd', 'ahmed hyd.',\n",
       "       'rcd online from Ahmed Traders Hydrabad', 'ahmed hyd 4',\n",
       "       'ahmed hyd 1', 'ahmed hyd 2', 'ahmed hyd 3', 'online ahmed hyd',\n",
       "       'asad hyd', 'ahmed hyd..', 'ahmed hyd...',\n",
       "       'return stock ahmed hyd', 'ahmed hyd.....', 'online ahmed..',\n",
       "       'online ahmed', 'mzn.', '..', 'TT20328XL1BJ', 'corolla ',\n",
       "       'bilty 96c ', 'corolla.', 'online corolla', 'bilty 46c dua',\n",
       "       'bilty 46c dua.', 'hafiz multan', 'bilty 38c hafiz',\n",
       "       'hafiz junaid', 'bilty 25c hafiz', 'bilty 50c hafiz',\n",
       "       'bilty 20c hafiz', 'bilty 30c hafiz', 'online hafiz ',\n",
       "       'imran jhang', 'online imran', 'mirpur', 'rehmat a.k', '-',\n",
       "       'sales link', 'sales link 3', 'sales link.', 'online fsb',\n",
       "       'rcd from saleslink', 'online fsb..', '7', 'waqar gujrat',\n",
       "       'waqar gujrat 2', 'waqar gujrat 1', 'bilty 73c waqar guj',\n",
       "       'waqr gujrat', 'bilty 30c waqar guj', 'online waqar guj',\n",
       "       'online waqar', 'rtn stock gujrat', 'salary waqar guj', '0',\n",
       "       'bilty 86c zain', 'zain guj', 'bilty 24c zain', 'bilty 40c zain',\n",
       "       'bilty 75c zain', 'bilty 44c zain', 'imtiza guj stock & 4%',\n",
       "       'zain rtn stock ', 'bilty 10c zain', 'zain traders guj',\n",
       "       'online from Saram Traders Jehlum', 'online saram ..',\n",
       "       '21..sony chq # 4378 mcb', '20..sony chq # 4379 mcb',\n",
       "       '18..sony chq # 4380 mcb', '16..sony chq # 4381 mcb',\n",
       "       '17..sony chq # 4382 mcb', '19..sony chq # 4377 mcb',\n",
       "       '13..sony chq # 6650 mzn', '14.. sony chq # 6649 mzn',\n",
       "       'sales discount', 'rcd cash sohny agenst chq', '106..sony',\n",
       "       '108..chq # 3911 mzn', '109..sony', '110..sony', '107..sony',\n",
       "       '111..sony', '112..sony ', '36..naeem jodia chq # 1564 micro',\n",
       "       '35.. naeem chq # 1842 askari ', '34..naeem chq # 8467 bah',\n",
       "       'tariq gujrawalal', 'faizn ckr', 'naveed ckr', 'adil ckr',\n",
       "       'online from new zam zam', '13', 'waseem ckr', 'adil brytex',\n",
       "       'asif chatti', 'online asif chatti', 'online asfi chatti',\n",
       "       'online asif', 'gufran mardan', 'zubair chakwal',\n",
       "       'zubair chakwal 1', 'zubair chakwal..', 'online zubair',\n",
       "       'shafiq sb', 'shafiq sb 1', 'shafiq sb 2', 'online shafiq sb..',\n",
       "       'online shafiq sb....', '37..home like b.c chq # 3497 askari',\n",
       "       '46.Imtiaz Bread Crumb', '53..jivani c.b 5368 ubl',\n",
       "       'sultan b.c 5 to 28 date', 'al kabeer b.c', '75..', '85.b.c',\n",
       "       'hadi b.c', 'china b.c', '88..rahat', '98..b.c hadi',\n",
       "       'qadri store b.c', 'tawakal b.c..', 'al hamd pakwan',\n",
       "       'tawakal b.c', 'tawakal b.c...', '99..noor foods b.c',\n",
       "       'tawakal b.c....', 'online maqbool ', 'denso , milan b.c',\n",
       "       'tawakal b.c.....', '112..ilyas b.c ', 'master foods',\n",
       "       'ginsoy chq # 7547 hmbl', '73. ginsoy chq # 7601 hmbl', '105..',\n",
       "       '153..ginsoy ', 'rasheed pindi', 'online rasheed',\n",
       "       'c.p jade 4560 , al raza 10000', 'food inn',\n",
       "       '12.. changzala chq # 2718 bah', 'ckr multan',\n",
       "       '12.Online From Sultan RYK CRK', '07..sad food chq# 2512 bah',\n",
       "       '46..imtiaz papad', '70..china ckr 0288 hmbl',\n",
       "       'sultan ckr 5 to 28 date', 'hot & spicy', 'hotel ramada',\n",
       "       'ckr sin sang', 'lettle china', '8', '75', '85..ckr ',\n",
       "       '98..ckr noor', 'imtiaz papad', 'noor ckr', '119#', 'kybees ckr',\n",
       "       'saleem 8000,mohammadi 2400', '99..noor foods ckr', '129..lachine',\n",
       "       'little china ckr', 'hot & spcy ckr', 'rosati 7200 chopal ',\n",
       "       'saleem ckr', 'imperial ckr', 'sizzler ckr ',\n",
       "       '05..noor c.p chq # 6572 the ',\n",
       "       '37..home like .c.p chq # 3497 askari', '51..hadi c.p',\n",
       "       '69..ckr chq # 8161 askari\\t', 'sultan c.p 5 to 28 date',\n",
       "       'online ali raza c.p', 'sing sang c.p', 'c.p tawakal', '75.',\n",
       "       'online sargodha ', '85.c.p', 'hadi c.p', '98..c.p noor',\n",
       "       'tahir c.p', 'online tahir hashmi', '99..noor foods c.p',\n",
       "       'sezlar c.p', 'online tahir.. ', 'cream sultan',\n",
       "       '05..noor c.p chq # 6572 the micro', 'sultan bhawalpur cream',\n",
       "       'hashmi cream', 'sultan bhawalpur cream 1', 'online tahir',\n",
       "       'sultan cream 5 to 28 date', 'jivani cream', 'shaheen',\n",
       "       'al hadi cream', 'bahawalpur', 'jivani cream 1',\n",
       "       'noor foods cream', 'jivani cream 2', '9', 'rahat cream',\n",
       "       'online ahsan', '98..cream noor', 'rahat cream.', 'jivani cream.',\n",
       "       'waqar cream', 'cream rahat', 'waqar 12000 hussain 2400',\n",
       "       'hussain .rahat cream', 'waqar cream..', '134..jivani cream',\n",
       "       'online umar lhr', 'umar traders lhr', 'online umar lhr..',\n",
       "       '48.yum chq # 3899 bop', '49..yum chq # 3898 bop', '94..',\n",
       "       '95# yum', '50.spar chq # 6211 mzn', '145..spar ', '152..spar',\n",
       "       'saqib cream', 'pak trd', 'pak trad...', 'pak trad',\n",
       "       'online pak trad', 'online pak trad..', 'pak trad..',\n",
       "       'online pak trad...', 'online pak', 'kamran quetta', '6',\n",
       "       'online quetta', 'saqib cream 1', 'shaqib jehlum', 'saqib cream 2',\n",
       "       'saqib cream..', 'online sargodha..', 'zam zam fsb',\n",
       "       'zam zam fsb..', 'online zam zam fsb', 'quality store lhr',\n",
       "       'quality store', 'quality store lhr..', 'quality store...',\n",
       "       'noman ckr ', 'noman ckr .', 'noman pindi', '12', 'tariq guj',\n",
       "       'tariq guj 1', '5639102', 'khuram c.p', 'khuram c.p 1',\n",
       "       '67.. khuram c.p chq # 4971 allied', 'main izar', 'mian izar',\n",
       "       'online mian izar', 'bahia pizza', 'naeem bahia pizza',\n",
       "       'azmatullah', '72.. ahmed sb chq # 9206 mzn', 'cash rcd from',\n",
       "       'rcd cash ahmed sb', 'ginsoy gulshan', 'kundal 1', 'kundal',\n",
       "       'online kundal resturant', 'online fira ent', 'waseem ckr pindi',\n",
       "       'online noman', 'ismail bhawalpur ', 's.h ', 'online ismail ',\n",
       "       'online imran chawla', 'chase omega', 'chase omega 1',\n",
       "       'chase omega ..', 'auk food', 'online auk food', 'online .',\n",
       "       'mehr traders', 'bilty 6c mehr', 'online sabir', 'bilty 22c ajwa',\n",
       "       'bilty 7c ajwa', 'chaseup khi', 'chaseup', 'cahseup multan',\n",
       "       'chaseup.', 'chaseup..', 'chaseup multan', 'chase up..',\n",
       "       'chaseup...', '81..hussain', 'hussain orangi', 'hussain orangi.',\n",
       "       'cash hussain orangi', 'online hussain', 'ROI sport ',\n",
       "       'rizwan jarnawala', 'rcd cash chq zahid ckr', 'online ..',\n",
       "       'adil cash sale', 'saim scourer ', 'rent sakran per month 190000 ',\n",
       "       'mzn', '1.1', '8799632', 'online...', '6888', '1602448', '8219049',\n",
       "       '1400626', '1400619', 'bank alfalah', '4653671',\n",
       "       'LICEAP07727521pk'], dtype=object)"
      ]
     },
     "execution_count": 263,
     "metadata": {},
     "output_type": "execute_result"
    }
   ],
   "source": [
    "df1.RefNo.unique()"
   ]
  },
  {
   "cell_type": "code",
   "execution_count": 264,
   "id": "cc50383e",
   "metadata": {},
   "outputs": [
    {
     "data": {
      "text/plain": [
       "array(['01/01/1900', '06/02/2019', nan, '12/03/2019', '22/01/2020',\n",
       "       '29/10/2020', '18/01/2019', '19/10/2019', '06/12/2018',\n",
       "       '30/01/2019', '13/12/2018', '18/03/2019', '31/01/2019',\n",
       "       '19/03/2020', '21/01/2019', '24/01/2019', '05/03/2019',\n",
       "       '07/03/2019', '08/05/2019', '08/07/2019', '07/10/2019',\n",
       "       '29/10/2019', '09/10/2019', '12/12/2019', '30/12/2019',\n",
       "       '01/02/2020', '16/04/2020', '29/05/2020', '14/07/2020',\n",
       "       '31/08/2020', '01/09/2020', '25/09/2020', '23/10/2020',\n",
       "       '19/11/2020', '22/12/2020', '26/01/2021', '05/03/2021',\n",
       "       '11/03/2021', '14/04/2021', '07/06/2021', '13/08/2021',\n",
       "       '24/09/2021', '16/11/2021', '26/11/2021', '24/02/2022',\n",
       "       '28/03/2022', '16/01/2019', '05/12/2018', '26/01/2019',\n",
       "       '19/12/2018', '10/01/2019', '21/02/2019', '04/01/2019',\n",
       "       '24/10/2019', '12/01/2019', '22/01/2019', '28/01/2019',\n",
       "       '04/02/2019', '07/02/2019', '13/02/2019', '18/02/2019',\n",
       "       '20/02/2019', '22/02/2019', '25/02/2019', '23/02/2019',\n",
       "       '16/03/2019', '08/03/2019', '09/03/2019', '11/03/2019',\n",
       "       '15/03/2019', '20/03/2019', '21/03/2019', '14/11/2019',\n",
       "       '22/03/2019', '27/03/2019', '03/09/2019', '02/04/2019',\n",
       "       '06/04/2019', '08/04/2019', '13/04/2019', '19/04/2019',\n",
       "       '23/04/2019', '26/04/2019', '30/04/2019', '11/05/2019',\n",
       "       '14/05/2019', '16/05/2019', '18/05/2019', '21/05/2019',\n",
       "       '17/06/2019', '19/06/2019', '21/06/2019', '13/07/2019',\n",
       "       '01/07/2019', '02/07/2019', '17/07/2019', '20/07/2019',\n",
       "       '19/07/2019', '22/07/2019', '25/07/2019', '26/07/2019',\n",
       "       '16/08/2019', '03/08/2019', '30/08/2019', '02/09/2019',\n",
       "       '12/09/2019', '20/09/2019', '16/09/2019', '24/09/2019',\n",
       "       '02/10/2019', '03/10/2019', '10/10/2019', '17/10/2019',\n",
       "       '18/10/2019', '01/11/2019', '26/10/2019', '28/10/2019',\n",
       "       '06/11/2019', '30/10/2019', '12/11/2019', '08/11/2019',\n",
       "       '13/11/2019', '20/11/2019', '26/11/2019', '28/11/2019',\n",
       "       '29/11/2019', '05/12/2019', '09/12/2019', '18/12/2019',\n",
       "       '17/12/2019', '08/01/2020', '19/12/2019', '20/12/2019',\n",
       "       '24/12/2019', '27/12/2019', '31/12/2019', '07/01/2020',\n",
       "       '09/01/2020', '17/01/2020', '14/01/2020', '24/01/2020',\n",
       "       '16/01/2020', '29/01/2020', '31/01/2020', '04/02/2020',\n",
       "       '19/02/2020', '20/02/2020', '21/02/2020', '24/02/2020',\n",
       "       '26/02/2020', '03/03/2020', '04/03/2020', '14/03/2020',\n",
       "       '09/03/2020', '11/03/2020', '12/03/2020', '18/03/2020',\n",
       "       '31/03/2020', '02/04/2020', '09/04/2020', '11/04/2020',\n",
       "       '05/05/2020', '18/07/2020', '21/04/2020', '30/04/2020',\n",
       "       '08/05/2020', '13/05/2020', '12/05/2020', '11/05/2020',\n",
       "       '28/05/2020', '15/06/2020', '02/06/2020', '08/06/2020',\n",
       "       '30/06/2020', '17/06/2020', '11/07/2020', '01/07/2020',\n",
       "       '09/07/2020', '15/07/2020', '22/07/2020', '27/07/2020',\n",
       "       '04/08/2020', '30/07/2020', '17/08/2020', '21/08/2020',\n",
       "       '18/08/2020', '19/08/2020', '08/09/2020', '11/09/2020',\n",
       "       '17/09/2020', '26/09/2020', '08/10/2020', '17/10/2020',\n",
       "       '21/10/2020', '22/10/2020', '04/11/2020', '01/12/2020',\n",
       "       '16/11/2020', '30/11/2020', '07/12/2020', '14/12/2020',\n",
       "       '29/12/2020', '31/12/2020', '01/01/2021', '27/02/2021',\n",
       "       '04/01/2021', '11/01/2021', '29/01/2021', '01/02/2021',\n",
       "       '28/01/2021', '10/02/2021', '19/02/2021', '23/02/2021',\n",
       "       '25/02/2021', '08/03/2021', '12/03/2021', '05/04/2021',\n",
       "       '21/04/2021', '08/05/2021', '25/05/2021', '27/05/2021',\n",
       "       '02/06/2021', '09/06/2021', '23/06/2021', '01/07/2021',\n",
       "       '28/07/2021', '27/08/2021', '30/08/2021', '01/09/2021',\n",
       "       '10/09/2021', '14/09/2021', '06/10/2021', '02/11/2021',\n",
       "       '14/01/2019', '01/03/2019', '05/08/2019', '13/06/2019',\n",
       "       '14/09/2019', '30/11/2019', '05/01/2019', '24/04/2019',\n",
       "       '25/01/2019', '25/03/2019', '28/03/2019', '27/06/2019',\n",
       "       '26/09/2019', '04/10/2019', '15/10/2019', '03/12/2019',\n",
       "       '16/12/2019', '17/03/2020', '20/03/2020', '05/08/2020',\n",
       "       '11/08/2020', '19/10/2020', '03/11/2020', '17/11/2020',\n",
       "       '16/12/2020', '02/02/2021', '06/02/2021', '13/03/2021',\n",
       "       '16/03/2021', '18/03/2021', '22/04/2021', '28/06/2021',\n",
       "       '12/07/2021', '03/07/2021', '23/09/2021', '05/10/2021',\n",
       "       '27/01/2022', '17/02/2022', '25/03/2022', '08/12/2018',\n",
       "       '12/12/2018', '29/01/2019', '11/02/2019', '15/05/2019',\n",
       "       '20/06/2019', '08/08/2019', '09/08/2019', '21/08/2019',\n",
       "       '23/08/2019', '13/09/2019', '05/11/2019', '29/04/2020',\n",
       "       '03/06/2020', '05/06/2020', '17/07/2020', '22/09/2020',\n",
       "       '24/12/2020', '15/01/2021', '04/03/2021', '28/05/2021',\n",
       "       '04/08/2021', '03/08/2021', '31/08/2021', '02/09/2021',\n",
       "       '07/10/2021', '28/10/2021', '02/12/2021', '16/12/2021',\n",
       "       '18/12/2021', '10/01/2022', '17/01/2022', '25/01/2022',\n",
       "       '23/02/2022', '11/03/2022', '08/01/2019', '13/03/2019',\n",
       "       '25/04/2019', '24/05/2019', '23/09/2019', '21/01/2020',\n",
       "       '06/03/2020', '23/04/2020', '19/05/2020', '24/06/2020',\n",
       "       '28/07/2020', '26/08/2020', '24/09/2020', '17/12/2020',\n",
       "       '12/01/2021', '20/01/2021', '15/02/2021', '24/03/2021',\n",
       "       '25/03/2021', '02/04/2021', '14/06/2021', '12/08/2021',\n",
       "       '17/08/2021', '08/09/2021', '20/09/2021', '10/11/2021',\n",
       "       '15/11/2021', '19/11/2021', '22/11/2021', '13/12/2021',\n",
       "       '15/12/2021', '23/12/2021', '07/02/2022', '08/02/2022',\n",
       "       '11/02/2022', '16/02/2022', '03/03/2022', '22/02/2022',\n",
       "       '07/03/2022', '18/03/2022', '11/01/2019', '31/08/2019',\n",
       "       '28/12/2019', '06/02/2020', '20/04/2020', '09/09/2020',\n",
       "       '10/09/2020', '15/09/2020', '28/10/2020', '02/11/2020',\n",
       "       '21/01/2021', '02/03/2021', '03/03/2021', '26/04/2021',\n",
       "       '28/04/2021', '03/05/2021', '02/07/2021', '17/09/2021',\n",
       "       '02/10/2021', '13/11/2021', '04/01/2022', '17/03/2022',\n",
       "       '04/12/2018', '12/02/2019', '16/07/2019', '24/08/2019',\n",
       "       '07/09/2019', '08/10/2019', '18/01/2020', '27/02/2020',\n",
       "       '27/06/2020', '09/12/2020', '19/03/2021', '10/07/2021',\n",
       "       '13/07/2021', '07/09/2021', '01/11/2021', '03/11/2021',\n",
       "       '21/12/2021', '05/01/2022', '14/03/2022', '16/03/2022',\n",
       "       '26/12/2018', '23/01/2019', '05/09/2019', '18/06/2019',\n",
       "       '28/09/2019', '19/09/2019', '18/11/2019', '14/04/2020',\n",
       "       '06/05/2020', '10/08/2020', '23/09/2020', '25/11/2020',\n",
       "       '26/11/2020', '23/12/2020', '17/04/2021', '14/07/2021',\n",
       "       '26/10/2021', '18/01/2022', '05/04/2022', '14/02/2019',\n",
       "       '19/03/2019', '05/04/2019', '17/04/2019', '23/05/2019',\n",
       "       '31/05/2019', '04/07/2019', '27/08/2019', '11/09/2019',\n",
       "       '18/09/2019', '11/11/2019', '10/06/2020', '11/06/2020',\n",
       "       '22/06/2020', '29/06/2020', '24/07/2020', '30/09/2020',\n",
       "       '16/10/2020', '18/11/2020', '03/12/2020', '09/02/2021',\n",
       "       '18/02/2021', '26/03/2021', '08/04/2021', '23/04/2021',\n",
       "       '04/06/2021', '26/06/2021', '29/06/2021', '05/08/2021',\n",
       "       '08/03/2022', '10/02/2020', '12/02/2020', '01/10/2020',\n",
       "       '15/07/2021', '15/10/2021', '28/12/2018', '26/03/2019',\n",
       "       '22/05/2019', '28/05/2019', '14/01/2021', '09/03/2021',\n",
       "       '09/04/2021', '17/07/2021', '07/12/2021', '27/12/2021',\n",
       "       '17/01/2019', '03/01/2019', '19/01/2019', '01/10/2019',\n",
       "       '23/10/2019', '03/02/2020', '15/06/2021', '20/11/2021',\n",
       "       '24/11/2021', '11/12/2021', '15/12/2018', '04/03/2019',\n",
       "       '10/04/2019', '11/12/2018', '28/02/2019', '03/04/2019',\n",
       "       '01/04/2019', '06/05/2019', '29/05/2019', '12/06/2019',\n",
       "       '19/08/2019', '18/02/2020', '07/03/2020', '10/03/2020',\n",
       "       '16/06/2020', '20/08/2021', '25/09/2021', '30/11/2021',\n",
       "       '01/03/2022', '09/03/2022', '15/03/2022', '06/04/2022',\n",
       "       '15/02/2019', '18/04/2019', '29/04/2019', '15/01/2020',\n",
       "       '20/01/2020', '16/03/2020', '30/03/2019', '07/08/2020',\n",
       "       '07/01/2019', '26/02/2019', '11/04/2019', '02/02/2019',\n",
       "       '17/05/2019', '30/05/2019', '10/07/2019', '29/07/2019',\n",
       "       '16/11/2019', '13/12/2019', '06/04/2020', '22/04/2020',\n",
       "       '19/09/2020', '20/10/2020', '09/11/2020', '28/11/2020',\n",
       "       '08/12/2020', '11/02/2021', '29/03/2021', '15/04/2021',\n",
       "       '04/05/2021', '05/07/2021', '13/10/2021', '11/11/2021',\n",
       "       '23/11/2021', '29/11/2021', '17/12/2021', '07/01/2022',\n",
       "       '15/02/2022', '02/01/2019', '02/05/2019', '14/10/2019',\n",
       "       '02/07/2020', '08/07/2020', '12/09/2020', '14/09/2020',\n",
       "       '24/10/2020', '02/01/2021', '22/05/2021', '31/07/2021',\n",
       "       '24/08/2021', '27/09/2021', '25/10/2021', '08/12/2021',\n",
       "       '22/12/2021', '18/12/2018', '01/01/2019', '08/02/2019',\n",
       "       '15/06/2019', '22/06/2019', '09/07/2019', '07/08/2019',\n",
       "       '27/09/2019', '31/10/2019', '09/11/2019', '23/11/2019',\n",
       "       '27/11/2019', '01/01/2020', '23/01/2020', '13/02/2020',\n",
       "       '11/02/2020', '22/02/2020', '28/04/2020', '15/05/2020',\n",
       "       '21/05/2020', '13/06/2020', '12/06/2020', '25/07/2020',\n",
       "       '29/07/2020', '13/08/2020', '16/09/2020', '07/10/2020',\n",
       "       '10/10/2020', '13/10/2020', '04/12/2020', '12/12/2020',\n",
       "       '21/12/2020', '18/12/2020', '18/01/2021', '25/01/2021',\n",
       "       '30/01/2021', '08/02/2021', '16/02/2021', '12/02/2021',\n",
       "       '24/02/2021', '30/03/2021', '06/04/2021', '01/04/2021',\n",
       "       '20/04/2021', '06/05/2021', '20/05/2021', '05/06/2021',\n",
       "       '10/06/2021', '19/06/2021', '22/06/2021', '24/06/2021',\n",
       "       '27/07/2021', '29/07/2021', '11/08/2021', '21/08/2021',\n",
       "       '13/09/2021', '16/09/2021', '22/09/2021', '28/09/2021',\n",
       "       '30/09/2021', '11/10/2021', '04/11/2021', '18/11/2021',\n",
       "       '17/11/2021', '31/12/2021', '09/12/2021', '06/01/2022',\n",
       "       '14/01/2022', '13/01/2022', '31/01/2022', '10/03/2022',\n",
       "       '01/04/2022', '21/12/2018', '01/02/2019', '24/12/2018',\n",
       "       '29/03/2019', '16/04/2019', '09/05/2019', '06/07/2019',\n",
       "       '11/07/2019', '30/01/2020', '06/10/2020', '05/05/2021',\n",
       "       '18/06/2021', '30/10/2021', '10/12/2021', '15/01/2022',\n",
       "       '27/02/2019', '09/02/2019', '02/08/2019', '22/10/2019',\n",
       "       '25/10/2019', '02/12/2019', '23/12/2019', '02/01/2020',\n",
       "       '11/01/2020', '13/03/2020', '06/01/2021', '19/01/2021',\n",
       "       '27/01/2021', '06/07/2021', '09/07/2021', '03/09/2021',\n",
       "       '04/09/2021', '29/10/2021', '25/11/2021', '29/12/2021',\n",
       "       '30/12/2021', '01/02/2022', '05/03/2022', '07/12/2018',\n",
       "       '19/02/2019', '14/06/2019', '03/05/2019', '29/06/2019',\n",
       "       '12/07/2019', '31/07/2019', '04/11/2019', '07/11/2019',\n",
       "       '23/07/2019', '28/02/2020', '05/10/2020', '13/11/2020',\n",
       "       '11/12/2020', '23/01/2021', '31/03/2021', '03/06/2021',\n",
       "       '08/07/2021', '11/06/2021', '10/08/2021', '04/10/2021',\n",
       "       '14/12/2021', '11/01/2022', '22/03/2022', '22/04/2019',\n",
       "       '15/07/2019', '20/08/2019', '11/10/2019', '26/12/2019',\n",
       "       '06/01/2020', '07/02/2020', '26/03/2020', '10/04/2020',\n",
       "       '18/05/2020', '01/06/2020', '19/06/2020', '23/06/2020',\n",
       "       '02/09/2020', '02/10/2020', '26/10/2020', '27/10/2020',\n",
       "       '10/11/2020', '21/11/2020', '20/11/2020', '02/12/2020',\n",
       "       '30/12/2020', '05/01/2021', '13/01/2021', '17/02/2021',\n",
       "       '24/04/2021', '21/05/2021', '23/07/2021', '26/08/2021',\n",
       "       '12/10/2021', '27/10/2021', '28/12/2021', '12/01/2022',\n",
       "       '21/01/2022', '02/02/2022', '09/02/2022', '02/04/2022',\n",
       "       '29/03/2022', '07/04/2022', '24/08/2020', '06/11/2020',\n",
       "       '15/12/2020', '19/04/2021', '23/08/2021', '06/09/2021',\n",
       "       '14/10/2021', '21/10/2021', '08/11/2021', '14/02/2022',\n",
       "       '21/02/2022', '03/12/2018', '10/12/2018', '15/01/2019',\n",
       "       '02/03/2019', '14/03/2019', '15/04/2019', '13/05/2019',\n",
       "       '08/06/2019', '26/08/2019', '21/10/2019', '25/11/2019',\n",
       "       '17/02/2020', '25/02/2020', '02/03/2020', '04/04/2020',\n",
       "       '04/05/2020', '16/05/2020', '07/07/2020', '06/08/2020',\n",
       "       '29/09/2020', '08/01/2021', '22/01/2021', '22/02/2021',\n",
       "       '01/03/2021', '02/03/2022', '04/04/2019', '20/04/2019',\n",
       "       '07/05/2019', '04/05/2019', '10/06/2019', '05/07/2019',\n",
       "       '22/08/2019', '04/09/2019', '21/11/2019', '22/11/2019',\n",
       "       '03/01/2020', '05/03/2020', '18/06/2020', '06/07/2020',\n",
       "       '13/07/2020', '21/07/2020', '08/08/2020', '15/08/2020',\n",
       "       '20/08/2020', '05/09/2020', '21/09/2020', '14/10/2020',\n",
       "       '23/11/2020', '10/12/2020', '26/12/2020', '07/01/2021',\n",
       "       '16/01/2021', '15/03/2021', '13/04/2021', '30/04/2021',\n",
       "       '31/05/2021', '01/06/2021', '17/06/2021', '21/06/2021',\n",
       "       '30/07/2021', '18/09/2021', '01/12/2021', '06/12/2021',\n",
       "       '20/12/2021', '24/03/2022', '19/01/2022', '20/01/2022',\n",
       "       '04/02/2022', '10/02/2022', '19/02/2022', '25/02/2022',\n",
       "       '28/02/2022', '24/07/2019', '29/08/2019', '17/09/2019',\n",
       "       '25/09/2019', '11/12/2019', '03/07/2020', '28/12/2020',\n",
       "       '15/09/2021', '05/05/2019', '06/08/2019', '19/12/2020',\n",
       "       '03/12/2021', '03/01/2022', '27/04/2019', '20/05/2019',\n",
       "       '18/07/2019', '10/01/2020', '25/04/2020', '01/08/2019',\n",
       "       '19/11/2019', '04/12/2019', '25/01/2020', '15/02/2020',\n",
       "       '11/11/2020', '17/05/2021', '26/07/2021', '11/09/2021',\n",
       "       '06/11/2021', '24/12/2021', '08/01/2022', '08/04/2022',\n",
       "       '10/12/2019', '27/05/2019', '20/07/2020', '18/05/2021',\n",
       "       '26/05/2021', '25/08/2021', '09/09/2021', '21/03/2022',\n",
       "       '26/03/2022', '30/09/2019', '27/01/2020', '29/02/2020',\n",
       "       '18/04/2020', '27/11/2020', '20/02/2021', '29/05/2021',\n",
       "       '30/06/2021', '18/02/2022', '17/12/2018', '27/12/2018',\n",
       "       '03/07/2019', '06/12/2019', '14/12/2019', '27/04/2020',\n",
       "       '12/10/2020', '06/09/2019', '25/08/2020', '12/11/2020',\n",
       "       '06/03/2021', '07/07/2021', '28/01/2022', '14/12/2018',\n",
       "       '06/03/2019', '10/07/2020', '25/05/2019', '22/10/2021',\n",
       "       '31/03/2022', '08/01/1900', '13/01/2020', '04/01/2020',\n",
       "       '26/02/2021', '23/10/2021', '26/01/2022', '22/12/2018',\n",
       "       '28/06/2019', '16/10/2019', '14/02/2020', '01/04/2020',\n",
       "       '06/06/2020', '22/08/2020', '07/09/2020', '20/03/2021',\n",
       "       '24/07/2021', '02/08/2021', '12/11/2021', '25/06/2021',\n",
       "       '20/10/2021', '03/04/2021', '26/02/2022', '08/02/2020',\n",
       "       '16/06/2021', '02/11/2019', '04/09/2020', '22/03/2020',\n",
       "       '04/12/2021', '12/03/2022', '03/10/2020', '10/05/2021',\n",
       "       '28/08/2019', '14/05/2020', '07/04/2020', '04/04/2022',\n",
       "       '21/09/2019', '23/07/2020', '28/09/2020', '14/11/2020',\n",
       "       '03/02/2021', '21/09/2021', '27/11/2021', '26/12/2021',\n",
       "       '24/01/2022', '30/03/2022', '19/05/2021', '10/05/2019',\n",
       "       '15/10/2020', '22/03/2021', '27/03/2021', '12/06/2021',\n",
       "       '18/10/2021', '01/01/2022', '22/01/2022', '12/02/2022',\n",
       "       '19/03/2022', '01/06/2019', '27/07/2019', '15/04/2020',\n",
       "       '03/02/2022', '15/11/2019', '09/10/2020', '31/10/2020',\n",
       "       '13/02/2021', '09/05/2021', '11/05/2021', '02/05/2020',\n",
       "       '10/04/2021', '28/08/2021', '24/11/2020', '25/06/2020',\n",
       "       '21/12/2019', '16/07/2021', '09/11/2021', '16/04/2021',\n",
       "       '07/08/2021', '16/10/2021', '19/07/2021', '08/10/2021',\n",
       "       '05/11/2021', '29/01/2022', '04/03/2022', '13/04/2020',\n",
       "       '08/06/2021', '09/01/2021', '04/02/2021', '10/03/2021',\n",
       "       '29/04/2021', '11/07/2021'], dtype=object)"
      ]
     },
     "execution_count": 264,
     "metadata": {},
     "output_type": "execute_result"
    }
   ],
   "source": [
    "df1.RefDate.unique()"
   ]
  },
  {
   "cell_type": "markdown",
   "id": "7b004c09",
   "metadata": {},
   "source": [
    "- After looking at the values of the data. I realised that \n",
    "    - They cannot be filled using any method\n",
    "    - The values are not only categorical but also messy\n",
    "    - They look like they would not be able to assist with any form of data analysis therefore it is best to drop them "
   ]
  },
  {
   "cell_type": "code",
   "execution_count": 265,
   "id": "8ecc5bf3",
   "metadata": {},
   "outputs": [],
   "source": [
    "#dropping columns that will not assist us with data analysis\n",
    "df1 = df1.drop(['Remarks', 'RefNo', 'RefDate'], axis = 1)"
   ]
  },
  {
   "cell_type": "code",
   "execution_count": 361,
   "id": "f3e30a6b",
   "metadata": {},
   "outputs": [],
   "source": [
    "#changing amount type\n",
    "#removing commas from numbers so that it is easy to convert the dat type from string to numberic \n",
    "df1.replace(',','', regex=True, inplace=True)"
   ]
  },
  {
   "cell_type": "code",
   "execution_count": 364,
   "id": "d613dfe8",
   "metadata": {},
   "outputs": [],
   "source": [
    "df1['Amount'] = df1['Amount'].astype('float32')\n",
    "df1['DestinationRefNo'] = df1['DestinationRefNo'].astype('str')"
   ]
  },
  {
   "cell_type": "code",
   "execution_count": 365,
   "id": "2702b99c",
   "metadata": {
    "scrolled": true
   },
   "outputs": [
    {
     "data": {
      "text/plain": [
       "<AxesSubplot:>"
      ]
     },
     "execution_count": 365,
     "metadata": {},
     "output_type": "execute_result"
    },
    {
     "data": {
      "image/png": "[encoded data removed]",
      "text/plain": [
       "<Figure size 1080x720 with 2 Axes>"
      ]
     },
     "metadata": {
      "needs_background": "light"
     },
     "output_type": "display_data"
    }
   ],
   "source": [
    "#creating a heatmap for correlation\n",
    "plt.figure(figsize=(15,10)) \n",
    "sns.color_palette(as_cmap=True)\n",
    "sns.heatmap(df1.corr(), annot=True, cmap='coolwarm', center = 0)"
   ]
  },
  {
   "cell_type": "markdown",
   "id": "4ab4fd1f",
   "metadata": {},
   "source": [
    "- We can notice one this in this data set is that since this data set is for customer ledger, there are not many columns, furthermore, there arent any strong correlations either. One insight we can gain here is that there is a good chance that this dataset might not even produce any potential KPIs. But that does not mean that we leave out the possiblity entirely "
   ]
  },
  {
   "cell_type": "code",
   "execution_count": 267,
   "id": "4544fd79",
   "metadata": {},
   "outputs": [
    {
     "data": {
      "text/plain": [
       "TranNo              0\n",
       "TranDate            0\n",
       "CustomerID          0\n",
       "CustomerTitle       0\n",
       "Amount              0\n",
       "TranType            0\n",
       "TranOrder           0\n",
       "DestinationRefNo    0\n",
       "dtype: int64"
      ]
     },
     "execution_count": 267,
     "metadata": {},
     "output_type": "execute_result"
    }
   ],
   "source": [
    "#checking for sum of null values in each column again\n",
    "df1.isnull().sum()"
   ]
  },
  {
   "cell_type": "code",
   "execution_count": 268,
   "id": "531d9fdc",
   "metadata": {},
   "outputs": [
    {
     "data": {
      "text/plain": [
       "460"
      ]
     },
     "execution_count": 268,
     "metadata": {},
     "output_type": "execute_result"
    }
   ],
   "source": [
    "#keeping check of unique values \n",
    "#making sure that all customer ids are unique\n",
    "df1['CustomerID'].nunique()"
   ]
  },
  {
   "cell_type": "code",
   "execution_count": 366,
   "id": "b838655c",
   "metadata": {},
   "outputs": [
    {
     "data": {
      "text/plain": [
       "460"
      ]
     },
     "execution_count": 366,
     "metadata": {},
     "output_type": "execute_result"
    }
   ],
   "source": [
    "df1['DestinationRefNo'].nunique()"
   ]
  },
  {
   "cell_type": "code",
   "execution_count": 367,
   "id": "582d8057",
   "metadata": {
    "scrolled": true
   },
   "outputs": [
    {
     "data": {
      "text/plain": [
       "3"
      ]
     },
     "execution_count": 367,
     "metadata": {},
     "output_type": "execute_result"
    }
   ],
   "source": [
    "df1['TranOrder'].nunique()"
   ]
  },
  {
   "cell_type": "code",
   "execution_count": 368,
   "id": "69567251",
   "metadata": {},
   "outputs": [
    {
     "data": {
      "text/plain": [
       "array([1, 4, 3], dtype=int64)"
      ]
     },
     "execution_count": 368,
     "metadata": {},
     "output_type": "execute_result"
    }
   ],
   "source": [
    "df1.TranOrder.unique()"
   ]
  },
  {
   "cell_type": "markdown",
   "id": "e65d5f2a",
   "metadata": {},
   "source": [
    "- The unique values can tell that there are 460 customer data in the ledger. We can keep this in mind for future "
   ]
  },
  {
   "cell_type": "markdown",
   "id": "50e941db",
   "metadata": {},
   "source": [
    "- Since we are done with the first data sheet we will go through the second one\n",
    "\n",
    "### Sheet 2 - Customer"
   ]
  },
  {
   "cell_type": "code",
   "execution_count": 269,
   "id": "f8127147",
   "metadata": {},
   "outputs": [
    {
     "data": {
      "text/plain": [
       "CustomerCode                 int64\n",
       "CustomerTitle               object\n",
       "DestinationCategoryTitle    object\n",
       "DestinationGroupTitle       object\n",
       "Email                       object\n",
       "ContactNumber               object\n",
       "MobileNumber                object\n",
       "CreditDays                   int64\n",
       "ISRegistered                object\n",
       "STRegistrationNo             int64\n",
       "AccountCode                  int64\n",
       "AccountTitle                object\n",
       "NTN                         object\n",
       "NationalTitle               object\n",
       "RegionTitle                 object\n",
       "TerritoryTitle              object\n",
       "TownTitle                   object\n",
       "ZoneTitle                   object\n",
       "Active                      object\n",
       "Address                     object\n",
       "dtype: object"
      ]
     },
     "execution_count": 269,
     "metadata": {},
     "output_type": "execute_result"
    }
   ],
   "source": [
    "#checking datatypes that we are dealing with\n",
    "df2.dtypes"
   ]
  },
  {
   "cell_type": "markdown",
   "id": "83e6fc0a",
   "metadata": {},
   "source": [
    "- The data has a lot of categorical data as we can see. We might be able to extract dimensions out of it. "
   ]
  },
  {
   "cell_type": "code",
   "execution_count": 270,
   "id": "dfd16439",
   "metadata": {},
   "outputs": [
    {
     "data": {
      "text/plain": [
       "(518, 20)"
      ]
     },
     "execution_count": 270,
     "metadata": {},
     "output_type": "execute_result"
    }
   ],
   "source": [
    "#checking total number of rows and columns\n",
    "df2.shape"
   ]
  },
  {
   "cell_type": "code",
   "execution_count": 271,
   "id": "c0ea5779",
   "metadata": {},
   "outputs": [
    {
     "data": {
      "text/plain": [
       "CustomerCode                0\n",
       "CustomerTitle               0\n",
       "DestinationCategoryTitle    0\n",
       "DestinationGroupTitle       0\n",
       "Email                       0\n",
       "ContactNumber               0\n",
       "MobileNumber                0\n",
       "CreditDays                  0\n",
       "ISRegistered                0\n",
       "STRegistrationNo            0\n",
       "AccountCode                 0\n",
       "AccountTitle                0\n",
       "NTN                         0\n",
       "NationalTitle               0\n",
       "RegionTitle                 0\n",
       "TerritoryTitle              0\n",
       "TownTitle                   0\n",
       "ZoneTitle                   0\n",
       "Active                      0\n",
       "Address                     0\n",
       "dtype: int64"
      ]
     },
     "execution_count": 271,
     "metadata": {},
     "output_type": "execute_result"
    }
   ],
   "source": [
    "#checking for sum of null values in each column\n",
    "df2.isnull().sum()"
   ]
  },
  {
   "cell_type": "code",
   "execution_count": 272,
   "id": "2d57dc6e",
   "metadata": {},
   "outputs": [
    {
     "data": {
      "text/plain": [
       "<AxesSubplot:>"
      ]
     },
     "execution_count": 272,
     "metadata": {},
     "output_type": "execute_result"
    },
    {
     "data": {
      "image/png": "[encoded data removed]",
      "text/plain": [
       "<Figure size 1800x720 with 2 Axes>"
      ]
     },
     "metadata": {
      "needs_background": "light"
     },
     "output_type": "display_data"
    }
   ],
   "source": [
    "#checking where the data is missing through matrix \n",
    "msno.matrix(df2)"
   ]
  },
  {
   "cell_type": "code",
   "execution_count": 273,
   "id": "1fa6a3f8",
   "metadata": {},
   "outputs": [],
   "source": [
    "#changing customer Code to object\n",
    "df2['CustomerCode'] = df2['CustomerCode'].astype('str')"
   ]
  },
  {
   "cell_type": "markdown",
   "id": "5da53a91",
   "metadata": {},
   "source": [
    "- Because this sheet is majorly categorical with no missing values, there is not much we can do about it. There are no extrapolations or imputations required in the data. It is good to go"
   ]
  },
  {
   "cell_type": "markdown",
   "id": "6241d612",
   "metadata": {},
   "source": [
    "### Sheet 3 - Customer Wise"
   ]
  },
  {
   "cell_type": "code",
   "execution_count": 274,
   "id": "6c8aeb3e",
   "metadata": {},
   "outputs": [
    {
     "data": {
      "text/html": [
       "<div>\n",
       "<style scoped>\n",
       "    .dataframe tbody tr th:only-of-type {\n",
       "        vertical-align: middle;\n",
       "    }\n",
       "\n",
       "    .dataframe tbody tr th {\n",
       "        vertical-align: top;\n",
       "    }\n",
       "\n",
       "    .dataframe thead th {\n",
       "        text-align: right;\n",
       "    }\n",
       "</style>\n",
       "<table border=\"1\" class=\"dataframe\">\n",
       "  <thead>\n",
       "    <tr style=\"text-align: right;\">\n",
       "      <th></th>\n",
       "      <th>Transaction ID</th>\n",
       "      <th>Transaction Date</th>\n",
       "      <th>Customer Title</th>\n",
       "      <th>Item ID</th>\n",
       "      <th>Item Title</th>\n",
       "      <th>Unit Title</th>\n",
       "      <th>Quantity</th>\n",
       "      <th>Rate</th>\n",
       "      <th>Gross Amount</th>\n",
       "      <th>Discount Amount</th>\n",
       "      <th>Value Excl Tax</th>\n",
       "      <th>Tax Amount</th>\n",
       "      <th>Net Amount</th>\n",
       "    </tr>\n",
       "  </thead>\n",
       "  <tbody>\n",
       "    <tr>\n",
       "      <th>0</th>\n",
       "      <td>1819-000004</td>\n",
       "      <td>14/12/2018</td>\n",
       "      <td>Haram traders shahfaisal</td>\n",
       "      <td>55.0</td>\n",
       "      <td>HOT AND SOUR SOUP 55 GM</td>\n",
       "      <td>pcs</td>\n",
       "      <td>576.00</td>\n",
       "      <td>50.00</td>\n",
       "      <td>28,800.00</td>\n",
       "      <td>3,456.00</td>\n",
       "      <td>25344.0</td>\n",
       "      <td>0.0</td>\n",
       "      <td>25,344.00</td>\n",
       "    </tr>\n",
       "    <tr>\n",
       "      <th>1</th>\n",
       "      <td>1819-000004</td>\n",
       "      <td>14/12/2018</td>\n",
       "      <td>Haram traders shahfaisal</td>\n",
       "      <td>3.0</td>\n",
       "      <td>SEASONING CHICKEN POWDER 18GM</td>\n",
       "      <td>pcs</td>\n",
       "      <td>5,760.00</td>\n",
       "      <td>12.00</td>\n",
       "      <td>69,120.00</td>\n",
       "      <td>8,294.40</td>\n",
       "      <td>60825.6</td>\n",
       "      <td>0.0</td>\n",
       "      <td>60,825.60</td>\n",
       "    </tr>\n",
       "    <tr>\n",
       "      <th>2</th>\n",
       "      <td>1819-000004</td>\n",
       "      <td>14/12/2018</td>\n",
       "      <td>Haram traders shahfaisal</td>\n",
       "      <td>175.0</td>\n",
       "      <td>PAPAD CRACKER BUTTON COLOR 1KG</td>\n",
       "      <td>kg</td>\n",
       "      <td>24.00</td>\n",
       "      <td>160.00</td>\n",
       "      <td>3,840.00</td>\n",
       "      <td>460.80</td>\n",
       "      <td>3379.2</td>\n",
       "      <td>0.0</td>\n",
       "      <td>3,379.20</td>\n",
       "    </tr>\n",
       "    <tr>\n",
       "      <th>3</th>\n",
       "      <td>1819-000004</td>\n",
       "      <td>14/12/2018</td>\n",
       "      <td>Haram traders shahfaisal</td>\n",
       "      <td>40.0</td>\n",
       "      <td>PAPAD CRACKER COLOR 1KG</td>\n",
       "      <td>kg</td>\n",
       "      <td>144.00</td>\n",
       "      <td>160.00</td>\n",
       "      <td>23,040.00</td>\n",
       "      <td>2,764.80</td>\n",
       "      <td>20275.2</td>\n",
       "      <td>0.0</td>\n",
       "      <td>20,275.20</td>\n",
       "    </tr>\n",
       "    <tr>\n",
       "      <th>4</th>\n",
       "      <td>1819-000004</td>\n",
       "      <td>14/12/2018</td>\n",
       "      <td>Haram traders shahfaisal</td>\n",
       "      <td>6.0</td>\n",
       "      <td>SEASONING CHICKEN POWDER POUCH 1KG</td>\n",
       "      <td>pcs</td>\n",
       "      <td>144.00</td>\n",
       "      <td>400.00</td>\n",
       "      <td>57,600.00</td>\n",
       "      <td>6,912.00</td>\n",
       "      <td>50688.0</td>\n",
       "      <td>0.0</td>\n",
       "      <td>50,688.00</td>\n",
       "    </tr>\n",
       "  </tbody>\n",
       "</table>\n",
       "</div>"
      ],
      "text/plain": [
       "  Transaction ID Transaction Date            Customer Title  Item ID  \\\n",
       "0    1819-000004       14/12/2018  Haram traders shahfaisal     55.0   \n",
       "1    1819-000004       14/12/2018  Haram traders shahfaisal      3.0   \n",
       "2    1819-000004       14/12/2018  Haram traders shahfaisal    175.0   \n",
       "3    1819-000004       14/12/2018  Haram traders shahfaisal     40.0   \n",
       "4    1819-000004       14/12/2018  Haram traders shahfaisal      6.0   \n",
       "\n",
       "                           Item Title Unit Title  Quantity    Rate  \\\n",
       "0             HOT AND SOUR SOUP 55 GM        pcs    576.00   50.00   \n",
       "1       SEASONING CHICKEN POWDER 18GM        pcs  5,760.00   12.00   \n",
       "2     PAPAD CRACKER BUTTON COLOR 1KG          kg     24.00  160.00   \n",
       "3            PAPAD CRACKER COLOR 1KG          kg    144.00  160.00   \n",
       "4  SEASONING CHICKEN POWDER POUCH 1KG        pcs    144.00  400.00   \n",
       "\n",
       "  Gross Amount Discount Amount  Value Excl Tax  Tax Amount Net Amount  \n",
       "0    28,800.00        3,456.00         25344.0         0.0  25,344.00  \n",
       "1    69,120.00        8,294.40         60825.6         0.0  60,825.60  \n",
       "2     3,840.00          460.80          3379.2         0.0   3,379.20  \n",
       "3    23,040.00        2,764.80         20275.2         0.0  20,275.20  \n",
       "4    57,600.00        6,912.00         50688.0         0.0  50,688.00  "
      ]
     },
     "execution_count": 274,
     "metadata": {},
     "output_type": "execute_result"
    }
   ],
   "source": [
    "df3.head()"
   ]
  },
  {
   "cell_type": "code",
   "execution_count": 275,
   "id": "8edfb822",
   "metadata": {},
   "outputs": [
    {
     "data": {
      "text/plain": [
       "(33712, 13)"
      ]
     },
     "execution_count": 275,
     "metadata": {},
     "output_type": "execute_result"
    }
   ],
   "source": [
    "#checking total number of rows and columns\n",
    "df3.shape"
   ]
  },
  {
   "cell_type": "code",
   "execution_count": 276,
   "id": "268d3d1a",
   "metadata": {
    "scrolled": true
   },
   "outputs": [
    {
     "data": {
      "text/plain": [
       "Transaction ID       object\n",
       "Transaction Date     object\n",
       "Customer Title       object\n",
       "Item ID             float64\n",
       "Item Title           object\n",
       "Unit Title           object\n",
       "Quantity             object\n",
       "Rate                 object\n",
       "Gross Amount         object\n",
       "Discount Amount      object\n",
       "Value Excl Tax      float64\n",
       "Tax Amount          float64\n",
       "Net Amount           object\n",
       "dtype: object"
      ]
     },
     "execution_count": 276,
     "metadata": {},
     "output_type": "execute_result"
    }
   ],
   "source": [
    "#checking datatypes that we are dealing with\n",
    "df3.dtypes"
   ]
  },
  {
   "cell_type": "code",
   "execution_count": 277,
   "id": "20bb78bf",
   "metadata": {},
   "outputs": [
    {
     "data": {
      "text/plain": [
       "Transaction ID      1\n",
       "Transaction Date    1\n",
       "Customer Title      1\n",
       "Item ID             1\n",
       "Item Title          1\n",
       "Unit Title          1\n",
       "Quantity            0\n",
       "Rate                1\n",
       "Gross Amount        0\n",
       "Discount Amount     0\n",
       "Value Excl Tax      0\n",
       "Tax Amount          0\n",
       "Net Amount          0\n",
       "dtype: int64"
      ]
     },
     "execution_count": 277,
     "metadata": {},
     "output_type": "execute_result"
    }
   ],
   "source": [
    "#checking for sum of null values in each column\n",
    "df3.isnull().sum()"
   ]
  },
  {
   "cell_type": "code",
   "execution_count": 278,
   "id": "e88b4787",
   "metadata": {},
   "outputs": [
    {
     "data": {
      "text/plain": [
       "<AxesSubplot:>"
      ]
     },
     "execution_count": 278,
     "metadata": {},
     "output_type": "execute_result"
    },
    {
     "data": {
      "image/png": "[encoded data removed]",
      "text/plain": [
       "<Figure size 1800x720 with 2 Axes>"
      ]
     },
     "metadata": {
      "needs_background": "light"
     },
     "output_type": "display_data"
    }
   ],
   "source": [
    "#checking where the data is missing through matrix \n",
    "msno.matrix(df3)"
   ]
  },
  {
   "cell_type": "code",
   "execution_count": 279,
   "id": "7e3f2287",
   "metadata": {},
   "outputs": [
    {
     "name": "stdout",
     "output_type": "stream",
     "text": [
      "[33711]\n"
     ]
    }
   ],
   "source": [
    "#there is only 1 missing value in some of the columns, we can check where they are and drop if they are not needed\n",
    "#checking for null values in the row \n",
    "Trans_null = df3[df3['Transaction ID'].isnull()].index.tolist()\n",
    "print(Trans_null)"
   ]
  },
  {
   "cell_type": "code",
   "execution_count": 280,
   "id": "bf697e49",
   "metadata": {
    "scrolled": true
   },
   "outputs": [
    {
     "name": "stdout",
     "output_type": "stream",
     "text": [
      "[33711]\n"
     ]
    }
   ],
   "source": [
    "#Transaction Date\n",
    "TransD_null = df3[df3['Transaction Date'].isnull()].index.tolist()\n",
    "print(TransD_null)"
   ]
  },
  {
   "cell_type": "code",
   "execution_count": 281,
   "id": "075a5ff6",
   "metadata": {},
   "outputs": [
    {
     "name": "stdout",
     "output_type": "stream",
     "text": [
      "[33711]\n"
     ]
    }
   ],
   "source": [
    "#Customer Title\n",
    "CusT_null = df3[df3['Customer Title'].isnull()].index.tolist()\n",
    "print(CusT_null)"
   ]
  },
  {
   "cell_type": "code",
   "execution_count": 282,
   "id": "2fd197a0",
   "metadata": {
    "scrolled": true
   },
   "outputs": [
    {
     "name": "stdout",
     "output_type": "stream",
     "text": [
      "[33711]\n"
     ]
    }
   ],
   "source": [
    "#Item Title\n",
    "IT_null = df3[df3['Item Title'].isnull()].index.tolist()\n",
    "print(IT_null)"
   ]
  },
  {
   "cell_type": "markdown",
   "id": "3911f5f5",
   "metadata": {},
   "source": [
    "- Since we can see that there is missing values in the same row we will just drop the row"
   ]
  },
  {
   "cell_type": "code",
   "execution_count": 283,
   "id": "baa1d397",
   "metadata": {},
   "outputs": [],
   "source": [
    "df3 = df3.drop(33711)"
   ]
  },
  {
   "cell_type": "code",
   "execution_count": 284,
   "id": "f2664f2d",
   "metadata": {},
   "outputs": [
    {
     "data": {
      "text/plain": [
       "Transaction ID      0\n",
       "Transaction Date    0\n",
       "Customer Title      0\n",
       "Item ID             0\n",
       "Item Title          0\n",
       "Unit Title          0\n",
       "Quantity            0\n",
       "Rate                0\n",
       "Gross Amount        0\n",
       "Discount Amount     0\n",
       "Value Excl Tax      0\n",
       "Tax Amount          0\n",
       "Net Amount          0\n",
       "dtype: int64"
      ]
     },
     "execution_count": 284,
     "metadata": {},
     "output_type": "execute_result"
    }
   ],
   "source": [
    "#checking for sum of null values in each column\n",
    "df3.isnull().sum()"
   ]
  },
  {
   "cell_type": "markdown",
   "id": "bc06cfd9",
   "metadata": {},
   "source": [
    "- we have dealt with the missing value case~"
   ]
  },
  {
   "cell_type": "markdown",
   "id": "377d2002",
   "metadata": {},
   "source": [
    "- Now this is a very crucial part of the dataset. Here we have interesting KPIs such as Quantity, rate, gross amount, discount amount, etc. The first thing that we have to do is change data types\n",
    "(due to some input issues we need to fix the entries as well)"
   ]
  },
  {
   "cell_type": "code",
   "execution_count": 285,
   "id": "bacacc31",
   "metadata": {
    "scrolled": true
   },
   "outputs": [
    {
     "data": {
      "text/html": [
       "<div>\n",
       "<style scoped>\n",
       "    .dataframe tbody tr th:only-of-type {\n",
       "        vertical-align: middle;\n",
       "    }\n",
       "\n",
       "    .dataframe tbody tr th {\n",
       "        vertical-align: top;\n",
       "    }\n",
       "\n",
       "    .dataframe thead th {\n",
       "        text-align: right;\n",
       "    }\n",
       "</style>\n",
       "<table border=\"1\" class=\"dataframe\">\n",
       "  <thead>\n",
       "    <tr style=\"text-align: right;\">\n",
       "      <th></th>\n",
       "      <th>Transaction ID</th>\n",
       "      <th>Transaction Date</th>\n",
       "      <th>Customer Title</th>\n",
       "      <th>Item ID</th>\n",
       "      <th>Item Title</th>\n",
       "      <th>Unit Title</th>\n",
       "      <th>Quantity</th>\n",
       "      <th>Rate</th>\n",
       "      <th>Gross Amount</th>\n",
       "      <th>Discount Amount</th>\n",
       "      <th>Value Excl Tax</th>\n",
       "      <th>Tax Amount</th>\n",
       "      <th>Net Amount</th>\n",
       "    </tr>\n",
       "  </thead>\n",
       "  <tbody>\n",
       "    <tr>\n",
       "      <th>0</th>\n",
       "      <td>NaN</td>\n",
       "      <td>NaN</td>\n",
       "      <td>NaN</td>\n",
       "      <td>NaN</td>\n",
       "      <td>NaN</td>\n",
       "      <td>NaN</td>\n",
       "      <td>NaN</td>\n",
       "      <td>NaN</td>\n",
       "      <td>NaN</td>\n",
       "      <td>NaN</td>\n",
       "      <td>NaN</td>\n",
       "      <td>NaN</td>\n",
       "      <td>NaN</td>\n",
       "    </tr>\n",
       "    <tr>\n",
       "      <th>1</th>\n",
       "      <td>1819-000004</td>\n",
       "      <td>14/12/2018</td>\n",
       "      <td>Haram traders shahfaisal</td>\n",
       "      <td>3.0</td>\n",
       "      <td>SEASONING CHICKEN POWDER 18GM</td>\n",
       "      <td>pcs</td>\n",
       "      <td>5,760.00</td>\n",
       "      <td>12.00</td>\n",
       "      <td>69,120.00</td>\n",
       "      <td>8,294.40</td>\n",
       "      <td>60825.6</td>\n",
       "      <td>0.0</td>\n",
       "      <td>60,825.60</td>\n",
       "    </tr>\n",
       "    <tr>\n",
       "      <th>2</th>\n",
       "      <td>NaN</td>\n",
       "      <td>NaN</td>\n",
       "      <td>NaN</td>\n",
       "      <td>NaN</td>\n",
       "      <td>NaN</td>\n",
       "      <td>NaN</td>\n",
       "      <td>NaN</td>\n",
       "      <td>NaN</td>\n",
       "      <td>NaN</td>\n",
       "      <td>NaN</td>\n",
       "      <td>NaN</td>\n",
       "      <td>NaN</td>\n",
       "      <td>NaN</td>\n",
       "    </tr>\n",
       "    <tr>\n",
       "      <th>3</th>\n",
       "      <td>NaN</td>\n",
       "      <td>NaN</td>\n",
       "      <td>NaN</td>\n",
       "      <td>NaN</td>\n",
       "      <td>NaN</td>\n",
       "      <td>NaN</td>\n",
       "      <td>NaN</td>\n",
       "      <td>NaN</td>\n",
       "      <td>NaN</td>\n",
       "      <td>NaN</td>\n",
       "      <td>NaN</td>\n",
       "      <td>NaN</td>\n",
       "      <td>NaN</td>\n",
       "    </tr>\n",
       "    <tr>\n",
       "      <th>4</th>\n",
       "      <td>NaN</td>\n",
       "      <td>NaN</td>\n",
       "      <td>NaN</td>\n",
       "      <td>NaN</td>\n",
       "      <td>NaN</td>\n",
       "      <td>NaN</td>\n",
       "      <td>NaN</td>\n",
       "      <td>NaN</td>\n",
       "      <td>NaN</td>\n",
       "      <td>NaN</td>\n",
       "      <td>NaN</td>\n",
       "      <td>NaN</td>\n",
       "      <td>NaN</td>\n",
       "    </tr>\n",
       "    <tr>\n",
       "      <th>...</th>\n",
       "      <td>...</td>\n",
       "      <td>...</td>\n",
       "      <td>...</td>\n",
       "      <td>...</td>\n",
       "      <td>...</td>\n",
       "      <td>...</td>\n",
       "      <td>...</td>\n",
       "      <td>...</td>\n",
       "      <td>...</td>\n",
       "      <td>...</td>\n",
       "      <td>...</td>\n",
       "      <td>...</td>\n",
       "      <td>...</td>\n",
       "    </tr>\n",
       "    <tr>\n",
       "      <th>33706</th>\n",
       "      <td>NaN</td>\n",
       "      <td>NaN</td>\n",
       "      <td>NaN</td>\n",
       "      <td>NaN</td>\n",
       "      <td>NaN</td>\n",
       "      <td>NaN</td>\n",
       "      <td>NaN</td>\n",
       "      <td>NaN</td>\n",
       "      <td>NaN</td>\n",
       "      <td>NaN</td>\n",
       "      <td>NaN</td>\n",
       "      <td>NaN</td>\n",
       "      <td>NaN</td>\n",
       "    </tr>\n",
       "    <tr>\n",
       "      <th>33707</th>\n",
       "      <td>NaN</td>\n",
       "      <td>NaN</td>\n",
       "      <td>NaN</td>\n",
       "      <td>NaN</td>\n",
       "      <td>NaN</td>\n",
       "      <td>NaN</td>\n",
       "      <td>NaN</td>\n",
       "      <td>NaN</td>\n",
       "      <td>NaN</td>\n",
       "      <td>NaN</td>\n",
       "      <td>NaN</td>\n",
       "      <td>NaN</td>\n",
       "      <td>NaN</td>\n",
       "    </tr>\n",
       "    <tr>\n",
       "      <th>33708</th>\n",
       "      <td>NaN</td>\n",
       "      <td>NaN</td>\n",
       "      <td>NaN</td>\n",
       "      <td>NaN</td>\n",
       "      <td>NaN</td>\n",
       "      <td>NaN</td>\n",
       "      <td>NaN</td>\n",
       "      <td>NaN</td>\n",
       "      <td>NaN</td>\n",
       "      <td>NaN</td>\n",
       "      <td>NaN</td>\n",
       "      <td>NaN</td>\n",
       "      <td>NaN</td>\n",
       "    </tr>\n",
       "    <tr>\n",
       "      <th>33709</th>\n",
       "      <td>NaN</td>\n",
       "      <td>NaN</td>\n",
       "      <td>NaN</td>\n",
       "      <td>NaN</td>\n",
       "      <td>NaN</td>\n",
       "      <td>NaN</td>\n",
       "      <td>NaN</td>\n",
       "      <td>NaN</td>\n",
       "      <td>NaN</td>\n",
       "      <td>NaN</td>\n",
       "      <td>NaN</td>\n",
       "      <td>NaN</td>\n",
       "      <td>NaN</td>\n",
       "    </tr>\n",
       "    <tr>\n",
       "      <th>33710</th>\n",
       "      <td>NaN</td>\n",
       "      <td>NaN</td>\n",
       "      <td>NaN</td>\n",
       "      <td>NaN</td>\n",
       "      <td>NaN</td>\n",
       "      <td>NaN</td>\n",
       "      <td>NaN</td>\n",
       "      <td>NaN</td>\n",
       "      <td>NaN</td>\n",
       "      <td>NaN</td>\n",
       "      <td>NaN</td>\n",
       "      <td>NaN</td>\n",
       "      <td>NaN</td>\n",
       "    </tr>\n",
       "  </tbody>\n",
       "</table>\n",
       "<p>33711 rows × 13 columns</p>\n",
       "</div>"
      ],
      "text/plain": [
       "      Transaction ID Transaction Date            Customer Title  Item ID  \\\n",
       "0                NaN              NaN                       NaN      NaN   \n",
       "1        1819-000004       14/12/2018  Haram traders shahfaisal      3.0   \n",
       "2                NaN              NaN                       NaN      NaN   \n",
       "3                NaN              NaN                       NaN      NaN   \n",
       "4                NaN              NaN                       NaN      NaN   \n",
       "...              ...              ...                       ...      ...   \n",
       "33706            NaN              NaN                       NaN      NaN   \n",
       "33707            NaN              NaN                       NaN      NaN   \n",
       "33708            NaN              NaN                       NaN      NaN   \n",
       "33709            NaN              NaN                       NaN      NaN   \n",
       "33710            NaN              NaN                       NaN      NaN   \n",
       "\n",
       "                          Item Title Unit Title  Quantity   Rate Gross Amount  \\\n",
       "0                                NaN        NaN       NaN    NaN          NaN   \n",
       "1      SEASONING CHICKEN POWDER 18GM        pcs  5,760.00  12.00    69,120.00   \n",
       "2                                NaN        NaN       NaN    NaN          NaN   \n",
       "3                                NaN        NaN       NaN    NaN          NaN   \n",
       "4                                NaN        NaN       NaN    NaN          NaN   \n",
       "...                              ...        ...       ...    ...          ...   \n",
       "33706                            NaN        NaN       NaN    NaN          NaN   \n",
       "33707                            NaN        NaN       NaN    NaN          NaN   \n",
       "33708                            NaN        NaN       NaN    NaN          NaN   \n",
       "33709                            NaN        NaN       NaN    NaN          NaN   \n",
       "33710                            NaN        NaN       NaN    NaN          NaN   \n",
       "\n",
       "      Discount Amount  Value Excl Tax  Tax Amount Net Amount  \n",
       "0                 NaN             NaN         NaN        NaN  \n",
       "1            8,294.40         60825.6         0.0  60,825.60  \n",
       "2                 NaN             NaN         NaN        NaN  \n",
       "3                 NaN             NaN         NaN        NaN  \n",
       "4                 NaN             NaN         NaN        NaN  \n",
       "...               ...             ...         ...        ...  \n",
       "33706             NaN             NaN         NaN        NaN  \n",
       "33707             NaN             NaN         NaN        NaN  \n",
       "33708             NaN             NaN         NaN        NaN  \n",
       "33709             NaN             NaN         NaN        NaN  \n",
       "33710             NaN             NaN         NaN        NaN  \n",
       "\n",
       "[33711 rows x 13 columns]"
      ]
     },
     "execution_count": 285,
     "metadata": {},
     "output_type": "execute_result"
    }
   ],
   "source": [
    "#checking data entry issue\n",
    "df3.where(df3['Quantity'] == '5,760.00')"
   ]
  },
  {
   "cell_type": "code",
   "execution_count": 286,
   "id": "c6d9a83a",
   "metadata": {},
   "outputs": [],
   "source": [
    "#removing commas from numbers so that it is easy to convert the dat type from string to numberic\n",
    "df3.replace(',','', regex=True, inplace=True)"
   ]
  },
  {
   "cell_type": "code",
   "execution_count": 287,
   "id": "28b29f9b",
   "metadata": {},
   "outputs": [
    {
     "data": {
      "text/html": [
       "<div>\n",
       "<style scoped>\n",
       "    .dataframe tbody tr th:only-of-type {\n",
       "        vertical-align: middle;\n",
       "    }\n",
       "\n",
       "    .dataframe tbody tr th {\n",
       "        vertical-align: top;\n",
       "    }\n",
       "\n",
       "    .dataframe thead th {\n",
       "        text-align: right;\n",
       "    }\n",
       "</style>\n",
       "<table border=\"1\" class=\"dataframe\">\n",
       "  <thead>\n",
       "    <tr style=\"text-align: right;\">\n",
       "      <th></th>\n",
       "      <th>Transaction ID</th>\n",
       "      <th>Transaction Date</th>\n",
       "      <th>Customer Title</th>\n",
       "      <th>Item ID</th>\n",
       "      <th>Item Title</th>\n",
       "      <th>Unit Title</th>\n",
       "      <th>Quantity</th>\n",
       "      <th>Rate</th>\n",
       "      <th>Gross Amount</th>\n",
       "      <th>Discount Amount</th>\n",
       "      <th>Value Excl Tax</th>\n",
       "      <th>Tax Amount</th>\n",
       "      <th>Net Amount</th>\n",
       "    </tr>\n",
       "  </thead>\n",
       "  <tbody>\n",
       "    <tr>\n",
       "      <th>0</th>\n",
       "      <td>1819-000004</td>\n",
       "      <td>14/12/2018</td>\n",
       "      <td>Haram traders shahfaisal</td>\n",
       "      <td>55.0</td>\n",
       "      <td>HOT AND SOUR SOUP 55 GM</td>\n",
       "      <td>pcs</td>\n",
       "      <td>576.00</td>\n",
       "      <td>50.00</td>\n",
       "      <td>28800.00</td>\n",
       "      <td>3456.00</td>\n",
       "      <td>25344.0</td>\n",
       "      <td>0.0</td>\n",
       "      <td>25344.00</td>\n",
       "    </tr>\n",
       "    <tr>\n",
       "      <th>1</th>\n",
       "      <td>1819-000004</td>\n",
       "      <td>14/12/2018</td>\n",
       "      <td>Haram traders shahfaisal</td>\n",
       "      <td>3.0</td>\n",
       "      <td>SEASONING CHICKEN POWDER 18GM</td>\n",
       "      <td>pcs</td>\n",
       "      <td>5760.00</td>\n",
       "      <td>12.00</td>\n",
       "      <td>69120.00</td>\n",
       "      <td>8294.40</td>\n",
       "      <td>60825.6</td>\n",
       "      <td>0.0</td>\n",
       "      <td>60825.60</td>\n",
       "    </tr>\n",
       "    <tr>\n",
       "      <th>2</th>\n",
       "      <td>1819-000004</td>\n",
       "      <td>14/12/2018</td>\n",
       "      <td>Haram traders shahfaisal</td>\n",
       "      <td>175.0</td>\n",
       "      <td>PAPAD CRACKER BUTTON COLOR 1KG</td>\n",
       "      <td>kg</td>\n",
       "      <td>24.00</td>\n",
       "      <td>160.00</td>\n",
       "      <td>3840.00</td>\n",
       "      <td>460.80</td>\n",
       "      <td>3379.2</td>\n",
       "      <td>0.0</td>\n",
       "      <td>3379.20</td>\n",
       "    </tr>\n",
       "    <tr>\n",
       "      <th>3</th>\n",
       "      <td>1819-000004</td>\n",
       "      <td>14/12/2018</td>\n",
       "      <td>Haram traders shahfaisal</td>\n",
       "      <td>40.0</td>\n",
       "      <td>PAPAD CRACKER COLOR 1KG</td>\n",
       "      <td>kg</td>\n",
       "      <td>144.00</td>\n",
       "      <td>160.00</td>\n",
       "      <td>23040.00</td>\n",
       "      <td>2764.80</td>\n",
       "      <td>20275.2</td>\n",
       "      <td>0.0</td>\n",
       "      <td>20275.20</td>\n",
       "    </tr>\n",
       "    <tr>\n",
       "      <th>4</th>\n",
       "      <td>1819-000004</td>\n",
       "      <td>14/12/2018</td>\n",
       "      <td>Haram traders shahfaisal</td>\n",
       "      <td>6.0</td>\n",
       "      <td>SEASONING CHICKEN POWDER POUCH 1KG</td>\n",
       "      <td>pcs</td>\n",
       "      <td>144.00</td>\n",
       "      <td>400.00</td>\n",
       "      <td>57600.00</td>\n",
       "      <td>6912.00</td>\n",
       "      <td>50688.0</td>\n",
       "      <td>0.0</td>\n",
       "      <td>50688.00</td>\n",
       "    </tr>\n",
       "  </tbody>\n",
       "</table>\n",
       "</div>"
      ],
      "text/plain": [
       "  Transaction ID Transaction Date            Customer Title  Item ID  \\\n",
       "0    1819-000004       14/12/2018  Haram traders shahfaisal     55.0   \n",
       "1    1819-000004       14/12/2018  Haram traders shahfaisal      3.0   \n",
       "2    1819-000004       14/12/2018  Haram traders shahfaisal    175.0   \n",
       "3    1819-000004       14/12/2018  Haram traders shahfaisal     40.0   \n",
       "4    1819-000004       14/12/2018  Haram traders shahfaisal      6.0   \n",
       "\n",
       "                           Item Title Unit Title Quantity    Rate  \\\n",
       "0             HOT AND SOUR SOUP 55 GM        pcs   576.00   50.00   \n",
       "1       SEASONING CHICKEN POWDER 18GM        pcs  5760.00   12.00   \n",
       "2     PAPAD CRACKER BUTTON COLOR 1KG          kg    24.00  160.00   \n",
       "3            PAPAD CRACKER COLOR 1KG          kg   144.00  160.00   \n",
       "4  SEASONING CHICKEN POWDER POUCH 1KG        pcs   144.00  400.00   \n",
       "\n",
       "  Gross Amount Discount Amount  Value Excl Tax  Tax Amount Net Amount  \n",
       "0     28800.00         3456.00         25344.0         0.0   25344.00  \n",
       "1     69120.00         8294.40         60825.6         0.0   60825.60  \n",
       "2      3840.00          460.80          3379.2         0.0    3379.20  \n",
       "3     23040.00         2764.80         20275.2         0.0   20275.20  \n",
       "4     57600.00         6912.00         50688.0         0.0   50688.00  "
      ]
     },
     "execution_count": 287,
     "metadata": {},
     "output_type": "execute_result"
    }
   ],
   "source": [
    "df3.head()"
   ]
  },
  {
   "cell_type": "code",
   "execution_count": 288,
   "id": "a9bcfafb",
   "metadata": {},
   "outputs": [],
   "source": [
    "df3['Item ID'] = df3['Item ID'].astype('str')\n",
    "df3['Quantity'] = df3['Quantity'].astype(np.float32)\n",
    "df3['Rate'] = df3['Rate'].astype(np.float32)\n",
    "df3['Gross Amount'] = df3['Gross Amount'].astype('float64')\n",
    "df3['Discount Amount'] = df3['Discount Amount'].astype('float64')\n",
    "df3['Net Amount'] = df3['Net Amount'].astype('float64')"
   ]
  },
  {
   "cell_type": "code",
   "execution_count": 289,
   "id": "12e0b5a7",
   "metadata": {},
   "outputs": [
    {
     "data": {
      "text/plain": [
       "Transaction ID       object\n",
       "Transaction Date     object\n",
       "Customer Title       object\n",
       "Item ID              object\n",
       "Item Title           object\n",
       "Unit Title           object\n",
       "Quantity            float32\n",
       "Rate                float32\n",
       "Gross Amount        float64\n",
       "Discount Amount     float64\n",
       "Value Excl Tax      float64\n",
       "Tax Amount          float64\n",
       "Net Amount          float64\n",
       "dtype: object"
      ]
     },
     "execution_count": 289,
     "metadata": {},
     "output_type": "execute_result"
    }
   ],
   "source": [
    "#checking datatypes\n",
    "df3.dtypes"
   ]
  },
  {
   "cell_type": "markdown",
   "id": "65c9f0e1",
   "metadata": {},
   "source": [
    "- even though the tax column does not have null values, it has 0.0 as input. therefore we would drop the column"
   ]
  },
  {
   "cell_type": "code",
   "execution_count": 290,
   "id": "e02b9990",
   "metadata": {},
   "outputs": [],
   "source": [
    "df3 = df3.drop(columns=\"Tax Amount\")"
   ]
  },
  {
   "cell_type": "code",
   "execution_count": 291,
   "id": "458920e0",
   "metadata": {},
   "outputs": [
    {
     "data": {
      "text/plain": [
       "<AxesSubplot:>"
      ]
     },
     "execution_count": 291,
     "metadata": {},
     "output_type": "execute_result"
    },
    {
     "data": {
      "image/png": "[encoded data removed]",
      "text/plain": [
       "<Figure size 1080x720 with 2 Axes>"
      ]
     },
     "metadata": {
      "needs_background": "light"
     },
     "output_type": "display_data"
    }
   ],
   "source": [
    "#creating a heatmap for correlation\n",
    "plt.figure(figsize=(15,10)) \n",
    "sns.color_palette(as_cmap=True)\n",
    "sns.heatmap(df3.corr(), annot=True, cmap='coolwarm', center = 0)"
   ]
  },
  {
   "cell_type": "markdown",
   "id": "3d059704",
   "metadata": {},
   "source": [
    "- Doing the same for the next 3 sheets"
   ]
  },
  {
   "cell_type": "markdown",
   "id": "99b822b1",
   "metadata": {},
   "source": [
    "### Sheet 4 - Items "
   ]
  },
  {
   "cell_type": "code",
   "execution_count": 292,
   "id": "a50565c2",
   "metadata": {},
   "outputs": [
    {
     "data": {
      "text/html": [
       "<div>\n",
       "<style scoped>\n",
       "    .dataframe tbody tr th:only-of-type {\n",
       "        vertical-align: middle;\n",
       "    }\n",
       "\n",
       "    .dataframe tbody tr th {\n",
       "        vertical-align: top;\n",
       "    }\n",
       "\n",
       "    .dataframe thead th {\n",
       "        text-align: right;\n",
       "    }\n",
       "</style>\n",
       "<table border=\"1\" class=\"dataframe\">\n",
       "  <thead>\n",
       "    <tr style=\"text-align: right;\">\n",
       "      <th></th>\n",
       "      <th>ItemRefNo</th>\n",
       "      <th>ItemTitle</th>\n",
       "      <th>CategoryTitle</th>\n",
       "      <th>SupplierTitle</th>\n",
       "      <th>ClassTitle</th>\n",
       "      <th>GroupTitle</th>\n",
       "      <th>TypeTitle</th>\n",
       "      <th>PackagingTitle</th>\n",
       "      <th>UOMTitle</th>\n",
       "      <th>TaxCategoryTitle</th>\n",
       "      <th>...</th>\n",
       "      <th>IsBatchNoAutoGenerate</th>\n",
       "      <th>IsBatchWiseQuantityAsFullDespatchQuantity</th>\n",
       "      <th>IsCustomDuty</th>\n",
       "      <th>NonInventory</th>\n",
       "      <th>Production</th>\n",
       "      <th>Purchase</th>\n",
       "      <th>QC</th>\n",
       "      <th>QCRequired</th>\n",
       "      <th>Sale</th>\n",
       "      <th>TaxBasedOnCustomer</th>\n",
       "    </tr>\n",
       "  </thead>\n",
       "  <tbody>\n",
       "    <tr>\n",
       "      <th>0</th>\n",
       "      <td>187</td>\n",
       "      <td>Scourer 18gm</td>\n",
       "      <td>Scourer</td>\n",
       "      <td>None</td>\n",
       "      <td>scourer</td>\n",
       "      <td>finished goods</td>\n",
       "      <td>none</td>\n",
       "      <td>None</td>\n",
       "      <td>pcs</td>\n",
       "      <td>None</td>\n",
       "      <td>...</td>\n",
       "      <td>No</td>\n",
       "      <td>No</td>\n",
       "      <td>No</td>\n",
       "      <td>No</td>\n",
       "      <td>No</td>\n",
       "      <td>No</td>\n",
       "      <td>No</td>\n",
       "      <td>No</td>\n",
       "      <td>No</td>\n",
       "      <td>No</td>\n",
       "    </tr>\n",
       "    <tr>\n",
       "      <th>1</th>\n",
       "      <td>188</td>\n",
       "      <td>Scourer 36gm</td>\n",
       "      <td>Scourer</td>\n",
       "      <td>None</td>\n",
       "      <td>scourer</td>\n",
       "      <td>finished goods</td>\n",
       "      <td>none</td>\n",
       "      <td>None</td>\n",
       "      <td>pcs</td>\n",
       "      <td>None</td>\n",
       "      <td>...</td>\n",
       "      <td>No</td>\n",
       "      <td>No</td>\n",
       "      <td>No</td>\n",
       "      <td>No</td>\n",
       "      <td>No</td>\n",
       "      <td>No</td>\n",
       "      <td>No</td>\n",
       "      <td>No</td>\n",
       "      <td>No</td>\n",
       "      <td>No</td>\n",
       "    </tr>\n",
       "    <tr>\n",
       "      <th>2</th>\n",
       "      <td>235</td>\n",
       "      <td>Scourer 20gm</td>\n",
       "      <td>Scourer</td>\n",
       "      <td>None</td>\n",
       "      <td>scourer</td>\n",
       "      <td>finished goods</td>\n",
       "      <td>none</td>\n",
       "      <td>None</td>\n",
       "      <td>pcs</td>\n",
       "      <td>None</td>\n",
       "      <td>...</td>\n",
       "      <td>No</td>\n",
       "      <td>No</td>\n",
       "      <td>No</td>\n",
       "      <td>No</td>\n",
       "      <td>No</td>\n",
       "      <td>No</td>\n",
       "      <td>No</td>\n",
       "      <td>No</td>\n",
       "      <td>No</td>\n",
       "      <td>No</td>\n",
       "    </tr>\n",
       "    <tr>\n",
       "      <th>3</th>\n",
       "      <td>408</td>\n",
       "      <td>SCOURER 15GM</td>\n",
       "      <td>Scourer</td>\n",
       "      <td>None</td>\n",
       "      <td>scourer</td>\n",
       "      <td>finished goods</td>\n",
       "      <td>none</td>\n",
       "      <td>None</td>\n",
       "      <td>pcs</td>\n",
       "      <td>None</td>\n",
       "      <td>...</td>\n",
       "      <td>No</td>\n",
       "      <td>No</td>\n",
       "      <td>No</td>\n",
       "      <td>No</td>\n",
       "      <td>No</td>\n",
       "      <td>No</td>\n",
       "      <td>No</td>\n",
       "      <td>No</td>\n",
       "      <td>No</td>\n",
       "      <td>No</td>\n",
       "    </tr>\n",
       "    <tr>\n",
       "      <th>4</th>\n",
       "      <td>184</td>\n",
       "      <td>PAPAD TRIANGLE 500GM</td>\n",
       "      <td>cracker</td>\n",
       "      <td>None</td>\n",
       "      <td>3d</td>\n",
       "      <td>finished goods</td>\n",
       "      <td>none</td>\n",
       "      <td>None</td>\n",
       "      <td>pcs</td>\n",
       "      <td>None</td>\n",
       "      <td>...</td>\n",
       "      <td>No</td>\n",
       "      <td>No</td>\n",
       "      <td>No</td>\n",
       "      <td>No</td>\n",
       "      <td>No</td>\n",
       "      <td>No</td>\n",
       "      <td>No</td>\n",
       "      <td>No</td>\n",
       "      <td>No</td>\n",
       "      <td>No</td>\n",
       "    </tr>\n",
       "  </tbody>\n",
       "</table>\n",
       "<p>5 rows × 28 columns</p>\n",
       "</div>"
      ],
      "text/plain": [
       "   ItemRefNo             ItemTitle CategoryTitle SupplierTitle ClassTitle  \\\n",
       "0        187          Scourer 18gm       Scourer          None    scourer   \n",
       "1        188          Scourer 36gm       Scourer          None    scourer   \n",
       "2        235          Scourer 20gm       Scourer          None    scourer   \n",
       "3        408          SCOURER 15GM       Scourer          None    scourer   \n",
       "4        184  PAPAD TRIANGLE 500GM       cracker          None         3d   \n",
       "\n",
       "       GroupTitle TypeTitle PackagingTitle UOMTitle TaxCategoryTitle  ...  \\\n",
       "0  finished goods      none           None      pcs             None  ...   \n",
       "1  finished goods      none           None      pcs             None  ...   \n",
       "2  finished goods      none           None      pcs             None  ...   \n",
       "3  finished goods      none           None      pcs             None  ...   \n",
       "4  finished goods      none           None      pcs             None  ...   \n",
       "\n",
       "  IsBatchNoAutoGenerate IsBatchWiseQuantityAsFullDespatchQuantity  \\\n",
       "0                    No                                        No   \n",
       "1                    No                                        No   \n",
       "2                    No                                        No   \n",
       "3                    No                                        No   \n",
       "4                    No                                        No   \n",
       "\n",
       "   IsCustomDuty NonInventory  Production Purchase  QC QCRequired Sale  \\\n",
       "0            No           No          No       No  No         No   No   \n",
       "1            No           No          No       No  No         No   No   \n",
       "2            No           No          No       No  No         No   No   \n",
       "3            No           No          No       No  No         No   No   \n",
       "4            No           No          No       No  No         No   No   \n",
       "\n",
       "  TaxBasedOnCustomer  \n",
       "0                 No  \n",
       "1                 No  \n",
       "2                 No  \n",
       "3                 No  \n",
       "4                 No  \n",
       "\n",
       "[5 rows x 28 columns]"
      ]
     },
     "execution_count": 292,
     "metadata": {},
     "output_type": "execute_result"
    }
   ],
   "source": [
    "df5.head()"
   ]
  },
  {
   "cell_type": "code",
   "execution_count": 293,
   "id": "bc48ae98",
   "metadata": {},
   "outputs": [
    {
     "data": {
      "text/plain": [
       "(578, 28)"
      ]
     },
     "execution_count": 293,
     "metadata": {},
     "output_type": "execute_result"
    }
   ],
   "source": [
    "#checking total number of rows and columns\n",
    "df5.shape"
   ]
  },
  {
   "cell_type": "code",
   "execution_count": 294,
   "id": "5a1edf00",
   "metadata": {},
   "outputs": [
    {
     "data": {
      "text/plain": [
       "ItemRefNo                                      int64\n",
       "ItemTitle                                     object\n",
       "CategoryTitle                                 object\n",
       "SupplierTitle                                 object\n",
       "ClassTitle                                    object\n",
       "GroupTitle                                    object\n",
       "TypeTitle                                     object\n",
       "PackagingTitle                                object\n",
       "UOMTitle                                      object\n",
       "TaxCategoryTitle                              object\n",
       "PartNumber                                    object\n",
       "Make                                          object\n",
       "PcsPerPkt                                    float64\n",
       "Active                                        object\n",
       "DecimalPlaceCount                              int64\n",
       "ManualRate                                    object\n",
       "PurchaseRate                                 float64\n",
       "BatchNoRequired                               object\n",
       "IsBatchNoAutoGenerate                         object\n",
       "IsBatchWiseQuantityAsFullDespatchQuantity     object\n",
       "IsCustomDuty                                  object\n",
       "NonInventory                                  object\n",
       "Production                                    object\n",
       "Purchase                                      object\n",
       "QC                                            object\n",
       "QCRequired                                    object\n",
       "Sale                                          object\n",
       "TaxBasedOnCustomer                            object\n",
       "dtype: object"
      ]
     },
     "execution_count": 294,
     "metadata": {},
     "output_type": "execute_result"
    }
   ],
   "source": [
    "#checking datatypes that we are dealing with\n",
    "df5.dtypes"
   ]
  },
  {
   "cell_type": "code",
   "execution_count": 295,
   "id": "3a34f0b2",
   "metadata": {},
   "outputs": [
    {
     "data": {
      "text/plain": [
       "ItemRefNo                                     0\n",
       "ItemTitle                                     0\n",
       "CategoryTitle                                 0\n",
       "SupplierTitle                                 0\n",
       "ClassTitle                                    0\n",
       "GroupTitle                                    0\n",
       "TypeTitle                                     0\n",
       "PackagingTitle                                0\n",
       "UOMTitle                                      0\n",
       "TaxCategoryTitle                              0\n",
       "PartNumber                                   42\n",
       "Make                                         33\n",
       "PcsPerPkt                                     0\n",
       "Active                                        0\n",
       "DecimalPlaceCount                             0\n",
       "ManualRate                                    0\n",
       "PurchaseRate                                  0\n",
       "BatchNoRequired                               0\n",
       "IsBatchNoAutoGenerate                         0\n",
       "IsBatchWiseQuantityAsFullDespatchQuantity     0\n",
       "IsCustomDuty                                  0\n",
       "NonInventory                                  0\n",
       "Production                                    0\n",
       "Purchase                                      0\n",
       "QC                                            0\n",
       "QCRequired                                    0\n",
       "Sale                                          0\n",
       "TaxBasedOnCustomer                            0\n",
       "dtype: int64"
      ]
     },
     "execution_count": 295,
     "metadata": {},
     "output_type": "execute_result"
    }
   ],
   "source": [
    "#checking for sum of null values in each column\n",
    "df5.isnull().sum()"
   ]
  },
  {
   "cell_type": "code",
   "execution_count": 296,
   "id": "3049daed",
   "metadata": {},
   "outputs": [
    {
     "data": {
      "text/plain": [
       "<AxesSubplot:>"
      ]
     },
     "execution_count": 296,
     "metadata": {},
     "output_type": "execute_result"
    },
    {
     "data": {
      "image/png": "[encoded data removed]",
      "text/plain": [
       "<Figure size 1800x720 with 2 Axes>"
      ]
     },
     "metadata": {
      "needs_background": "light"
     },
     "output_type": "display_data"
    }
   ],
   "source": [
    "#checking where the data is missing through matrix \n",
    "msno.matrix(df5)"
   ]
  },
  {
   "cell_type": "code",
   "execution_count": 297,
   "id": "d10e1183",
   "metadata": {},
   "outputs": [
    {
     "data": {
      "text/plain": [
       "26"
      ]
     },
     "execution_count": 297,
     "metadata": {},
     "output_type": "execute_result"
    }
   ],
   "source": [
    "#keeping check of unique values \n",
    "df5['PartNumber'].nunique()"
   ]
  },
  {
   "cell_type": "code",
   "execution_count": 298,
   "id": "45f94891",
   "metadata": {},
   "outputs": [
    {
     "data": {
      "text/plain": [
       "9"
      ]
     },
     "execution_count": 298,
     "metadata": {},
     "output_type": "execute_result"
    }
   ],
   "source": [
    "#keeping check of unique values \n",
    "df5['Make'].nunique()"
   ]
  },
  {
   "cell_type": "code",
   "execution_count": 299,
   "id": "628d0229",
   "metadata": {},
   "outputs": [
    {
     "data": {
      "text/plain": [
       "array(['none', '15', '300', '12', nan, '0', '1000', '200', '27', '100',\n",
       "       '250', '500', '18', '50', '56', '67', '53', '60', '10', '165',\n",
       "       '330', '150', '25', '125', '375', 'None', '110'], dtype=object)"
      ]
     },
     "execution_count": 299,
     "metadata": {},
     "output_type": "execute_result"
    }
   ],
   "source": [
    "# checking which value values are unique\n",
    "df5.PartNumber.unique()"
   ]
  },
  {
   "cell_type": "code",
   "execution_count": 300,
   "id": "4537c47b",
   "metadata": {},
   "outputs": [
    {
     "data": {
      "text/plain": [
       "array(['none', nan, '-', '0', 'production', 'm&f', '72', 'F&A Int.',\n",
       "       'AONE', 'A ONE PACKAGES'], dtype=object)"
      ]
     },
     "execution_count": 300,
     "metadata": {},
     "output_type": "execute_result"
    }
   ],
   "source": [
    "# checking which value values are unique\n",
    "df5.Make.unique()"
   ]
  },
  {
   "cell_type": "markdown",
   "id": "5a853e94",
   "metadata": {},
   "source": [
    "- After going through the data mannually i noticed that most of the data in the column was of null values entered as \"none\" The columns are useless therefore should be dropped"
   ]
  },
  {
   "cell_type": "code",
   "execution_count": 301,
   "id": "8f3715d0",
   "metadata": {},
   "outputs": [],
   "source": [
    "df5 = df5.drop(columns=[\"PartNumber\", \"Make\"])"
   ]
  },
  {
   "cell_type": "code",
   "execution_count": 302,
   "id": "f3d4d862",
   "metadata": {},
   "outputs": [
    {
     "data": {
      "text/plain": [
       "<AxesSubplot:>"
      ]
     },
     "execution_count": 302,
     "metadata": {},
     "output_type": "execute_result"
    },
    {
     "data": {
      "image/png": "[encoded data removed]",
      "text/plain": [
       "<Figure size 1800x720 with 2 Axes>"
      ]
     },
     "metadata": {
      "needs_background": "light"
     },
     "output_type": "display_data"
    }
   ],
   "source": [
    "#checking where the data is missing through matrix \n",
    "msno.matrix(df5)"
   ]
  },
  {
   "cell_type": "markdown",
   "id": "6869bd24",
   "metadata": {},
   "source": [
    "- I also noticed that some columns have binary yes/no enteries. So we wou;d be dropping those as well"
   ]
  },
  {
   "cell_type": "code",
   "execution_count": 303,
   "id": "292ab167",
   "metadata": {},
   "outputs": [],
   "source": [
    "df5 = df5.drop(columns=[\"IsBatchNoAutoGenerate\", \"IsBatchWiseQuantityAsFullDespatchQuantity\", \"IsCustomDuty\", \"QCRequired\"])"
   ]
  },
  {
   "cell_type": "code",
   "execution_count": 304,
   "id": "dda3e989",
   "metadata": {},
   "outputs": [
    {
     "data": {
      "text/plain": [
       "ItemRefNo               int64\n",
       "ItemTitle              object\n",
       "CategoryTitle          object\n",
       "SupplierTitle          object\n",
       "ClassTitle             object\n",
       "GroupTitle             object\n",
       "TypeTitle              object\n",
       "PackagingTitle         object\n",
       "UOMTitle               object\n",
       "TaxCategoryTitle       object\n",
       "PcsPerPkt             float64\n",
       "Active                 object\n",
       "DecimalPlaceCount       int64\n",
       "ManualRate             object\n",
       "PurchaseRate          float64\n",
       "BatchNoRequired        object\n",
       "NonInventory           object\n",
       "Production             object\n",
       "Purchase               object\n",
       "QC                     object\n",
       "Sale                   object\n",
       "TaxBasedOnCustomer     object\n",
       "dtype: object"
      ]
     },
     "execution_count": 304,
     "metadata": {},
     "output_type": "execute_result"
    }
   ],
   "source": [
    "#checking datatypes that we are dealing with\n",
    "df5.dtypes"
   ]
  },
  {
   "cell_type": "code",
   "execution_count": 305,
   "id": "ff15355c",
   "metadata": {},
   "outputs": [],
   "source": [
    "#changing Item ref number to object type\n",
    "df5['ItemRefNo'] = df5['ItemRefNo'].astype('str')"
   ]
  },
  {
   "cell_type": "markdown",
   "id": "6a172432",
   "metadata": {},
   "source": [
    "### Sheet 5 - Purchase"
   ]
  },
  {
   "cell_type": "code",
   "execution_count": 306,
   "id": "cac6c1da",
   "metadata": {},
   "outputs": [
    {
     "data": {
      "text/html": [
       "<div>\n",
       "<style scoped>\n",
       "    .dataframe tbody tr th:only-of-type {\n",
       "        vertical-align: middle;\n",
       "    }\n",
       "\n",
       "    .dataframe tbody tr th {\n",
       "        vertical-align: top;\n",
       "    }\n",
       "\n",
       "    .dataframe thead th {\n",
       "        text-align: right;\n",
       "    }\n",
       "</style>\n",
       "<table border=\"1\" class=\"dataframe\">\n",
       "  <thead>\n",
       "    <tr style=\"text-align: right;\">\n",
       "      <th></th>\n",
       "      <th>Transaction ID</th>\n",
       "      <th>Transaction Date</th>\n",
       "      <th>Supplier ID</th>\n",
       "      <th>Supplier Title</th>\n",
       "      <th>Supplier Category</th>\n",
       "      <th>Project ID</th>\n",
       "      <th>Project Title</th>\n",
       "      <th>Currency ID</th>\n",
       "      <th>Currency Title</th>\n",
       "      <th>Type Title</th>\n",
       "      <th>...</th>\n",
       "      <th>DC Date</th>\n",
       "      <th>StockStatus ID</th>\n",
       "      <th>StockStatus Title</th>\n",
       "      <th>Quantity</th>\n",
       "      <th>Rate</th>\n",
       "      <th>Gross Amount</th>\n",
       "      <th>DiscountAmount</th>\n",
       "      <th>SalesTax Rate</th>\n",
       "      <th>SalesTax Amount</th>\n",
       "      <th>Net Amount</th>\n",
       "    </tr>\n",
       "  </thead>\n",
       "  <tbody>\n",
       "    <tr>\n",
       "      <th>0</th>\n",
       "      <td>1819-000001</td>\n",
       "      <td>12/1/2018</td>\n",
       "      <td>118</td>\n",
       "      <td>Sugar Bashir Sugar (SAAD) JODIA</td>\n",
       "      <td>SERVICES</td>\n",
       "      <td>2</td>\n",
       "      <td>None</td>\n",
       "      <td>1</td>\n",
       "      <td>PAK Rupee</td>\n",
       "      <td>sugar</td>\n",
       "      <td>...</td>\n",
       "      <td>12/21/2018</td>\n",
       "      <td>1</td>\n",
       "      <td>None</td>\n",
       "      <td>1,250.00</td>\n",
       "      <td>52.00</td>\n",
       "      <td>65,000.00</td>\n",
       "      <td>0.0</td>\n",
       "      <td>0.0</td>\n",
       "      <td>0.00</td>\n",
       "      <td>65,000.00</td>\n",
       "    </tr>\n",
       "    <tr>\n",
       "      <th>1</th>\n",
       "      <td>1819-000018</td>\n",
       "      <td>12/4/2018</td>\n",
       "      <td>104</td>\n",
       "      <td>Speciality Printers</td>\n",
       "      <td>PACKING MATERIAL</td>\n",
       "      <td>2</td>\n",
       "      <td>None</td>\n",
       "      <td>1</td>\n",
       "      <td>PAK Rupee</td>\n",
       "      <td>soup &amp; ckp</td>\n",
       "      <td>...</td>\n",
       "      <td>12/24/2018</td>\n",
       "      <td>1</td>\n",
       "      <td>None</td>\n",
       "      <td>897.19</td>\n",
       "      <td>445.00</td>\n",
       "      <td>399,249.55</td>\n",
       "      <td>0.0</td>\n",
       "      <td>0.0</td>\n",
       "      <td>67,872.42</td>\n",
       "      <td>467,121.97</td>\n",
       "    </tr>\n",
       "    <tr>\n",
       "      <th>2</th>\n",
       "      <td>1819-000002</td>\n",
       "      <td>12/4/2018</td>\n",
       "      <td>114</td>\n",
       "      <td>Atif Riaz (Rafhan Corn Starch)</td>\n",
       "      <td>RAW MATERIAL</td>\n",
       "      <td>2</td>\n",
       "      <td>None</td>\n",
       "      <td>1</td>\n",
       "      <td>PAK Rupee</td>\n",
       "      <td>starchCorn</td>\n",
       "      <td>...</td>\n",
       "      <td>12/21/2018</td>\n",
       "      <td>1</td>\n",
       "      <td>None</td>\n",
       "      <td>15,000.00</td>\n",
       "      <td>69.85</td>\n",
       "      <td>1,047,735.00</td>\n",
       "      <td>0.0</td>\n",
       "      <td>0.0</td>\n",
       "      <td>0.00</td>\n",
       "      <td>1,047,735.00</td>\n",
       "    </tr>\n",
       "    <tr>\n",
       "      <th>3</th>\n",
       "      <td>1819-000003</td>\n",
       "      <td>12/4/2018</td>\n",
       "      <td>14</td>\n",
       "      <td>Unity Foods Limited</td>\n",
       "      <td>RAW MATERIAL</td>\n",
       "      <td>2</td>\n",
       "      <td>None</td>\n",
       "      <td>1</td>\n",
       "      <td>PAK Rupee</td>\n",
       "      <td>HPKO</td>\n",
       "      <td>...</td>\n",
       "      <td>12/21/2018</td>\n",
       "      <td>1</td>\n",
       "      <td>None</td>\n",
       "      <td>2,000.00</td>\n",
       "      <td>199.00</td>\n",
       "      <td>398,000.00</td>\n",
       "      <td>0.0</td>\n",
       "      <td>0.0</td>\n",
       "      <td>0.00</td>\n",
       "      <td>398,000.00</td>\n",
       "    </tr>\n",
       "    <tr>\n",
       "      <th>4</th>\n",
       "      <td>1819-000017</td>\n",
       "      <td>12/4/2018</td>\n",
       "      <td>133</td>\n",
       "      <td>Vendor cash partys</td>\n",
       "      <td>SERVICES</td>\n",
       "      <td>2</td>\n",
       "      <td>None</td>\n",
       "      <td>1</td>\n",
       "      <td>PAK Rupee</td>\n",
       "      <td>cornFlour</td>\n",
       "      <td>...</td>\n",
       "      <td>12/24/2018</td>\n",
       "      <td>1</td>\n",
       "      <td>None</td>\n",
       "      <td>200.00</td>\n",
       "      <td>39.00</td>\n",
       "      <td>7,800.00</td>\n",
       "      <td>0.0</td>\n",
       "      <td>0.0</td>\n",
       "      <td>0.00</td>\n",
       "      <td>7,800.00</td>\n",
       "    </tr>\n",
       "  </tbody>\n",
       "</table>\n",
       "<p>5 rows × 32 columns</p>\n",
       "</div>"
      ],
      "text/plain": [
       "  Transaction ID Transaction Date  Supplier ID  \\\n",
       "0    1819-000001        12/1/2018          118   \n",
       "1    1819-000018        12/4/2018          104   \n",
       "2    1819-000002        12/4/2018          114   \n",
       "3    1819-000003        12/4/2018           14   \n",
       "4    1819-000017        12/4/2018          133   \n",
       "\n",
       "                    Supplier Title Supplier Category  Project ID  \\\n",
       "0  Sugar Bashir Sugar (SAAD) JODIA          SERVICES           2   \n",
       "1              Speciality Printers  PACKING MATERIAL           2   \n",
       "2   Atif Riaz (Rafhan Corn Starch)      RAW MATERIAL           2   \n",
       "3              Unity Foods Limited      RAW MATERIAL           2   \n",
       "4               Vendor cash partys          SERVICES           2   \n",
       "\n",
       "  Project Title  Currency ID Currency Title  Type Title  ...     DC Date  \\\n",
       "0          None            1      PAK Rupee       sugar  ...  12/21/2018   \n",
       "1          None            1      PAK Rupee  soup & ckp  ...  12/24/2018   \n",
       "2          None            1      PAK Rupee  starchCorn  ...  12/21/2018   \n",
       "3          None            1      PAK Rupee        HPKO  ...  12/21/2018   \n",
       "4          None            1      PAK Rupee   cornFlour  ...  12/24/2018   \n",
       "\n",
       "  StockStatus ID StockStatus Title   Quantity    Rate  Gross Amount  \\\n",
       "0              1              None   1,250.00   52.00     65,000.00   \n",
       "1              1              None     897.19  445.00    399,249.55   \n",
       "2              1              None  15,000.00   69.85  1,047,735.00   \n",
       "3              1              None   2,000.00  199.00    398,000.00   \n",
       "4              1              None     200.00   39.00      7,800.00   \n",
       "\n",
       "  DiscountAmount SalesTax Rate SalesTax Amount    Net Amount  \n",
       "0            0.0           0.0            0.00     65,000.00  \n",
       "1            0.0           0.0       67,872.42    467,121.97  \n",
       "2            0.0           0.0            0.00  1,047,735.00  \n",
       "3            0.0           0.0            0.00    398,000.00  \n",
       "4            0.0           0.0            0.00      7,800.00  \n",
       "\n",
       "[5 rows x 32 columns]"
      ]
     },
     "execution_count": 306,
     "metadata": {},
     "output_type": "execute_result"
    }
   ],
   "source": [
    "df6.head()"
   ]
  },
  {
   "cell_type": "code",
   "execution_count": 307,
   "id": "f5360548",
   "metadata": {},
   "outputs": [
    {
     "data": {
      "text/plain": [
       "(3030, 32)"
      ]
     },
     "execution_count": 307,
     "metadata": {},
     "output_type": "execute_result"
    }
   ],
   "source": [
    "#checking total number of rows and columns\n",
    "df6.shape"
   ]
  },
  {
   "cell_type": "code",
   "execution_count": 308,
   "id": "6c0474e1",
   "metadata": {},
   "outputs": [
    {
     "data": {
      "text/plain": [
       "Transaction ID        object\n",
       "Transaction Date      object\n",
       "Supplier ID            int64\n",
       "Supplier Title        object\n",
       "Supplier Category     object\n",
       "Project ID             int64\n",
       "Project Title         object\n",
       "Currency ID            int64\n",
       "Currency Title        object\n",
       "Type Title            object\n",
       "Godown Title          object\n",
       "Category Title        object\n",
       "Class Title           object\n",
       "Packaging Title       object\n",
       "Brand Title           object\n",
       "Item ID                int64\n",
       "Item Title            object\n",
       "Unit Title            object\n",
       "Item Description      object\n",
       "Bill No              float64\n",
       "Bill Date             object\n",
       "DC No                 object\n",
       "DC Date               object\n",
       "StockStatus ID         int64\n",
       "StockStatus Title     object\n",
       "Quantity              object\n",
       "Rate                  object\n",
       "Gross Amount          object\n",
       "DiscountAmount       float64\n",
       "SalesTax Rate        float64\n",
       "SalesTax Amount       object\n",
       "Net Amount            object\n",
       "dtype: object"
      ]
     },
     "execution_count": 308,
     "metadata": {},
     "output_type": "execute_result"
    }
   ],
   "source": [
    "#checking datatypes that we are dealing with\n",
    "df6.dtypes"
   ]
  },
  {
   "cell_type": "code",
   "execution_count": 309,
   "id": "bd4b2c4a",
   "metadata": {},
   "outputs": [],
   "source": [
    "#removing commas from numbers so that it is easy to convert the dat type from string to numberic just like we did previously\n",
    "df6.replace(',','', regex=True, inplace=True)"
   ]
  },
  {
   "cell_type": "code",
   "execution_count": 310,
   "id": "8580c0d5",
   "metadata": {},
   "outputs": [],
   "source": [
    "df6['Item ID'] = df6['Item ID'].astype('str')\n",
    "df6['Supplier ID'] = df6['Supplier ID'].astype('str')\n",
    "df6['StockStatus ID'] = df6['StockStatus ID'].astype('str')\n",
    "df6['Quantity'] = df6['Quantity'].astype(np.float32)\n",
    "df6['Rate'] = df6['Rate'].astype(np.float32)\n",
    "df6['Gross Amount'] = df6['Gross Amount'].astype('float64')\n",
    "df6['SalesTax Amount'] = df6['SalesTax Amount'].astype('float64')\n",
    "df6['Net Amount'] = df6['Net Amount'].astype('float64')\n",
    "df6['Project ID'] = df6['Project ID'].astype('str')\n",
    "df6['Bill No'] = df6['Bill No'].astype('str')"
   ]
  },
  {
   "cell_type": "code",
   "execution_count": 311,
   "id": "43795225",
   "metadata": {},
   "outputs": [
    {
     "data": {
      "text/plain": [
       "Transaction ID        object\n",
       "Transaction Date      object\n",
       "Supplier ID           object\n",
       "Supplier Title        object\n",
       "Supplier Category     object\n",
       "Project ID            object\n",
       "Project Title         object\n",
       "Currency ID            int64\n",
       "Currency Title        object\n",
       "Type Title            object\n",
       "Godown Title          object\n",
       "Category Title        object\n",
       "Class Title           object\n",
       "Packaging Title       object\n",
       "Brand Title           object\n",
       "Item ID               object\n",
       "Item Title            object\n",
       "Unit Title            object\n",
       "Item Description      object\n",
       "Bill No               object\n",
       "Bill Date             object\n",
       "DC No                 object\n",
       "DC Date               object\n",
       "StockStatus ID        object\n",
       "StockStatus Title     object\n",
       "Quantity             float32\n",
       "Rate                 float32\n",
       "Gross Amount         float64\n",
       "DiscountAmount       float64\n",
       "SalesTax Rate        float64\n",
       "SalesTax Amount      float64\n",
       "Net Amount           float64\n",
       "dtype: object"
      ]
     },
     "execution_count": 311,
     "metadata": {},
     "output_type": "execute_result"
    }
   ],
   "source": [
    "#checking datatypes that we are dealing with\n",
    "df6.dtypes"
   ]
  },
  {
   "cell_type": "markdown",
   "id": "0337cb4c",
   "metadata": {},
   "source": [
    "- Along with the Title, there are alot of IDs, we only need one of these as categorical data, therefore we would remove some of these columns"
   ]
  },
  {
   "cell_type": "code",
   "execution_count": 312,
   "id": "21f9996b",
   "metadata": {},
   "outputs": [],
   "source": [
    "df6 = df6.drop(columns=[\"Supplier ID\", \"Project ID\", \"Currency ID\", \"Item ID\", \"StockStatus ID\", \"DC No\", \"DC Date\", \"Transaction ID\"])"
   ]
  },
  {
   "cell_type": "code",
   "execution_count": 313,
   "id": "0529feb8",
   "metadata": {},
   "outputs": [
    {
     "data": {
      "text/plain": [
       "Transaction Date      0\n",
       "Supplier Title        0\n",
       "Supplier Category     0\n",
       "Project Title         0\n",
       "Currency Title        0\n",
       "Type Title            0\n",
       "Godown Title          0\n",
       "Category Title        0\n",
       "Class Title           0\n",
       "Packaging Title       0\n",
       "Brand Title           0\n",
       "Item Title            0\n",
       "Unit Title            0\n",
       "Item Description     35\n",
       "Bill No               0\n",
       "Bill Date             0\n",
       "StockStatus Title     0\n",
       "Quantity              0\n",
       "Rate                  0\n",
       "Gross Amount          0\n",
       "DiscountAmount        0\n",
       "SalesTax Rate         0\n",
       "SalesTax Amount       0\n",
       "Net Amount            0\n",
       "dtype: int64"
      ]
     },
     "execution_count": 313,
     "metadata": {},
     "output_type": "execute_result"
    }
   ],
   "source": [
    "#checking for sum of null values in each column\n",
    "df6.isnull().sum()"
   ]
  },
  {
   "cell_type": "code",
   "execution_count": 314,
   "id": "9582fc43",
   "metadata": {},
   "outputs": [
    {
     "data": {
      "text/plain": [
       "<AxesSubplot:>"
      ]
     },
     "execution_count": 314,
     "metadata": {},
     "output_type": "execute_result"
    },
    {
     "data": {
      "image/png": "[encoded data removed]",
      "text/plain": [
       "<Figure size 1800x720 with 2 Axes>"
      ]
     },
     "metadata": {
      "needs_background": "light"
     },
     "output_type": "display_data"
    }
   ],
   "source": [
    "#checking where the data is missing through matrix \n",
    "msno.matrix(df6)"
   ]
  },
  {
   "cell_type": "code",
   "execution_count": 315,
   "id": "827d481a",
   "metadata": {},
   "outputs": [
    {
     "data": {
      "text/plain": [
       "array(['invert sugar', 'chicken powder 100gm roll  total 78rolls',\n",
       "       'cracker & chicken powder production', ..., 'starch 300bags',\n",
       "       'cooking oil 1100 kg', '3d party mix 1250 kg'], dtype=object)"
      ]
     },
     "execution_count": 315,
     "metadata": {},
     "output_type": "execute_result"
    }
   ],
   "source": [
    "# checking which value values are unique\n",
    "df6[\"Item Description\"].unique()"
   ]
  },
  {
   "cell_type": "code",
   "execution_count": 316,
   "id": "52a7ee49",
   "metadata": {},
   "outputs": [],
   "source": [
    "df6 = df6.dropna(subset=['Item Description'])"
   ]
  },
  {
   "cell_type": "code",
   "execution_count": 317,
   "id": "bef004e5",
   "metadata": {},
   "outputs": [
    {
     "data": {
      "text/plain": [
       "Transaction Date     0\n",
       "Supplier Title       0\n",
       "Supplier Category    0\n",
       "Project Title        0\n",
       "Currency Title       0\n",
       "Type Title           0\n",
       "Godown Title         0\n",
       "Category Title       0\n",
       "Class Title          0\n",
       "Packaging Title      0\n",
       "Brand Title          0\n",
       "Item Title           0\n",
       "Unit Title           0\n",
       "Item Description     0\n",
       "Bill No              0\n",
       "Bill Date            0\n",
       "StockStatus Title    0\n",
       "Quantity             0\n",
       "Rate                 0\n",
       "Gross Amount         0\n",
       "DiscountAmount       0\n",
       "SalesTax Rate        0\n",
       "SalesTax Amount      0\n",
       "Net Amount           0\n",
       "dtype: int64"
      ]
     },
     "execution_count": 317,
     "metadata": {},
     "output_type": "execute_result"
    }
   ],
   "source": [
    "#checking for sum of null values in each column\n",
    "df6.isnull().sum()"
   ]
  },
  {
   "cell_type": "markdown",
   "id": "af8dda79",
   "metadata": {},
   "source": [
    "- we will check for unique values in the remaining columns and see if would be useful in the wrangling process or not\n",
    "- This is mainly for categorical data to ensure if there are enough values in the column to turn them into dimensions"
   ]
  },
  {
   "cell_type": "code",
   "execution_count": 318,
   "id": "6fe23df9",
   "metadata": {},
   "outputs": [
    {
     "data": {
      "text/plain": [
       "150"
      ]
     },
     "execution_count": 318,
     "metadata": {},
     "output_type": "execute_result"
    }
   ],
   "source": [
    "#checking for unique values\n",
    "df6['Supplier Title'].nunique()"
   ]
  },
  {
   "cell_type": "code",
   "execution_count": 319,
   "id": "313a1be0",
   "metadata": {},
   "outputs": [
    {
     "data": {
      "text/plain": [
       "array(['Sugar Bashir Sugar (SAAD) JODIA', 'Speciality Printers',\n",
       "       'Atif Riaz (Rafhan Corn Starch)', 'Unity Foods Limited',\n",
       "       'Vendor cash partys', 'A one Packages Cartons',\n",
       "       'Mirpurkhas Sugar Mills ltd', 'Khamissa International',\n",
       "       'Humayun Cargill ( javed sarvana )', 'Al Habib Masala',\n",
       "       'Chemicalwala Corp. Jodia', 'Usman Ice Box Maker',\n",
       "       'Hub Salt Refinery', 'N.a Enterprises', 'Foodlink',\n",
       "       'Al-Ameen Salt', 'Qureshi Flour Mills', 'Flavor M.A.J Flavor',\n",
       "       'Areeba food industries', 'MULTI PACKAGES AAMIR',\n",
       "       'Khizer Printers', 'Silat Impex Abdul Qadir starch', 'Hussain Can',\n",
       "       'HANGZHOU ZHONGBAO IMP AND EXP CORP.LTD.', 'Marjan food',\n",
       "       'F&A International', 'ANHUI EBUY INTERNATIONAL', 'Klarg Exports',\n",
       "       'CJ CHEILJEDANG CORPORATION', 'MAK KEMICAL', 'Brother Enterprise',\n",
       "       'Habib ADM Limited', 'Bhaya food dip ',\n",
       "       'Tape Fair Pack International pvt ltd', 'Urban Packages',\n",
       "       'S.K Plastic', 'Deer food industries', 'National chemical naeem',\n",
       "       'ANAS TRADERS JODIA', 'REDA Industrial chemical',\n",
       "       'S.B.R & CO. Malt', 'International Flavor & Fragrances Turkey',\n",
       "       'Ahmed Impex', 'Cherry PLastics ', 'ZAM ZAM TRADERS JODIA',\n",
       "       'Iqbal Mairaj Deen', 'ANGEL YEAST EXTRACT CO. LTD',\n",
       "       'Far Eastern Impex (pvt)', 'JINAN QUANHUA PACKING PRODUCTS',\n",
       "       'JINAN DG MACHINERY', 'Manora Trader', 'Deluxe packages',\n",
       "       'Wahaj Enterprises', 'Sultan Chemicals',\n",
       "       'MEIHUA GROUP INTERNATIONAL TRADING (HONG KONG) LIMITED',\n",
       "       'M&F Cartons ', 'REDA FZE UAE', 'Pearl Confectionary',\n",
       "       'Atlas Equipments', 'Ellahi flour mills', 'Makkah traders ',\n",
       "       'H Nazir zulfiqar hadi market', 'Minyani poly packages bardana',\n",
       "       'CENTER OF CHEMICAL', 'Humayun wellchem Industries',\n",
       "       'GUIDES CORPORATION', 'nadeem chemical jodia ',\n",
       "       'Willmar Trading company PTE. LTD', 'ECOLEX SDN. BHD. | AMIN TECH',\n",
       "       'Kamil chocolate mukka chowk', 'PERFECT FOOD INDUSTRIES LAHORE',\n",
       "       'Sindh chocolate Sabzi mandi',\n",
       "       'Tahir ghareebabad (Rafhan Corn Starch)',\n",
       "       'SHANGHAI RICHFIELD INTERNATIONAL CO LTD', 'Tariq Feroze starch',\n",
       "       'Noodles Anees Shoaib', 'Shafi Gluco Chem', 'AR Packages',\n",
       "       'Kaawish jodia', 'Thermopore Packages',\n",
       "       'SEASONS FOODS PRIVATE LIMITED', 'agro foods gujranwala',\n",
       "       'umer saeed ', 'sungen pvt ltd',\n",
       "       'Rafhan Maize Products Co. Ltd. (OST)',\n",
       "       'TIANJIN ANBER INTERNATIONAL TRADE CO.LTD', 'Arm Snack foods',\n",
       "       'Gul Foods kareemabad Farhan', 'Ahmed Memon Rafhan Starch',\n",
       "       'Rauf Container', 'milestone catalyst pvt ltd',\n",
       "       'National Co. for maize products',\n",
       "       'Jiangsu ZhongTai Packing Machinery co. ltd',\n",
       "       'shafiq iqbal jodia egypt starch', 'Artotech Pvt ltd',\n",
       "       'Live Choice', 'SHANDONG HEAD CO. LTD', 'B.A Enterprise ',\n",
       "       'Toplinks pvt ltd', 'team works packages',\n",
       "       'Zhejiang RUIXUE Refrigeration Equipment Technology Co. Ltd',\n",
       "       'Aisha grinding / Khurram Masala  ', 'lincmen international',\n",
       "       'Shabbir International', 'Qadir 3D papad',\n",
       "       'Jilani Industrial Corporation (PVT) LTD', 'ZAHIR CKP BAGS ',\n",
       "       'Ahmed Tariq Starch', 'United Chemicals', 'Hub Salt unofficial',\n",
       "       'MATRIX SDN BHD', 'LACTOPROT GMBH ', 'gravitas packaging',\n",
       "       'Union plastics Pakistan (PVT) LTD',\n",
       "       'Tacit Traders (yaqoob dyes chemicals)', 'Wasa Printers (Pvt) Ltd',\n",
       "       'Zain & Co.', 'WP (wasa printer unofficial)',\n",
       "       'IFFCO Pakistan pvt ltd', 'KARAM KIMYA', 'kausar salt refinery',\n",
       "       'Matco Pakistan', 'Alamgir egypt starch', 'azeem thermopole',\n",
       "       'Akmal Print House Pvt Ltd', '7 star impex (Saleem Mania)',\n",
       "       'Metatex Private LTD', 'MMPIL (mandviwala mauser)',\n",
       "       'Allied Axiom Chemical PVT LTD', 'Basit Salt Refinery HUB',\n",
       "       'Usman Plastic Forming', 'Winmark Ingredients Pvt. Ltd.',\n",
       "       'Neelum rice corporation', 'Packages Converters Limited',\n",
       "       'Safeer corporation', 'AJ containers', 'Quality Flavors (Pvt) Ltd',\n",
       "       'ChemSafe cleaning chemicals', 'Food World Enterprises',\n",
       "       'Imtiaz Multan', 'WUXI HASEN IMPORT AND EXPORT CO.LTD',\n",
       "       'Nanjing jiayi sunway chemical co. ltd',\n",
       "       'Madni Oil Depot (garden)', 'AAK MALAYSIA SDN BHD',\n",
       "       'Color Dot print Danish', 'MOI INTERNATIONAL PTE LTD',\n",
       "       'CHEMIE WATER TECHNOLOGIES', 'Pearl packaging company',\n",
       "       'SUZHOU HARMO FOOD MACHINERY CO. LTD', 'Wali cooking oil '],\n",
       "      dtype=object)"
      ]
     },
     "execution_count": 319,
     "metadata": {},
     "output_type": "execute_result"
    }
   ],
   "source": [
    "df6['Supplier Title'].unique()"
   ]
  },
  {
   "cell_type": "code",
   "execution_count": 320,
   "id": "41720fbe",
   "metadata": {},
   "outputs": [
    {
     "data": {
      "text/plain": [
       "array(['SERVICES', 'PACKING MATERIAL', 'RAW MATERIAL',\n",
       "       'International Supplier', 'Local Supplier', 'GENERAL & CONSUMABLE',\n",
       "       'Wali Serivices'], dtype=object)"
      ]
     },
     "execution_count": 320,
     "metadata": {},
     "output_type": "execute_result"
    }
   ],
   "source": [
    "df6['Supplier Category'].unique()"
   ]
  },
  {
   "cell_type": "code",
   "execution_count": 321,
   "id": "d214b461",
   "metadata": {},
   "outputs": [
    {
     "data": {
      "text/plain": [
       "array(['None'], dtype=object)"
      ]
     },
     "execution_count": 321,
     "metadata": {},
     "output_type": "execute_result"
    }
   ],
   "source": [
    "df6['Project Title'].unique()"
   ]
  },
  {
   "cell_type": "code",
   "execution_count": 322,
   "id": "d5fb7f6a",
   "metadata": {},
   "outputs": [
    {
     "data": {
      "text/plain": [
       "array(['PAK Rupee', 'US Dollar', 'Euro', 'chinese yuan'], dtype=object)"
      ]
     },
     "execution_count": 322,
     "metadata": {},
     "output_type": "execute_result"
    }
   ],
   "source": [
    "df6['Currency Title'].unique()"
   ]
  },
  {
   "cell_type": "code",
   "execution_count": 323,
   "id": "db966e96",
   "metadata": {},
   "outputs": [
    {
     "data": {
      "text/plain": [
       "array(['sugar', 'soup & ckp', 'starchCorn', 'HPKO', 'cornFlour',\n",
       "       'mingalz', 'proteinSodiumCaseinate', 'CocoaPowder', 'powderGarlic',\n",
       "       'powderGinger', 'powderKlonji', 'powderSaunf', 'powderHaldi',\n",
       "       'powderMustard', 'powderKhatai', 'acid sodium di acetate',\n",
       "       'whipcream', 'salt', 'PropyleneGlycolLiquid', 'white',\n",
       "       'dextroseAnhydrouse', 'maidaHard', 'maltExtractLiquid', 'lime',\n",
       "       'mango', 'dipChocolate', 'ricewhole', 'acid citric', 'cakegel',\n",
       "       'hpmc', 'acid adipic', 'dsp', 'iplusG', 'yeastExtract',\n",
       "       'proteinWheatGluten', 'cookingOil', 'powderFructose', 'tween60',\n",
       "       'FDCorn', 'vanillanMingalz', 'sorbitol', 'tomato', 'dipStrawberry',\n",
       "       'Production', 'cracker', 'Bakery', 'none', 'maltoseSyrup',\n",
       "       'chickenOil', 'riceflour', 'acid tartaric', 'powderSkimmedMilk',\n",
       "       'zeera whole', 'acid malic', 'chickenIFF', 'sio2', 'maltodexterin',\n",
       "       'colorCaramel', 'calciumCarbonate', 'maidaSooji',\n",
       "       'sodiumBiCarbonate', 'Biryani', 'maidaSoft', 'caragenan',\n",
       "       'potatoFlakes', 'dipWhiteChocolate', 'powderRedChilli',\n",
       "       'powderGreenChilli', 'xanthanGum', 'stearic acid', 'green', 'red',\n",
       "       'yellow', 'Scourer', 'breadcrumb', 'potassium hydroxide',\n",
       "       'VanillaWhipCream', 'sodium citrate', 'lecithin', 'PGMS',\n",
       "       'ad Leeks', 'ADCarrotsFlaks', 'AD onion', 'AD noodles', 'DMG',\n",
       "       'PGE', 'chickenFat', 'glucose', 'adOnionFlakes',\n",
       "       'powderWhitePepper', 'imli', 'cheese', 'bbq', 'pizza',\n",
       "       'calcium chloride', 'steelWire', 'Lubricant',\n",
       "       'powderGolGappayMasala', 'glycerin', 'moveHandSanitizer',\n",
       "       'moveHandWashLiquid', 'powderOnion', 'DaalMashGrind',\n",
       "       'limeCrystal', 'powderBlackPepper', 'powderSoySauce',\n",
       "       'whey powder', 'cracker3d', 'seasoning', 'sunsetyellowLake',\n",
       "       'PGE-1155-panrelease', 'PGPR', 'AD wehite leeks Flakes',\n",
       "       'powderTomato', 'pickle', 'soyaBeanOil', 'mcg', 'cmc', 'ssl',\n",
       "       'others', 'powderCoriander', 'pickleAchaari', 'starchPotato',\n",
       "       'kheerRegular', 'Shortening', 'chocolate', 'pista', 'kewra',\n",
       "       'ellaichi dana', 'scourerSteel', 'AD cabbage flakes', 'Raita',\n",
       "       'flourSoy', 'powderPodinaMint', 'powderBlackSalt', 'zinc acetate',\n",
       "       'gelatin', 'panReleaseOil', 'ckpRegular'], dtype=object)"
      ]
     },
     "execution_count": 323,
     "metadata": {},
     "output_type": "execute_result"
    }
   ],
   "source": [
    "df6['Type Title'].unique()"
   ]
  },
  {
   "cell_type": "code",
   "execution_count": 324,
   "id": "4eca9164",
   "metadata": {},
   "outputs": [
    {
     "data": {
      "text/plain": [
       "array(['Factory Warehouse', 'HO Ware House', 'Jamshed town Warehouse',\n",
       "       'Eximpo Cold storage'], dtype=object)"
      ]
     },
     "execution_count": 324,
     "metadata": {},
     "output_type": "execute_result"
    }
   ],
   "source": [
    "df6['Godown Title'].unique()"
   ]
  },
  {
   "cell_type": "code",
   "execution_count": 325,
   "id": "c65cce84",
   "metadata": {},
   "outputs": [
    {
     "data": {
      "text/plain": [
       "array(['glucose & sugar', 'filmFlexiblePackaging', 'flour', 'Fat',\n",
       "       'cartons', 'milkAndProteins', 'vegetable powder', 'foodChem',\n",
       "       'food color', 'Flavors', 'partiallyFinished', 'flexible packaging',\n",
       "       'displayBox', 'dehydratedVegetables', 'bucket', 'bag',\n",
       "       'emulsifier', 'tape', 'label', 'marketingMaterial',\n",
       "       'cleanignRelated', 'General factory purchase', 'seasoning',\n",
       "       'Machinery Spare Parts', 'none', 'machineCosumbale', 'overwrap',\n",
       "       'Scourer', 'others', 'cracker', 'packagedPowderMix'], dtype=object)"
      ]
     },
     "execution_count": 325,
     "metadata": {},
     "output_type": "execute_result"
    }
   ],
   "source": [
    "df6['Category Title'].unique()"
   ]
  },
  {
   "cell_type": "code",
   "execution_count": 326,
   "id": "ca89fb60",
   "metadata": {},
   "outputs": [
    {
     "data": {
      "text/plain": [
       "array(['others', 'soup & ckp', 'cracker', 'whipCream', 'mingalz',\n",
       "       'chocolate', 'seasoning', 'cakegel', 'kheer', 'extrusion',\n",
       "       'crackers', 'soups', 'Production', 'Bakery', 'none', 'raita',\n",
       "       'flour', 'jelly', 'scourer', 'breadcrumb', 'chickenFat',\n",
       "       'golgappay', 'Handsantizer', 'Hand wash', '3d', 'juice',\n",
       "       'panReleaseOil', 'chicken powder'], dtype=object)"
      ]
     },
     "execution_count": 326,
     "metadata": {},
     "output_type": "execute_result"
    }
   ],
   "source": [
    "df6['Class Title'].unique()"
   ]
  },
  {
   "cell_type": "code",
   "execution_count": 327,
   "id": "37f71d20",
   "metadata": {},
   "outputs": [
    {
     "data": {
      "text/plain": [
       "array(['None', 'Retail', 'Bulk'], dtype=object)"
      ]
     },
     "execution_count": 327,
     "metadata": {},
     "output_type": "execute_result"
    }
   ],
   "source": [
    "#Packaging Title      \n",
    "df6['Packaging Title'].unique()"
   ]
  },
  {
   "cell_type": "code",
   "execution_count": 328,
   "id": "2772a5e3",
   "metadata": {},
   "outputs": [
    {
     "data": {
      "text/plain": [
       "array(['raw material', 'packing material', 'consumables', 'services',\n",
       "       'finished goods', 'machineParts'], dtype=object)"
      ]
     },
     "execution_count": 328,
     "metadata": {},
     "output_type": "execute_result"
    }
   ],
   "source": [
    "#Brand Title          \n",
    "df6['Brand Title'].unique()"
   ]
  },
  {
   "cell_type": "code",
   "execution_count": 329,
   "id": "0c2a1ea7",
   "metadata": {},
   "outputs": [
    {
     "data": {
      "text/plain": [
       "array(['sugar -moti Ahmed Sb', 'chicken powder 100gm roll (new)',\n",
       "       'corn starch rafhan 034010', 'Fat Willmar HPKO',\n",
       "       'Corn Flour MMFS2',\n",
       "       'Funchies MC1 Carton (dimension 540 x 457 x 406mm)',\n",
       "       'sugar refined pharma grade', 'sodium Cassienate', 'Cocoa Powder',\n",
       "       'Garlic Powder Local', 'ginger powder (Sounth)', 'Kalonji',\n",
       "       'Saunf Powder', 'Turmeric (Haldi)', 'sarson - mustard powder ',\n",
       "       'Khatai Powder', 'Sodium di Acetate', 'Ice box',\n",
       "       'Dashi MC1 1kg cracker Carton (dimension 410x325x355 mm)', 'salt',\n",
       "       'Propylene glycol PG', 'TITANIUM DIOXIDE', 'dextroseAnhydrouse',\n",
       "       'Hard Maida', 'Malt Extract', 'Lime Flavor k-0308797',\n",
       "       'Green Mango Flavor D-1510211', 'dipChocolate',\n",
       "       'chicken zaiqa powder 25kg non woven bag',\n",
       "       'Display Box Chicken powder 100gm (150x165x130mm)',\n",
       "       'corn starch rafhan 034010F', 'rice whole', 'CITRIC ACID',\n",
       "       'Plastic 1kg bucket', 'chicken powder 18gm roll (new)',\n",
       "       'HPMC methyl cellulose A15 ', 'corn starch marjan foods',\n",
       "       'Dashi MC2 1kg pouch Carton (dimension 415 x 340 x 176 mm)',\n",
       "       'Dashi MC3 bucket Carton (dimension 400 x 266 x 273.75 mm)',\n",
       "       'adipic acid', 'Di Sodium Phosphate', 'I+G',\n",
       "       'INACTIVE DRIED YEAST', 'Wheat Gluten', 'COOKING OIL ',\n",
       "       '26x32 inches transparent ldpe..liner for 25kgbag ',\n",
       "       'FructoPure Tate&Lyle', 'Polysorbate 7462 ', 'sweet corn',\n",
       "       'Vanillin ', 'Sorbitol', 'green 12gm roll ', 'pink 12gm roll ',\n",
       "       'Tomato Flavor E-9949696', 'dipStrawberry',\n",
       "       'BOPP Sealing tape red', 'cracker 1kg PP bag',\n",
       "       'chicken powder 1kg pouch empty', 'purple 12gm roll',\n",
       "       'yellow 12gm roll ', 'chicken powder 1kg bucket label',\n",
       "       'cake gel 1kg bucket label', 'dashi hanger', 'funchies hanger',\n",
       "       'Boiler chemical EC-2823', 'Maltose Syrup',\n",
       "       'Chicken Flavor k-0304153', 'corn starch india',\n",
       "       'Plastic 18kg bucket', 'Bionis YE NS', 'Rice Flour',\n",
       "       'Display Box Soups (150x130x165mm)', 'Tartaric Acid',\n",
       "       'Skimmed Milk Powder', 'zeera whole', 'chicken powder 80gm box',\n",
       "       'Malic Acid', 'Chicken Flavor IFF', 'WILCOTE 360',\n",
       "       'Fumacel silica', 'chicken powder 25kg bag pp bardana',\n",
       "       'Plastic Crate P-11 25kg inner dimension (20.0x13.0x12.0)',\n",
       "       'CITRIC ACID SPECIAL', 'maltodextrin tyte&lyle',\n",
       "       'corn starch Brazil', 'whip cream red gable top empty',\n",
       "       'Caramel Color', '3d pattern roller without holes',\n",
       "       '3d compound shaping roller', 'calcium carbonate', 'Sooji ',\n",
       "       'Sodium bi Carbonate', 'jelly strawberry 55gm box',\n",
       "       'jelly banana 55gm box', 'Oclona Oil', 'sugar -fine',\n",
       "       'BIryani Flavor ??', 'soft Maida', 'carragenan DJ-650',\n",
       "       'Dashi MC 0 whip Carton (dimension 300X235X220 mm)',\n",
       "       'potato flakes micro', 'Fat CLSP914', 'green 12pcs - 12g box',\n",
       "       'pink 12pcs - 12g box', 'dipWhiteChocolate',\n",
       "       'cracker 200gm box inner PP pouch', 'red chilli',\n",
       "       'Green chilli powder', 'jelly strawberry 80gm box',\n",
       "       'jelly banana 80gm box', 'Xanthan Gum', 'dsp', 'Stearic Acid',\n",
       "       'cracker 500gm roll (new)', 'cracker 100gm roll (new)',\n",
       "       'WILCOTE 380', 'APPLE GREEN 104', 'PONCEAU 4R RED',\n",
       "       'SUNSET YELLOW ', '22x32 inches ldpe blue  dead',\n",
       "       'brytex printed pouch 190mmL+32mm flap x127mmW ',\n",
       "       'Bread crumbs 200gm roll', 'KOH potassium hydroxide ',\n",
       "       'Vanilla bean Flavor k-0308797', 'Sodium citrate', 'cbs Cargill',\n",
       "       'cracker gol gapay 110gm box', 'purple 150gm box',\n",
       "       'yellow 150gm box', 'soya lecithin', 'HPKO (wilcote 380)',\n",
       "       'HPKS (ULTRA CHOCO)', 'sodium Cassienate Lactonat EN',\n",
       "       'EKOLITE PG 95 S GLYCOL ESTER BEADS', 'sio2', 'leeks flakes',\n",
       "       'carrot flakes', 'white onion', 'corn starch Egypt', 'noodle',\n",
       "       'DISTILLED MONOGLYCERIDE (DMG)', 'soup c/s 55gm roll',\n",
       "       'soup h/s 55gm roll', 'Cooling tower chemical EC-306',\n",
       "       'EKOLITE PE 03 P POLYGLYCEROL ', 'CHICKEN FAT OIL',\n",
       "       'hameed chicken powder 25kg non woven bag', 'SF-35600 STARCH',\n",
       "       'White Oil', 'VERSASWEET LD 110040 glucose', 'onion red flakes',\n",
       "       '18pcs sticker for mingalz box', 'Premium Cote  380',\n",
       "       'Garlic Powder Pure', 'white pepper', 'POF 12microns 14inch',\n",
       "       'POF 12microns 15inch', 'cracker 200gm prawn box',\n",
       "       'green 150gm box', 'Foiling bag LxW 23x15 ..masala',\n",
       "       'Imli Flavor tamarind K-0308619', 'Cheese Flavor K-0308681',\n",
       "       'BBQ Flavor R-0714982', 'pizza flavor A-0504061',\n",
       "       'maize starch sethi local', 'CACL calcium chloride',\n",
       "       'cracker 200gm soup cracker box',\n",
       "       'stainless steel wire for scourer',\n",
       "       'stainless steel wire drawing lubricant',\n",
       "       'ultrasonic grinding and polishing machine 300W', 'CBS Fat 555-HR',\n",
       "       'papad 250gm roll', 'PREMIUM FAT', 'powderGolGappayMasala',\n",
       "       'chicken mazedar powder 25kg woven bag',\n",
       "       'Funchies MC2 Carton (dimension 20.5/8 x 16.5/8 x 14.75 inch)',\n",
       "       'Corn Flour MMK1', 'purple 12pcs - 12g box',\n",
       "       'yelllow 12pcs - 12g box', 'red 12pcs - 12g box',\n",
       "       'whip cream green gable top empty', 'papad gol gapay 250gm roll',\n",
       "       'Glycerin', 'Bionis YE 38', 'Bionis MXE',\n",
       "       'silver metalized  roll width 420mm', 'MOVE HAND SANITIZER',\n",
       "       'MOVE HAND WASH LIQUID SOAP',\n",
       "       'dxd-180 packing machine with all standard accessories',\n",
       "       'papad pipes 250gm roll', 'papad zeera 250gm roll', 'onion powder',\n",
       "       'purple 330gm box', 'yellow 330gm box', 'green 330gm box',\n",
       "       '18x24 inches transparent ldpe ..slanty 5kg', 'Daal mash grinded',\n",
       "       'HPMC 55HD15', 'Lime Flavor cystal ',\n",
       "       'Display Box Chicken powder 18gm (205x113x103mm)',\n",
       "       'refrigeration unit with standard accessories',\n",
       "       'papad Crackers Party Mix 250gm roll', 'PGE',\n",
       "       'snowflakes starch rafhan 034020', 'Black pepper',\n",
       "       'soup v/s 55gm roll', 'soya sauce powder', 'CHEESE POWDER 131209',\n",
       "       'whey powder', '3d Papad', 'unprinted 1kg pouch empty',\n",
       "       'SUNSET YELLOW LAKE', 'BOPP Sealing tape green',\n",
       "       'maltodextrin local', 'PGE 1155', 'PGPR 4150',\n",
       "       'PLAIN PET+MPET+PE60 MIC 480 MM 17.00 PLAIN LAMINATED ROLL',\n",
       "       'dehydrated white leeks flakes', 'spray dried tomato powder',\n",
       "       'soup tomato 55gm roll', 'papad cracker 1kg roll ',\n",
       "       'Grilled Chicken Flavor Oil', 'Chicken Flavor Oil',\n",
       "       'Rice syrup solids ',\n",
       "       'Clearox master Carton (dimension 00x00 x00 mm)',\n",
       "       'Mixed Vegetable Pickle Flavor E-1754702', 'SOYABEAN OIL ',\n",
       "       'sugar refined khaleej', 'chicken stock powder 1kg bucket label ',\n",
       "       'MCC', 'TWIN 60', 'CMC Carboxymethyl cellulose ',\n",
       "       'SSL (Sodium stearoyl-2-lactylate)', 'carton tagging sticker ',\n",
       "       'Lime zaiqa powder 1kg bucket label ', 'avicel MCG 591 ',\n",
       "       'coriander (dhanya) powder', 'Fat IFFCo pro sco38',\n",
       "       'bread crumb non woven bag 10kg',\n",
       "       'Achari Chilli Flavor powder CONC 6300', 'HPMC E4M', 'HPMC E15',\n",
       "       'HPMC K4M', 'Funchies MC4 Carton (dimension 500*482*252mm)',\n",
       "       'vivapur MCG 591 P', 'Potato Starch', 'DASHI KHEER MIX 165GM',\n",
       "       '1kg bucket separator', 'Biscuit Shortening Fat HQPO 36',\n",
       "       'Display box dashi kheer mix 165gm  (195x143x125mm)',\n",
       "       'HPMC 65HD50', 'carragenan CL-220',\n",
       "       'Cylinder for flexible packaging', 'Chocolate Flavor SC975007 IFF',\n",
       "       'Gift box', 'Factory purchase Head Office',\n",
       "       'extruding production line with standard accessories', 'Pista',\n",
       "       'Kewra flavor', 'Ellaichi dana', 'CBS ISOC Fat CBS',\n",
       "       'CLEAROX SCOURER 12PCS CARD', 'MCC (MBC-591)',\n",
       "       'Garlic Powder Import', 'dehydrated cabbage flakes',\n",
       "       'Chicken Flavor Base (FL2229-BS)', 'Green Raita 10gm Roll',\n",
       "       'Zeera Raita 10gm Roll', 'handcare 2 handwashing lotion',\n",
       "       'instant floor cleaner', 'Proclean equipment detergent',\n",
       "       'professional hand sanitizer', 'peroxy active', 'Fat AKOTOP P 70 ',\n",
       "       'Soya flour (Dehydrated soya flour)', 'powderPodinaMint',\n",
       "       'Green Chilli powder (dehydrated)', 'Black Salt',\n",
       "       'MCC 591 Mingtai', 'Fat Jade Kote 380', 'Rubber wheel',\n",
       "       '  Polyester fabric non woven', 'PCT dies', 'Diamond powder',\n",
       "       'Zinc Acetate', 'vivapur MCG 591 FS',\n",
       "       'chicken zaiqa powder 25kg BOPP+ woven bag', 'Cocosub (su3800)',\n",
       "       'Boiler chemical Phostreat 4000  (Antiscalant & sludge conditioner)',\n",
       "       'Cooling Tower Chemical Chemietreat 1000 (Antiscalant & corrosion))',\n",
       "       'Cooling Tower Chemical Chemietreat 1052 (corrosion inhibitor & iron dispersant))',\n",
       "       'purple 25gm roll ', 'yellow 25gm roll ', 'green 25gm roll ',\n",
       "       'Gelatin', 'CHOCOLATE BALL MILL LINE ', '200kg drum',\n",
       "       'cracker 250gm display box (315x195x165)',\n",
       "       'honeycomb for 1kg pouch and jar', 'yellow 125gm roll ',\n",
       "       'purple 125gm roll ', 'green 125gm roll '], dtype=object)"
      ]
     },
     "execution_count": 329,
     "metadata": {},
     "output_type": "execute_result"
    }
   ],
   "source": [
    "#Item Title           \n",
    "df6['Item Title'].unique()"
   ]
  },
  {
   "cell_type": "code",
   "execution_count": 330,
   "id": "ee1a15ab",
   "metadata": {},
   "outputs": [
    {
     "data": {
      "text/plain": [
       "array(['kg', 'pcs', 'none'], dtype=object)"
      ]
     },
     "execution_count": 330,
     "metadata": {},
     "output_type": "execute_result"
    }
   ],
   "source": [
    "#Unit Title           \n",
    "df6['Unit Title'].unique()"
   ]
  },
  {
   "cell_type": "code",
   "execution_count": 331,
   "id": "480cac97",
   "metadata": {},
   "outputs": [
    {
     "data": {
      "text/plain": [
       "array(['nan'], dtype=object)"
      ]
     },
     "execution_count": 331,
     "metadata": {},
     "output_type": "execute_result"
    }
   ],
   "source": [
    "#Bill No              \n",
    "df6['Bill No'].unique()"
   ]
  },
  {
   "cell_type": "code",
   "execution_count": 332,
   "id": "ea617b70",
   "metadata": {},
   "outputs": [
    {
     "data": {
      "text/plain": [
       "array(['1/1/1900'], dtype=object)"
      ]
     },
     "execution_count": 332,
     "metadata": {},
     "output_type": "execute_result"
    }
   ],
   "source": [
    "#Bill Date\n",
    "df6['Bill Date'].unique()"
   ]
  },
  {
   "cell_type": "code",
   "execution_count": 333,
   "id": "bd0aeb17",
   "metadata": {},
   "outputs": [
    {
     "data": {
      "text/plain": [
       "array(['None'], dtype=object)"
      ]
     },
     "execution_count": 333,
     "metadata": {},
     "output_type": "execute_result"
    }
   ],
   "source": [
    "#StockStatus Title   \n",
    "df6['StockStatus Title'].unique()"
   ]
  },
  {
   "cell_type": "code",
   "execution_count": 334,
   "id": "19649f87",
   "metadata": {},
   "outputs": [],
   "source": [
    "#removing more columns\n",
    "df6 = df6.drop(columns=[\"Packaging Title\", \"Bill No\", \"Bill Date\", \"StockStatus Title\"])"
   ]
  },
  {
   "cell_type": "code",
   "execution_count": 335,
   "id": "ffcc63c7",
   "metadata": {},
   "outputs": [],
   "source": [
    "#they have no enteries\n",
    "df6 = df6.drop(columns=[\"SalesTax Rate\", \"DiscountAmount\"])"
   ]
  },
  {
   "cell_type": "markdown",
   "id": "37408c58",
   "metadata": {},
   "source": [
    "## Purpose of Going Through Unique Values\n",
    "        -Helps us identify dimensions\n",
    "        -Helps us check for unique values often it happens that the same value is written with different spellings \n",
    "        -Helps us understand the range of categorical data so that we could create charts accordingly"
   ]
  },
  {
   "cell_type": "code",
   "execution_count": 336,
   "id": "b0173dcb",
   "metadata": {},
   "outputs": [
    {
     "data": {
      "text/plain": [
       "<AxesSubplot:>"
      ]
     },
     "execution_count": 336,
     "metadata": {},
     "output_type": "execute_result"
    },
    {
     "data": {
      "image/png": "[encoded data removed]",
      "text/plain": [
       "<Figure size 1080x720 with 2 Axes>"
      ]
     },
     "metadata": {
      "needs_background": "light"
     },
     "output_type": "display_data"
    }
   ],
   "source": [
    "#creating a heatmap for correlation\n",
    "plt.figure(figsize=(15,10)) \n",
    "sns.color_palette(as_cmap=True)\n",
    "sns.heatmap(df6.corr(), annot=True, cmap='coolwarm', center = 0)"
   ]
  },
  {
   "cell_type": "markdown",
   "id": "1521a427",
   "metadata": {},
   "source": [
    "- Finally we will look into the DataDump4 csv \n",
    "### Sheet 6 - DataDump4"
   ]
  },
  {
   "cell_type": "code",
   "execution_count": 337,
   "id": "510e1ab7",
   "metadata": {},
   "outputs": [
    {
     "data": {
      "text/html": [
       "<div>\n",
       "<style scoped>\n",
       "    .dataframe tbody tr th:only-of-type {\n",
       "        vertical-align: middle;\n",
       "    }\n",
       "\n",
       "    .dataframe tbody tr th {\n",
       "        vertical-align: top;\n",
       "    }\n",
       "\n",
       "    .dataframe thead th {\n",
       "        text-align: right;\n",
       "    }\n",
       "</style>\n",
       "<table border=\"1\" class=\"dataframe\">\n",
       "  <thead>\n",
       "    <tr style=\"text-align: right;\">\n",
       "      <th></th>\n",
       "      <th>sync_time</th>\n",
       "      <th>customerId</th>\n",
       "      <th>Customer</th>\n",
       "      <th>area_Id</th>\n",
       "      <th>Area</th>\n",
       "      <th>town_id</th>\n",
       "      <th>Town</th>\n",
       "      <th>City_id</th>\n",
       "      <th>City</th>\n",
       "      <th>ZoneId</th>\n",
       "      <th>...</th>\n",
       "      <th>amount</th>\n",
       "      <th>Rate</th>\n",
       "      <th>employeeId</th>\n",
       "      <th>employeeName</th>\n",
       "      <th>distributorId</th>\n",
       "      <th>distributorName</th>\n",
       "      <th>ProductBrandId</th>\n",
       "      <th>BrandName</th>\n",
       "      <th>ProductCategoryId</th>\n",
       "      <th>ProductCategoryName</th>\n",
       "    </tr>\n",
       "  </thead>\n",
       "  <tbody>\n",
       "    <tr>\n",
       "      <th>0</th>\n",
       "      <td>11/30/2021 16:39</td>\n",
       "      <td>51278</td>\n",
       "      <td>Baba Oil Shop</td>\n",
       "      <td>3229</td>\n",
       "      <td>FATIMA JINNAH COLONY</td>\n",
       "      <td>113</td>\n",
       "      <td>Karachi</td>\n",
       "      <td>129</td>\n",
       "      <td>Karachi</td>\n",
       "      <td>1</td>\n",
       "      <td>...</td>\n",
       "      <td>624.00</td>\n",
       "      <td>13.00</td>\n",
       "      <td>545</td>\n",
       "      <td>Muzzamil</td>\n",
       "      <td>93</td>\n",
       "      <td>asad enterprise</td>\n",
       "      <td>66</td>\n",
       "      <td>Dashi</td>\n",
       "      <td>10</td>\n",
       "      <td>retail</td>\n",
       "    </tr>\n",
       "    <tr>\n",
       "      <th>1</th>\n",
       "      <td>11/30/2021 16:39</td>\n",
       "      <td>51278</td>\n",
       "      <td>Baba Oil Shop</td>\n",
       "      <td>3229</td>\n",
       "      <td>FATIMA JINNAH COLONY</td>\n",
       "      <td>113</td>\n",
       "      <td>Karachi</td>\n",
       "      <td>129</td>\n",
       "      <td>Karachi</td>\n",
       "      <td>1</td>\n",
       "      <td>...</td>\n",
       "      <td>1680.00</td>\n",
       "      <td>70.00</td>\n",
       "      <td>545</td>\n",
       "      <td>Muzzamil</td>\n",
       "      <td>93</td>\n",
       "      <td>asad enterprise</td>\n",
       "      <td>66</td>\n",
       "      <td>Dashi</td>\n",
       "      <td>10</td>\n",
       "      <td>retail</td>\n",
       "    </tr>\n",
       "    <tr>\n",
       "      <th>2</th>\n",
       "      <td>11/30/2021 16:40</td>\n",
       "      <td>51279</td>\n",
       "      <td>Obaid Shop</td>\n",
       "      <td>3229</td>\n",
       "      <td>FATIMA JINNAH COLONY</td>\n",
       "      <td>113</td>\n",
       "      <td>Karachi</td>\n",
       "      <td>129</td>\n",
       "      <td>Karachi</td>\n",
       "      <td>1</td>\n",
       "      <td>...</td>\n",
       "      <td>156.00</td>\n",
       "      <td>13.00</td>\n",
       "      <td>545</td>\n",
       "      <td>Muzzamil</td>\n",
       "      <td>93</td>\n",
       "      <td>asad enterprise</td>\n",
       "      <td>66</td>\n",
       "      <td>Dashi</td>\n",
       "      <td>10</td>\n",
       "      <td>retail</td>\n",
       "    </tr>\n",
       "    <tr>\n",
       "      <th>3</th>\n",
       "      <td>11/30/2021 16:40</td>\n",
       "      <td>51279</td>\n",
       "      <td>Obaid Shop</td>\n",
       "      <td>3229</td>\n",
       "      <td>FATIMA JINNAH COLONY</td>\n",
       "      <td>113</td>\n",
       "      <td>Karachi</td>\n",
       "      <td>129</td>\n",
       "      <td>Karachi</td>\n",
       "      <td>1</td>\n",
       "      <td>...</td>\n",
       "      <td>99.96</td>\n",
       "      <td>8.33</td>\n",
       "      <td>545</td>\n",
       "      <td>Muzzamil</td>\n",
       "      <td>93</td>\n",
       "      <td>asad enterprise</td>\n",
       "      <td>68</td>\n",
       "      <td>Funchies</td>\n",
       "      <td>10</td>\n",
       "      <td>retail</td>\n",
       "    </tr>\n",
       "    <tr>\n",
       "      <th>4</th>\n",
       "      <td>11/30/2021 16:40</td>\n",
       "      <td>51279</td>\n",
       "      <td>Obaid Shop</td>\n",
       "      <td>3229</td>\n",
       "      <td>FATIMA JINNAH COLONY</td>\n",
       "      <td>113</td>\n",
       "      <td>Karachi</td>\n",
       "      <td>129</td>\n",
       "      <td>Karachi</td>\n",
       "      <td>1</td>\n",
       "      <td>...</td>\n",
       "      <td>99.96</td>\n",
       "      <td>8.33</td>\n",
       "      <td>545</td>\n",
       "      <td>Muzzamil</td>\n",
       "      <td>93</td>\n",
       "      <td>asad enterprise</td>\n",
       "      <td>68</td>\n",
       "      <td>Funchies</td>\n",
       "      <td>10</td>\n",
       "      <td>retail</td>\n",
       "    </tr>\n",
       "  </tbody>\n",
       "</table>\n",
       "<p>5 rows × 26 columns</p>\n",
       "</div>"
      ],
      "text/plain": [
       "          sync_time  customerId       Customer  area_Id                  Area  \\\n",
       "0  11/30/2021 16:39       51278  Baba Oil Shop     3229  FATIMA JINNAH COLONY   \n",
       "1  11/30/2021 16:39       51278  Baba Oil Shop     3229  FATIMA JINNAH COLONY   \n",
       "2  11/30/2021 16:40       51279     Obaid Shop     3229  FATIMA JINNAH COLONY   \n",
       "3  11/30/2021 16:40       51279     Obaid Shop     3229  FATIMA JINNAH COLONY   \n",
       "4  11/30/2021 16:40       51279     Obaid Shop     3229  FATIMA JINNAH COLONY   \n",
       "\n",
       "   town_id     Town  City_id     City  ZoneId  ...   amount   Rate employeeId  \\\n",
       "0      113  Karachi      129  Karachi       1  ...   624.00  13.00        545   \n",
       "1      113  Karachi      129  Karachi       1  ...  1680.00  70.00        545   \n",
       "2      113  Karachi      129  Karachi       1  ...   156.00  13.00        545   \n",
       "3      113  Karachi      129  Karachi       1  ...    99.96   8.33        545   \n",
       "4      113  Karachi      129  Karachi       1  ...    99.96   8.33        545   \n",
       "\n",
       "   employeeName  distributorId  distributorName  ProductBrandId  BrandName  \\\n",
       "0      Muzzamil             93  asad enterprise              66      Dashi   \n",
       "1      Muzzamil             93  asad enterprise              66      Dashi   \n",
       "2      Muzzamil             93  asad enterprise              66      Dashi   \n",
       "3      Muzzamil             93  asad enterprise              68   Funchies   \n",
       "4      Muzzamil             93  asad enterprise              68   Funchies   \n",
       "\n",
       "   ProductCategoryId ProductCategoryName  \n",
       "0                 10              retail  \n",
       "1                 10              retail  \n",
       "2                 10              retail  \n",
       "3                 10              retail  \n",
       "4                 10              retail  \n",
       "\n",
       "[5 rows x 26 columns]"
      ]
     },
     "execution_count": 337,
     "metadata": {},
     "output_type": "execute_result"
    }
   ],
   "source": [
    "df4.head()"
   ]
  },
  {
   "cell_type": "code",
   "execution_count": 338,
   "id": "b6603fe2",
   "metadata": {},
   "outputs": [
    {
     "data": {
      "text/plain": [
       "sync_time               object\n",
       "customerId               int64\n",
       "Customer                object\n",
       "area_Id                  int64\n",
       "Area                    object\n",
       "town_id                  int64\n",
       "Town                    object\n",
       "City_id                  int64\n",
       "City                    object\n",
       "ZoneId                   int64\n",
       "Zone                    object\n",
       "ProductId                int64\n",
       "ProductName             object\n",
       "qty                      int64\n",
       "prod_avl                 int64\n",
       "prod_foc                 int64\n",
       "amount                 float64\n",
       "Rate                   float64\n",
       "employeeId               int64\n",
       "employeeName            object\n",
       "distributorId            int64\n",
       "distributorName         object\n",
       "ProductBrandId           int64\n",
       "BrandName               object\n",
       "ProductCategoryId        int64\n",
       "ProductCategoryName     object\n",
       "dtype: object"
      ]
     },
     "execution_count": 338,
     "metadata": {},
     "output_type": "execute_result"
    }
   ],
   "source": [
    "#checking datatypes that we are dealing with\n",
    "df4.dtypes"
   ]
  },
  {
   "cell_type": "code",
   "execution_count": 340,
   "id": "42a27749",
   "metadata": {},
   "outputs": [
    {
     "data": {
      "text/plain": [
       "(38108, 26)"
      ]
     },
     "execution_count": 340,
     "metadata": {},
     "output_type": "execute_result"
    }
   ],
   "source": [
    "#checking total number of rows and columns\n",
    "df4.shape"
   ]
  },
  {
   "cell_type": "code",
   "execution_count": 342,
   "id": "e8089711",
   "metadata": {},
   "outputs": [],
   "source": [
    "#removing unnecessary ID columns\n",
    "df4 = df4.drop(columns=[\"customerId\", \"area_Id\", \"town_id\", \"City_id\", \"ZoneId\", \"ProductId\", \"employeeId\", \"distributorId\", \"ProductBrandId\", \"ProductCategoryId\"])"
   ]
  },
  {
   "cell_type": "code",
   "execution_count": 346,
   "id": "fd416674",
   "metadata": {},
   "outputs": [
    {
     "data": {
      "text/plain": [
       "sync_time              0\n",
       "Customer               0\n",
       "Area                   0\n",
       "Town                   0\n",
       "City                   0\n",
       "Zone                   0\n",
       "ProductName            0\n",
       "qty                    0\n",
       "prod_avl               0\n",
       "prod_foc               0\n",
       "amount                 0\n",
       "Rate                   0\n",
       "employeeName           0\n",
       "distributorName        0\n",
       "BrandName              0\n",
       "ProductCategoryName    0\n",
       "dtype: int64"
      ]
     },
     "execution_count": 346,
     "metadata": {},
     "output_type": "execute_result"
    }
   ],
   "source": [
    "#checking for sum of null values in each column\n",
    "df4.isnull().sum()"
   ]
  },
  {
   "cell_type": "markdown",
   "id": "96f653c7",
   "metadata": {},
   "source": [
    "- no missing values therefore we do not need to create the matrix. However, we will check for unique values and then extract information accordingly "
   ]
  },
  {
   "cell_type": "code",
   "execution_count": 347,
   "id": "dcabab33",
   "metadata": {},
   "outputs": [
    {
     "data": {
      "text/plain": [
       "array(['Baba Oil Shop', 'Obaid Shop', 'Saving House Shop', ...,\n",
       "       'Iqbal G.S', 'Sundho', 'Qadri S.S'], dtype=object)"
      ]
     },
     "execution_count": 347,
     "metadata": {},
     "output_type": "execute_result"
    }
   ],
   "source": [
    "df4['Customer'].unique()"
   ]
  },
  {
   "cell_type": "code",
   "execution_count": 348,
   "id": "148cf552",
   "metadata": {},
   "outputs": [
    {
     "data": {
      "text/plain": [
       "array(['FATIMA JINNAH COLONY', 'JACKSON', 'MANZOOR COLONY #1 ',\n",
       "       'TARIQ ROAD RT', 'BAHADURABAD', 'DEFENCE VIEW',\n",
       "       'EMPRESS MARKET WITH SARAUNDING', 'LASBELA , PATEL PARA',\n",
       "       'MEHMOODABAD, 5.6', 'MEHMOODABAD, 1.2', 'RANCHORE LANE NAYA ABAD',\n",
       "       'LIYARI CHEEL CHOWK + KALAKOT', 'BURNS ROAD + PAKISTAN CHOWK',\n",
       "       'SADAR (NON-FOOD)', 'SOLDIER BAZAR , KMC MKT.',\n",
       "       'DOLY KHATA + ANCLE SARYA', 'RAM SAWAMI RANCHORE LANE',\n",
       "       'DEFENCE PHASE 2 EXT , PHASE 7 , BUKHARI', 'JUBILEE CINEMA',\n",
       "       'LINSE AREA COMPET', 'PIB COLONY', 'MANZOOR COLONY  #2',\n",
       "       'AZAM BASTI 100 FT ROAD', 'HILL PARK , SINDHI MUSLIM',\n",
       "       'SELANI MKT. , DHORAJI , M. ALI', 'PUNJAB COLONY',\n",
       "       'SHAH FAISAL 3.', 'SHAH FAISAL 4+5', 'SHAH FAILSL # 01 #2',\n",
       "       'SHAHABUDDIN WITH SARAUNDING', 'PIPRI ', 'GULSHAN-E-HADEED PH1.',\n",
       "       'GULSHAN-E-HADEED, PHASE 2.', 'MALIR F SOUTH H AREA',\n",
       "       'CLIFTON , BATH ICE LAND  UP TO TEEN TALWAR', 'KORANGI NO 2.',\n",
       "       'LANDHI 36/B, B.S.M MARKET.',\n",
       "       'DEFENCE PHASE 4 , 9TH & 10TH COMM.STREET',\n",
       "       'DEFENCE SEHAR , RAHAT , SHAHBAZ', 'PIB MAIN ROAD',\n",
       "       'KORANGI NO 3 1/2.', 'DEFENCE GARDEN ', 'KORANGI K. AREA.',\n",
       "       'NURSARY , KARACHI ADMN , UMER COLONY,BALOCH COLONY',\n",
       "       'LANDHI 2 B.', 'KORANGI 51/C',\n",
       "       'CLIFTON BOAT BASIN , SEA VIEW  , PAHSE 8', 'DASTAGIR',\n",
       "       'ORANGI TOWN', 'LANDHI NO 06.', 'WATERPUMP ', 'KARIMABAD',\n",
       "       'LANDHI.', 'AZIZABAD', 'GULBARG MARKET BLOCK 4.6',\n",
       "       'NEW KARACHI 11G 11F', 'HUSAINABAD',\n",
       "       ' TAUHEED COMM , BADAR COMM , SHAH RASOOL COLONY',\n",
       "       'KASHMIR COLONY', 'ABDULLAHABAD', 'GULSHAN 13 ABC',\n",
       "       'GOLIMAR ,RIZVIA', 'DEFENCE KHADDA MKT, PHASE 5,6 , SABA AVE.',\n",
       "       'NAZIMABAD. RCD', 'MANSOOE ABAD', 'NEW KARACHI  SEC 11H', 'Rawali',\n",
       "       'HafizaBad Road', 'CAREEM TOWN', 'GULSHAN 3,4 DHORAJI',\n",
       "       'EDEN GARDEN', 'BATALA COLONY', 'old satlit town', 'GULISTAN TOWN',\n",
       "       'TOGHI ROAD ', 'DHELI COLONY', 'sailkot road', 'PAK COLONY',\n",
       "       'HASSAN PURA', 'WARIS PURA', 'SARIEB', 'TECH TOWN', 'SATYANA ROAD',\n",
       "       'AIRPORT ROAD', 'JINNAH ROAD', 'QUARRY ROAD', 'MEEZAN CHOK',\n",
       "       'MASJID ROAD', 'Sui Gas Road', 'PEOPLES COLONY', 'D-TYPE COLONY',\n",
       "       'MADINA TOWN', 'SATELLITE TOWN', 'SHEHBAZ TOWN', 'Khali Road',\n",
       "       'NEW KARACHI 5K', 'BARORI ROAD', 'JAMSHED ROAD', 'CANT',\n",
       "       'HAZARA TOWN', 'Satelite town', 'D.GROUND', 'JINNAH TOWN',\n",
       "       'SAMAN ABAD', 'MAKHDOOM ROAD', 'GODHRA', 'NAWA KILLI',\n",
       "       'SURJANI 5D', 'NISAR COLONY', 'GIZRI UPPER & LOWER , PNT COLONY ',\n",
       "       'NORTH NAZIMABAD.BLOCK I J K', 'G-11', 'ASGHAR MALL', 'G-6',\n",
       "       'ISMAIL ROAD', 'CHIBBAN ROAD', 'NEW KARACHI SINDHI HOTEL SEC 5E',\n",
       "       'ALAMDAR ROAD', 'JHANG ROAD', 'BEHRIA 7-8', 'MADIHA STOP',\n",
       "       'GULSHAN BL 1 /3', 'PWD', 'G.M.ABAD', 'WAPDA CITY',\n",
       "       'NOOR PUR MANDI', 'New satlit Town',\n",
       "       'GULSHAN 16,17 BAITULMUKARRAM', 'SURJANI L1', 'Gulshan jamal',\n",
       "       'GULBURG', 'F-10', 'E-11', 'BEHRIA ENCLAVE', 'SARGODAH ROAD',\n",
       "       '49 tail', 'I-8', 'SADIQABAD', 'I-10', 'LIAQAT TOWN', 'RAZA ABAD',\n",
       "       'college road', 'F-17', 'B-17', 'TARNOL', 'D-17', 'SIRKI ROAD',\n",
       "       'DH.KHABA', 'SHEIKHUPURA ROAD', 'SAIDPUR RD', 'KHYBAN-E-SIRSYED',\n",
       "       'IQBAL TOWN', 'PIA SOCIETY', 'G-8', 'DHALA FLAT', 'COLLEGE ROAD',\n",
       "       'BAGH BAN PURA', 'GHAZI ROAD', 'BANI GALA', 'city 1', 'COMMERICAL',\n",
       "       'JALLO', 'BANI', 'YATEEM KHANA', 'AL HAMMAD COLONY', 'CHAH JAMOU',\n",
       "       'TOWN SHIP', 'BEDIYAN', 'WALTAN', 'CITY HOUSING', 'SADHAR MANDI',\n",
       "       'GHAZIA ABAD', 'FATHA GARH', 'SHAM NAGAR', 'SABZA BAR', 'DHA',\n",
       "       'SOWAN', 'NASHTAR', 'YOUAHANABAD', 'GULSHAN RANI', 'MISRI SHAH',\n",
       "       'BEHRIA 1-6', 'FAZLIA', 'GULRAIZ', 'DHARAM PURA', 'RAJ GARH',\n",
       "       'F-6', 'G-7', 'SADAR', 'LANDHI 89,HUSSAINI CHOWRANGI,GUL AHMED.',\n",
       "       'SANTNAGR'], dtype=object)"
      ]
     },
     "execution_count": 348,
     "metadata": {},
     "output_type": "execute_result"
    }
   ],
   "source": [
    "df4['Area'].unique()"
   ]
  },
  {
   "cell_type": "code",
   "execution_count": 349,
   "id": "aca528c1",
   "metadata": {},
   "outputs": [
    {
     "data": {
      "text/plain": [
       "array(['Karachi', 'FSL', 'Gujranwala', 'sargodha', 'QUETTA', 'islamabad',\n",
       "       'Lahore'], dtype=object)"
      ]
     },
     "execution_count": 349,
     "metadata": {},
     "output_type": "execute_result"
    }
   ],
   "source": [
    "df4['Town'].unique()"
   ]
  },
  {
   "cell_type": "code",
   "execution_count": 350,
   "id": "4bcf79f9",
   "metadata": {},
   "outputs": [
    {
     "data": {
      "text/plain": [
       "array(['Karachi', 'FSL', 'Gujranwala ', 'sargodah', 'QUETTA', 'Islamabad',\n",
       "       'Lahore'], dtype=object)"
      ]
     },
     "execution_count": 350,
     "metadata": {},
     "output_type": "execute_result"
    }
   ],
   "source": [
    "df4['City'].unique()"
   ]
  },
  {
   "cell_type": "code",
   "execution_count": 351,
   "id": "3ceca98c",
   "metadata": {},
   "outputs": [
    {
     "data": {
      "text/plain": [
       "array(['Pakistan'], dtype=object)"
      ]
     },
     "execution_count": 351,
     "metadata": {},
     "output_type": "execute_result"
    }
   ],
   "source": [
    "df4['Zone'].unique()"
   ]
  },
  {
   "cell_type": "code",
   "execution_count": 352,
   "id": "e158fa1c",
   "metadata": {},
   "outputs": [
    {
     "data": {
      "text/plain": [
       "array(['Dashi Powder Chicken Sachet 18g', 'Dashi Powder Chicken 100g',\n",
       "       'Funchies Mingalz Choco Balls 12g',\n",
       "       'Funchies Mingalz Choco Bites 12g purple',\n",
       "       'Dashi Soup Chicken Vegetable 53g', 'Dashi Soup Hot & Sour 56g',\n",
       "       'Dashi Soup Chicken Corn 50g', 'Dashi Powder Chicken Pouch 1000g',\n",
       "       'Funchies Mingalz Choco Balls 330g', 'Papad gol gappay 110 Gm',\n",
       "       'Funchies Mingalz Chocolate Filled Crunch 12g yello',\n",
       "       'Papad Prawn Cracker 200gm box', 'Papad Soup cracker 200gm box',\n",
       "       'Papad White Cracker 500 Gm', 'Dashi Bread Crumbs 200g',\n",
       "       'Funchies Mingalz Chocolate Filled Crunch 330g',\n",
       "       'Funchies Mingalz Strawberry Flavoured Crunch 12g',\n",
       "       'Clearox Scourer Stainless Steal', 'Papad Cracker White 250g',\n",
       "       'Papad Cracker White Color 250g', 'Dashi Powder Chicken Jar 1000g',\n",
       "       'Funchies Mingalz Choco Bites Purple 150g',\n",
       "       'Funchies Mingalz Chocolate Filled Crunch Yellow 150g',\n",
       "       'Funchies Mingalz Extreme Chocolatey Green 150g',\n",
       "       'Papad Cracker Crystal 250g', 'Dashi Chicken Powder Bag 25 Kg',\n",
       "       'Hand Wash 500 ML', 'Toilet bowl cleaner 500 ML',\n",
       "       'Papad Gol Gappay 250g', 'Dashi Crackers Party Mix Papad 250gm',\n",
       "       'Liquid Dish wash 500 Ml', 'Zeera Raita 10gm sachet',\n",
       "       'Whip Cream 1Kg Box Frozen', 'Window & Glass Cleaner 500 ML',\n",
       "       'Funchies Mingalz Choco Bites Purple 330g', 'Papad Patti Fry 250g',\n",
       "       'Papad Cracker Crystal Color 250g', 'Papad Slanty / Pipes 250g',\n",
       "       'Bread Crumb 10 Kg ', 'Green Raita 10gm sachet',\n",
       "       'Dashi Tomato Soup', 'Dashi Cake Gel', 'Dashi Black pepper 100gm',\n",
       "       'Dashi Kheer mix 165gm', 'Hand Sanitizer 500 Ml',\n",
       "       'Black Pepper 100 Gm', 'Dashi Cracker 100 GM',\n",
       "       'Dashi Pink Salt 200gm', 'Garlic Flakes 80 Gm',\n",
       "       'Dashi Chicken Zaiqa Restaurant (Green)'], dtype=object)"
      ]
     },
     "execution_count": 352,
     "metadata": {},
     "output_type": "execute_result"
    }
   ],
   "source": [
    "df4['ProductName'].unique()"
   ]
  },
  {
   "cell_type": "code",
   "execution_count": 353,
   "id": "3368c4b4",
   "metadata": {},
   "outputs": [
    {
     "data": {
      "text/plain": [
       "array([0, 6, 3], dtype=int64)"
      ]
     },
     "execution_count": 353,
     "metadata": {},
     "output_type": "execute_result"
    }
   ],
   "source": [
    "df4['prod_avl'].unique()"
   ]
  },
  {
   "cell_type": "code",
   "execution_count": 354,
   "id": "94a6c83f",
   "metadata": {},
   "outputs": [
    {
     "data": {
      "text/plain": [
       "array([ 0, 24], dtype=int64)"
      ]
     },
     "execution_count": 354,
     "metadata": {},
     "output_type": "execute_result"
    }
   ],
   "source": [
    "df4['prod_foc'].unique()"
   ]
  },
  {
   "cell_type": "code",
   "execution_count": 355,
   "id": "216724f8",
   "metadata": {},
   "outputs": [
    {
     "data": {
      "text/plain": [
       "array(['Muzzamil', 'Sharib', 'Shoaib', 'Danish', 'Muhammad Arif',\n",
       "       'Ismail', 'Rehan', 'Abdul Nasir', 'Afzal', 'Waseem', 'faizan',\n",
       "       'Tanveer Ahmed', 'faraz', 'MSUMAMA SIDDIQUI', 'Noman',\n",
       "       'Nasir haram', 'waleed', 'JAHANZAIB', 'azhar abbas',\n",
       "       'Asad Abbas sargodha', 'fahad ', 'Naqeebullah', 'naghman haider',\n",
       "       'zakir', 'hashmat', 'KHALIL', 'Asfandyar', 'asim', 'ilyas',\n",
       "       'AD ABBASI', 'UMAIR', 'abu bakar', 'usman', 'NASIR udn', 'azeem',\n",
       "       'taueef', 'adil zia', 'awais'], dtype=object)"
      ]
     },
     "execution_count": 355,
     "metadata": {},
     "output_type": "execute_result"
    }
   ],
   "source": [
    "df4['employeeName'].unique()"
   ]
  },
  {
   "cell_type": "code",
   "execution_count": 356,
   "id": "480bded5",
   "metadata": {},
   "outputs": [
    {
     "data": {
      "text/plain": [
       "array(['asad enterprise', 'Haram Trd', 'GUL GEE', 'Junaid', 'PARAS',\n",
       "       'sales link', 'Zain Traders', 'JA TRADERS ', 'bismillah traders',\n",
       "       'latief traders', 'UDN', 'asia traders', 'lahore pak traders',\n",
       "       'rafi traders', 'mfz'], dtype=object)"
      ]
     },
     "execution_count": 356,
     "metadata": {},
     "output_type": "execute_result"
    }
   ],
   "source": [
    "df4['distributorName'].unique()"
   ]
  },
  {
   "cell_type": "code",
   "execution_count": 357,
   "id": "d9c531d1",
   "metadata": {},
   "outputs": [
    {
     "data": {
      "text/plain": [
       "array(['Dashi', 'Funchies', 'Moov', 'Dashi / Bakery'], dtype=object)"
      ]
     },
     "execution_count": 357,
     "metadata": {},
     "output_type": "execute_result"
    }
   ],
   "source": [
    "df4['BrandName'].unique()"
   ]
  },
  {
   "cell_type": "code",
   "execution_count": 358,
   "id": "cf93c949",
   "metadata": {},
   "outputs": [
    {
     "data": {
      "text/plain": [
       "array(['retail', 'bulk'], dtype=object)"
      ]
     },
     "execution_count": 358,
     "metadata": {},
     "output_type": "execute_result"
    }
   ],
   "source": [
    "df4['ProductCategoryName'].unique()"
   ]
  },
  {
   "cell_type": "code",
   "execution_count": 359,
   "id": "8eef7bb2",
   "metadata": {},
   "outputs": [],
   "source": [
    "#removing more unrequired columns\n",
    "df4 = df4.drop(columns=[\"prod_foc\", \"prod_avl\", \"Zone\", \"Town\"])"
   ]
  },
  {
   "cell_type": "code",
   "execution_count": 360,
   "id": "08d05b79",
   "metadata": {},
   "outputs": [
    {
     "data": {
      "text/plain": [
       "<AxesSubplot:>"
      ]
     },
     "execution_count": 360,
     "metadata": {},
     "output_type": "execute_result"
    },
    {
     "data": {
      "image/png": "[encoded data removed]",
      "text/plain": [
       "<Figure size 1080x720 with 2 Axes>"
      ]
     },
     "metadata": {
      "needs_background": "light"
     },
     "output_type": "display_data"
    }
   ],
   "source": [
    "#creating a heatmap for correlation\n",
    "plt.figure(figsize=(15,10)) \n",
    "sns.color_palette(as_cmap=True)\n",
    "sns.heatmap(df4.corr(), annot=True, cmap='coolwarm', center = 0)"
   ]
  },
  {
   "cell_type": "markdown",
   "id": "f05a8239",
   "metadata": {},
   "source": [
    "# Step 4 - Creating Historgrams/Box Plots for Anomaly Detection\n",
    "\n",
    "- This will help us, identify:\n",
    "    - Anomalies\n",
    "    - Skews of the data\n",
    "    - Pain Areas of the business\n",
    "    - Will also explain if we dealt with the missing values in the right way or not"
   ]
  },
  {
   "cell_type": "markdown",
   "id": "6e3cccc5",
   "metadata": {},
   "source": [
    "## Sheet 1 - Customer Ledger"
   ]
  },
  {
   "cell_type": "code",
   "execution_count": 369,
   "id": "fdfad478",
   "metadata": {},
   "outputs": [
    {
     "data": {
      "text/plain": [
       "<AxesSubplot:xlabel='Amount', ylabel='Density'>"
      ]
     },
     "execution_count": 369,
     "metadata": {},
     "output_type": "execute_result"
    },
    {
     "data": {
      "image/png": "[encoded data removed]",
      "text/plain": [
       "<Figure size 1152x360 with 1 Axes>"
      ]
     },
     "metadata": {
      "needs_background": "light"
     },
     "output_type": "display_data"
    }
   ],
   "source": [
    "#looking at the disrubtion curve\n",
    "warnings.filterwarnings('ignore')\n",
    "plt.figure(figsize=(16,5))\n",
    "plt.subplot(1,2,1)\n",
    "sns.distplot(df1['Amount'])"
   ]
  },
  {
   "cell_type": "code",
   "execution_count": 370,
   "id": "6490c2b6",
   "metadata": {},
   "outputs": [
    {
     "data": {
      "text/plain": [
       "<AxesSubplot:xlabel='Amount'>"
      ]
     },
     "execution_count": 370,
     "metadata": {},
     "output_type": "execute_result"
    },
    {
     "data": {
      "image/png": "[encoded data removed]",
      "text/plain": [
       "<Figure size 1152x360 with 1 Axes>"
      ]
     },
     "metadata": {
      "needs_background": "light"
     },
     "output_type": "display_data"
    }
   ],
   "source": [
    "warnings.filterwarnings('ignore')\n",
    "plt.figure(figsize=(16,5))\n",
    "plt.subplot(1,2,1)\n",
    "sns.boxplot(df1['Amount'])"
   ]
  },
  {
   "cell_type": "markdown",
   "id": "3ad73ae6",
   "metadata": {},
   "source": [
    "- what we can do instead is print out the description of the outliers to have more insights on our data. To understand the box plot further"
   ]
  },
  {
   "cell_type": "code",
   "execution_count": 374,
   "id": "cfe740a5",
   "metadata": {},
   "outputs": [
    {
     "data": {
      "text/html": [
       "<div>\n",
       "<style scoped>\n",
       "    .dataframe tbody tr th:only-of-type {\n",
       "        vertical-align: middle;\n",
       "    }\n",
       "\n",
       "    .dataframe tbody tr th {\n",
       "        vertical-align: top;\n",
       "    }\n",
       "\n",
       "    .dataframe thead th {\n",
       "        text-align: right;\n",
       "    }\n",
       "</style>\n",
       "<table border=\"1\" class=\"dataframe\">\n",
       "  <thead>\n",
       "    <tr style=\"text-align: right;\">\n",
       "      <th></th>\n",
       "      <th>TranNo</th>\n",
       "      <th>TranDate</th>\n",
       "      <th>CustomerID</th>\n",
       "      <th>CustomerTitle</th>\n",
       "      <th>Amount</th>\n",
       "      <th>TranType</th>\n",
       "      <th>TranOrder</th>\n",
       "      <th>DestinationRefNo</th>\n",
       "    </tr>\n",
       "  </thead>\n",
       "  <tbody>\n",
       "    <tr>\n",
       "      <th>25</th>\n",
       "      <td>1819-000757</td>\n",
       "      <td>01/02/2019</td>\n",
       "      <td>1656</td>\n",
       "      <td>Abid Chemical Fsb</td>\n",
       "      <td>145000.000</td>\n",
       "      <td>Invoice</td>\n",
       "      <td>4</td>\n",
       "      <td>12</td>\n",
       "    </tr>\n",
       "    <tr>\n",
       "      <th>27</th>\n",
       "      <td>1920-002397</td>\n",
       "      <td>19/03/2020</td>\n",
       "      <td>1656</td>\n",
       "      <td>Abid Chemical Fsb</td>\n",
       "      <td>150000.000</td>\n",
       "      <td>Invoice</td>\n",
       "      <td>4</td>\n",
       "      <td>12</td>\n",
       "    </tr>\n",
       "    <tr>\n",
       "      <th>29</th>\n",
       "      <td>CDN1819-000006</td>\n",
       "      <td>30/11/2018</td>\n",
       "      <td>1657</td>\n",
       "      <td>Al Habib CHICKEN</td>\n",
       "      <td>355076.000</td>\n",
       "      <td>DrNote</td>\n",
       "      <td>4</td>\n",
       "      <td>13</td>\n",
       "    </tr>\n",
       "    <tr>\n",
       "      <th>34</th>\n",
       "      <td>1819-000686</td>\n",
       "      <td>25/01/2019</td>\n",
       "      <td>1657</td>\n",
       "      <td>Al Habib CHICKEN</td>\n",
       "      <td>214750.000</td>\n",
       "      <td>Invoice</td>\n",
       "      <td>4</td>\n",
       "      <td>13</td>\n",
       "    </tr>\n",
       "    <tr>\n",
       "      <th>35</th>\n",
       "      <td>1819-000716</td>\n",
       "      <td>29/01/2019</td>\n",
       "      <td>1657</td>\n",
       "      <td>Al Habib CHICKEN</td>\n",
       "      <td>145000.000</td>\n",
       "      <td>Invoice</td>\n",
       "      <td>4</td>\n",
       "      <td>13</td>\n",
       "    </tr>\n",
       "    <tr>\n",
       "      <th>...</th>\n",
       "      <td>...</td>\n",
       "      <td>...</td>\n",
       "      <td>...</td>\n",
       "      <td>...</td>\n",
       "      <td>...</td>\n",
       "      <td>...</td>\n",
       "      <td>...</td>\n",
       "      <td>...</td>\n",
       "    </tr>\n",
       "    <tr>\n",
       "      <th>28961</th>\n",
       "      <td>2122-003372</td>\n",
       "      <td>22/02/2022</td>\n",
       "      <td>8301</td>\n",
       "      <td>Shakeel Traders Faisalabad</td>\n",
       "      <td>255000.000</td>\n",
       "      <td>Invoice</td>\n",
       "      <td>4</td>\n",
       "      <td>527</td>\n",
       "    </tr>\n",
       "    <tr>\n",
       "      <th>28967</th>\n",
       "      <td>2122-003396</td>\n",
       "      <td>23/02/2022</td>\n",
       "      <td>8517</td>\n",
       "      <td>Elemensis General Trading LLc</td>\n",
       "      <td>772119.625</td>\n",
       "      <td>Invoice</td>\n",
       "      <td>4</td>\n",
       "      <td>529</td>\n",
       "    </tr>\n",
       "    <tr>\n",
       "      <th>28969</th>\n",
       "      <td>2122-003681</td>\n",
       "      <td>28/02/2022</td>\n",
       "      <td>8543</td>\n",
       "      <td>Anus Bread Crumbs wastage</td>\n",
       "      <td>172800.000</td>\n",
       "      <td>Invoice</td>\n",
       "      <td>4</td>\n",
       "      <td>530</td>\n",
       "    </tr>\n",
       "    <tr>\n",
       "      <th>28971</th>\n",
       "      <td>2122-003848</td>\n",
       "      <td>24/03/2022</td>\n",
       "      <td>8580</td>\n",
       "      <td>wali &amp; Co. scrape</td>\n",
       "      <td>189700.000</td>\n",
       "      <td>Invoice</td>\n",
       "      <td>4</td>\n",
       "      <td>531</td>\n",
       "    </tr>\n",
       "    <tr>\n",
       "      <th>28977</th>\n",
       "      <td>2122-003943</td>\n",
       "      <td>29/03/2022</td>\n",
       "      <td>8585</td>\n",
       "      <td>Yousuf Quereshi (Umer)</td>\n",
       "      <td>167500.000</td>\n",
       "      <td>Invoice</td>\n",
       "      <td>4</td>\n",
       "      <td>532</td>\n",
       "    </tr>\n",
       "  </tbody>\n",
       "</table>\n",
       "<p>5597 rows × 8 columns</p>\n",
       "</div>"
      ],
      "text/plain": [
       "               TranNo    TranDate CustomerID                    CustomerTitle  \\\n",
       "25        1819-000757  01/02/2019       1656                Abid Chemical Fsb   \n",
       "27        1920-002397  19/03/2020       1656                Abid Chemical Fsb   \n",
       "29     CDN1819-000006  30/11/2018       1657                 Al Habib CHICKEN   \n",
       "34        1819-000686  25/01/2019       1657                 Al Habib CHICKEN   \n",
       "35        1819-000716  29/01/2019       1657                 Al Habib CHICKEN   \n",
       "...               ...         ...        ...                              ...   \n",
       "28961     2122-003372  22/02/2022       8301      Shakeel Traders Faisalabad    \n",
       "28967     2122-003396  23/02/2022       8517  Elemensis General Trading LLc     \n",
       "28969     2122-003681  28/02/2022       8543        Anus Bread Crumbs wastage   \n",
       "28971     2122-003848  24/03/2022       8580                wali & Co. scrape   \n",
       "28977     2122-003943  29/03/2022       8585         Yousuf Quereshi (Umer)     \n",
       "\n",
       "           Amount TranType  TranOrder DestinationRefNo  \n",
       "25     145000.000  Invoice          4               12  \n",
       "27     150000.000  Invoice          4               12  \n",
       "29     355076.000   DrNote          4               13  \n",
       "34     214750.000  Invoice          4               13  \n",
       "35     145000.000  Invoice          4               13  \n",
       "...           ...      ...        ...              ...  \n",
       "28961  255000.000  Invoice          4              527  \n",
       "28967  772119.625  Invoice          4              529  \n",
       "28969  172800.000  Invoice          4              530  \n",
       "28971  189700.000  Invoice          4              531  \n",
       "28977  167500.000  Invoice          4              532  \n",
       "\n",
       "[5597 rows x 8 columns]"
      ]
     },
     "execution_count": 374,
     "metadata": {},
     "output_type": "execute_result"
    }
   ],
   "source": [
    "df1.loc[df1['Amount'] > 100000]"
   ]
  },
  {
   "cell_type": "markdown",
   "id": "28f1d117",
   "metadata": {},
   "source": [
    "- Offering credit to customers indicates that you respect and trust them to pay their bills before their due dates. Customers will reward these gestures of confidence by continuing to buy from you. This means that the anomalies are good in this case"
   ]
  },
  {
   "cell_type": "markdown",
   "id": "371109d5",
   "metadata": {},
   "source": [
    "## Sheet 3 - Customer Wise"
   ]
  },
  {
   "cell_type": "markdown",
   "id": "0ced83aa",
   "metadata": {},
   "source": [
    "- Gross Amount           \n",
    "- Net Amount          "
   ]
  },
  {
   "cell_type": "code",
   "execution_count": 379,
   "id": "409ca82f",
   "metadata": {},
   "outputs": [
    {
     "data": {
      "image/png": "[encoded data removed]",
      "text/plain": [
       "<Figure size 1152x360 with 2 Axes>"
      ]
     },
     "metadata": {
      "needs_background": "light"
     },
     "output_type": "display_data"
    }
   ],
   "source": [
    "#looking at the disrubtion curve\n",
    "warnings.filterwarnings('ignore')\n",
    "plt.figure(figsize=(16,5))\n",
    "plt.subplot(1,2,1)\n",
    "sns.distplot(df3['Gross Amount'])\n",
    "plt.subplot(1,2,2)\n",
    "sns.distplot(df3['Net Amount'])\n",
    "plt.show()"
   ]
  },
  {
   "cell_type": "code",
   "execution_count": 380,
   "id": "dca6ecec",
   "metadata": {},
   "outputs": [
    {
     "data": {
      "image/png": "[encoded data removed]",
      "text/plain": [
       "<Figure size 1152x360 with 2 Axes>"
      ]
     },
     "metadata": {
      "needs_background": "light"
     },
     "output_type": "display_data"
    }
   ],
   "source": [
    "warnings.filterwarnings('ignore')\n",
    "plt.figure(figsize=(16,5))\n",
    "plt.subplot(1,2,1)\n",
    "sns.boxplot(df3['Gross Amount'])\n",
    "plt.subplot(1,2,2)\n",
    "sns.boxplot(df3['Net Amount'])\n",
    "plt.show()"
   ]
  },
  {
   "cell_type": "markdown",
   "id": "c5d2cac4",
   "metadata": {},
   "source": [
    "- Again anomlaies here are good for the company"
   ]
  },
  {
   "cell_type": "markdown",
   "id": "4e2d8fe7",
   "metadata": {},
   "source": [
    "## Sheet 5 - Purchase"
   ]
  },
  {
   "cell_type": "code",
   "execution_count": 381,
   "id": "77916ab7",
   "metadata": {},
   "outputs": [
    {
     "data": {
      "image/png": "[encoded data removed]",
      "text/plain": [
       "<Figure size 1152x360 with 2 Axes>"
      ]
     },
     "metadata": {
      "needs_background": "light"
     },
     "output_type": "display_data"
    }
   ],
   "source": [
    "#looking at the disrubtion curve\n",
    "warnings.filterwarnings('ignore')\n",
    "plt.figure(figsize=(16,5))\n",
    "plt.subplot(1,2,1)\n",
    "sns.distplot(df6['Gross Amount'])\n",
    "plt.subplot(1,2,2)\n",
    "sns.distplot(df6['Net Amount'])\n",
    "plt.show()"
   ]
  },
  {
   "cell_type": "code",
   "execution_count": 382,
   "id": "f359f5c9",
   "metadata": {},
   "outputs": [
    {
     "data": {
      "image/png": "[encoded data removed]",
      "text/plain": [
       "<Figure size 1152x360 with 2 Axes>"
      ]
     },
     "metadata": {
      "needs_background": "light"
     },
     "output_type": "display_data"
    }
   ],
   "source": [
    "warnings.filterwarnings('ignore')\n",
    "plt.figure(figsize=(16,5))\n",
    "plt.subplot(1,2,1)\n",
    "sns.boxplot(df6['Gross Amount'])\n",
    "plt.subplot(1,2,2)\n",
    "sns.boxplot(df6['Net Amount'])\n",
    "plt.show()"
   ]
  },
  {
   "cell_type": "markdown",
   "id": "66e6ee71",
   "metadata": {},
   "source": [
    "## Sheet 6 - DataDump4\n"
   ]
  },
  {
   "cell_type": "code",
   "execution_count": 385,
   "id": "9fbd9537",
   "metadata": {
    "scrolled": true
   },
   "outputs": [
    {
     "data": {
      "image/png": "[encoded data removed]",
      "text/plain": [
       "<Figure size 1152x360 with 2 Axes>"
      ]
     },
     "metadata": {
      "needs_background": "light"
     },
     "output_type": "display_data"
    }
   ],
   "source": [
    "#looking at the disrubtion curve\n",
    "warnings.filterwarnings('ignore')\n",
    "plt.figure(figsize=(16,5))\n",
    "plt.subplot(1,2,1)\n",
    "sns.distplot(df4['amount'])\n",
    "plt.subplot(1,2,2)\n",
    "sns.boxplot(df4['amount'])\n",
    "plt.show()"
   ]
  },
  {
   "cell_type": "markdown",
   "id": "710f9997",
   "metadata": {},
   "source": [
    "### Step 4a: Downloading Cleaned Data"
   ]
  },
  {
   "cell_type": "code",
   "execution_count": 386,
   "id": "7b6a7f85",
   "metadata": {},
   "outputs": [],
   "source": [
    "df1.to_csv('Cleaned_CustomerLedger.csv', index=False)\n",
    "df2.to_csv('Cleaned_Customer.csv', index=False)\n",
    "df3.to_csv('Cleaned_CustomerWise.csv', index=False)\n",
    "df4.to_csv('Cleaned_DataDump.csv', index=False)\n",
    "df5.to_csv('Cleaned_Item.csv', index=False)\n",
    "df6.to_csv('Cleaned_Purchase.csv', index=False)"
   ]
  },
  {
   "cell_type": "markdown",
   "id": "49901b6a",
   "metadata": {},
   "source": [
    "# Step 5 Wrangling Analysis\n",
    "\n",
    "### - What have we gathered about the data so far?"
   ]
  },
  {
   "cell_type": "markdown",
   "id": "5ae24dea",
   "metadata": {},
   "source": [
    "- KPIS and Diminsions, we have also identified which sheets have KPIs and which are more rich in dimensions \n",
    "- Correlation between columns and the data sheets since many have similar columns\n",
    "- Anomalies in the data exist which is benefical considering there is a right skew in the data.\n",
    "- values present in the data\n",
    "- We also fixed missing value problems and extracted the columns vital for analysis\n",
    "- Most of the potential KPIs are skewed towards the right. This means that the smaller values occur in the data with higher frequency and the larger values occur with comparatively lesser frequency. This helps us identify pain areas of the business\n",
    "\n",
    "Further insights will be give via PowerBI and the document "
   ]
  }
 ],
 "metadata": {
  "kernelspec": {
   "display_name": "Python 3",
   "language": "python",
   "name": "python3"
  },
  "language_info": {
   "codemirror_mode": {
    "name": "ipython",
    "version": 3
   },
   "file_extension": ".py",
   "mimetype": "text/x-python",
   "name": "python",
   "nbconvert_exporter": "python",
   "pygments_lexer": "ipython3",
   "version": "3.8.8"
  }
 },
 "nbformat": 4,
 "nbformat_minor": 5
}
